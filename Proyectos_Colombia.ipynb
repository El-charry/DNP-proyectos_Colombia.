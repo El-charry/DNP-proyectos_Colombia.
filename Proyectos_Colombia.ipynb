{
 "cells": [
  {
   "cell_type": "markdown",
   "id": "3c5fd3fe",
   "metadata": {},
   "source": [
    "### 1) Carga del dataset"
   ]
  },
  {
   "cell_type": "code",
   "execution_count": 16,
   "id": "142d36d0",
   "metadata": {},
   "outputs": [
    {
     "data": {
      "application/vnd.microsoft.datawrangler.viewer.v0+json": {
       "columns": [
        {
         "name": "index",
         "rawType": "int64",
         "type": "integer"
        },
        {
         "name": "Bpin",
         "rawType": "object",
         "type": "string"
        },
        {
         "name": "NombreProyecto",
         "rawType": "object",
         "type": "string"
        },
        {
         "name": "ObjetivoGeneral",
         "rawType": "object",
         "type": "string"
        },
        {
         "name": "EstadoProyecto",
         "rawType": "object",
         "type": "string"
        },
        {
         "name": "Horizonte",
         "rawType": "object",
         "type": "string"
        },
        {
         "name": "Sector",
         "rawType": "object",
         "type": "string"
        },
        {
         "name": "EntidadResponsable",
         "rawType": "object",
         "type": "string"
        },
        {
         "name": "ProgramaPresupuestal",
         "rawType": "object",
         "type": "string"
        },
        {
         "name": "TipoProyecto",
         "rawType": "object",
         "type": "string"
        },
        {
         "name": "PlanDesarrolloNacional",
         "rawType": "object",
         "type": "string"
        },
        {
         "name": "ValorTotalProyecto",
         "rawType": "float64",
         "type": "float"
        },
        {
         "name": "ValorVigenteProyecto",
         "rawType": "float64",
         "type": "float"
        },
        {
         "name": "ValorObligacionProyecto",
         "rawType": "float64",
         "type": "float"
        },
        {
         "name": "ValorPagoProyecto",
         "rawType": "float64",
         "type": "float"
        },
        {
         "name": "SubEstadoProyecto",
         "rawType": "object",
         "type": "string"
        },
        {
         "name": "CodigoEntidadResponsable",
         "rawType": "object",
         "type": "string"
        },
        {
         "name": "TotalBeneficiario",
         "rawType": "float64",
         "type": "float"
        }
       ],
       "ref": "000820c7-764a-452c-9e22-b5562e995824",
       "rows": [
        [
         "0",
         "2019415240011",
         "Desarrollo Del  Programa De Transporte  Escolar  En El  Municipio De   Palermo Huila",
         "Garantizar a los menores y  los adolescentes del municipio de Palermo su derecho Constitucional de acceder a educación pública.",
         "En Ejecución",
         "2019-2019",
         "Educación",
         "PalermoHuila",
         "2201 CALIDAD, COBERTURA Y FORTALECIMIENTO DE LA EDUCACIÓN INICIAL, PRESCOLAR, BÁSICA Y MEDIA",
         "T",
         "Todos por un nuevo país (2014-2018)",
         "1000000000.0",
         "1000000000.0",
         "0.0",
         "0.0",
         "Inactivo  (PGN, Territorio)",
         "41524",
         "718.0"
        ],
        [
         "1",
         "2024503180038",
         "Estudios  Y Diseños Para La Construcción Del Centro De Discapacidad En El Municipio De   Guamal  Meta",
         "Mejorar los índices de calidad de vida de la población con discapacidad y de sus familias y/o cuidadores.",
         "En Ejecución",
         "2024-2025",
         "Inclusión Social Y Reconciliación",
         "GuamalMeta",
         "4103 INCLUSIÓN SOCIAL Y PRODUCTIVA PARA LA POBLACIÓN EN SITUACIÓN DE VULNERABILIDAD",
         "T",
         "Colombia Potencia Mundial de la Vida (2022-2026)",
         "203702324.46",
         "203702324.46",
         "50305912.36",
         "50305912.36",
         "En ejecución (PGN, Territorio)",
         "50318",
         "2700.0"
        ],
        [
         "2",
         "2022002700139",
         "Desarrollo De La Dimensión Vida Saludable Y Enfermedades Transmisibles - Enfermedades Emergentes Reemergentes Y Desatendidas Del Programa Salud Pública Prioritaria Y Diferente Vigencia 2023 En El Departamento De  Sucre",
         "Mejorar las condiciones de atención y protección en salud a la población del departamento de Sucre.",
         "En Ejecución",
         "2023-2023",
         "Salud Y Protección Social",
         "Sucre",
         "SALUD PÚBLICA",
         "T",
         "Pacto Por Colombia, Pacto por la Equidad (2019-2022)",
         "370066980.0",
         "370066980.0",
         "106499940.0",
         "106499940.0",
         "Inactivo  (PGN, Territorio)",
         "70",
         "981727.0"
        ],
        [
         "3",
         "2024735550002",
         "Mejoramiento De Las Condiones De Acciones Y Acceso Y Permanencia En El Sistema Educativo De La Población Estudiantil Del Resguardo Indigena Paez Nasa Wesx Del Corregimiento De Gaitania Municipio De  Planadas Tolima",
         "GTYBY",
         "Formulación",
         "2024-2024",
         "Educación",
         "PlanadasTolima",
         "2201 CALIDAD, COBERTURA Y FORTALECIMIENTO DE LA EDUCACIÓN INICIAL, PRESCOLAR, BÁSICA Y MEDIA",
         "T",
         "Colombia Potencia Mundial de la Vida (2022-2026)",
         "1000.0",
         "0.0",
         "0.0",
         "0.0",
         "Devuelto a MGA",
         "73555",
         "100.0"
        ],
        [
         "4",
         "2024202380105",
         "Desarrollo Y Fomento De La Cultura Local Del Municipio   El Copey",
         "Fortalecer la promoción de actividades artísticas y culturales en el municipio de El Copey Cesar",
         "En Ejecución",
         "2024-2024",
         "Cultura",
         "El CopeyCesar",
         "3301 PROMOCIÓN Y ACCESO EFECTIVO A PROCESOS CULTURALES Y ARTÍSTICOS",
         "T",
         "Colombia Potencia Mundial de la Vida (2022-2026)",
         "469820299.0",
         "469820299.0",
         "0.0",
         "0.0",
         "Inactivo  (PGN, Territorio)",
         "20238",
         "32624.0"
        ]
       ],
       "shape": {
        "columns": 17,
        "rows": 5
       }
      },
      "text/html": [
       "<div>\n",
       "<style scoped>\n",
       "    .dataframe tbody tr th:only-of-type {\n",
       "        vertical-align: middle;\n",
       "    }\n",
       "\n",
       "    .dataframe tbody tr th {\n",
       "        vertical-align: top;\n",
       "    }\n",
       "\n",
       "    .dataframe thead th {\n",
       "        text-align: right;\n",
       "    }\n",
       "</style>\n",
       "<table border=\"1\" class=\"dataframe\">\n",
       "  <thead>\n",
       "    <tr style=\"text-align: right;\">\n",
       "      <th></th>\n",
       "      <th>Bpin</th>\n",
       "      <th>NombreProyecto</th>\n",
       "      <th>ObjetivoGeneral</th>\n",
       "      <th>EstadoProyecto</th>\n",
       "      <th>Horizonte</th>\n",
       "      <th>Sector</th>\n",
       "      <th>EntidadResponsable</th>\n",
       "      <th>ProgramaPresupuestal</th>\n",
       "      <th>TipoProyecto</th>\n",
       "      <th>PlanDesarrolloNacional</th>\n",
       "      <th>ValorTotalProyecto</th>\n",
       "      <th>ValorVigenteProyecto</th>\n",
       "      <th>ValorObligacionProyecto</th>\n",
       "      <th>ValorPagoProyecto</th>\n",
       "      <th>SubEstadoProyecto</th>\n",
       "      <th>CodigoEntidadResponsable</th>\n",
       "      <th>TotalBeneficiario</th>\n",
       "    </tr>\n",
       "  </thead>\n",
       "  <tbody>\n",
       "    <tr>\n",
       "      <th>0</th>\n",
       "      <td>2019415240011</td>\n",
       "      <td>Desarrollo Del  Programa De Transporte  Escola...</td>\n",
       "      <td>Garantizar a los menores y  los adolescentes d...</td>\n",
       "      <td>En Ejecución</td>\n",
       "      <td>2019-2019</td>\n",
       "      <td>Educación</td>\n",
       "      <td>PalermoHuila</td>\n",
       "      <td>2201 CALIDAD, COBERTURA Y FORTALECIMIENTO DE L...</td>\n",
       "      <td>T</td>\n",
       "      <td>Todos por un nuevo país (2014-2018)</td>\n",
       "      <td>1.000000e+09</td>\n",
       "      <td>1.000000e+09</td>\n",
       "      <td>0.000000e+00</td>\n",
       "      <td>0.000000e+00</td>\n",
       "      <td>Inactivo  (PGN, Territorio)</td>\n",
       "      <td>41524</td>\n",
       "      <td>718.0</td>\n",
       "    </tr>\n",
       "    <tr>\n",
       "      <th>1</th>\n",
       "      <td>2024503180038</td>\n",
       "      <td>Estudios  Y Diseños Para La Construcción Del C...</td>\n",
       "      <td>Mejorar los índices de calidad de vida de la p...</td>\n",
       "      <td>En Ejecución</td>\n",
       "      <td>2024-2025</td>\n",
       "      <td>Inclusión Social Y Reconciliación</td>\n",
       "      <td>GuamalMeta</td>\n",
       "      <td>4103 INCLUSIÓN SOCIAL Y PRODUCTIVA PARA LA POB...</td>\n",
       "      <td>T</td>\n",
       "      <td>Colombia Potencia Mundial de la Vida (2022-2026)</td>\n",
       "      <td>2.037023e+08</td>\n",
       "      <td>2.037023e+08</td>\n",
       "      <td>5.030591e+07</td>\n",
       "      <td>5.030591e+07</td>\n",
       "      <td>En ejecución (PGN, Territorio)</td>\n",
       "      <td>50318</td>\n",
       "      <td>2700.0</td>\n",
       "    </tr>\n",
       "    <tr>\n",
       "      <th>2</th>\n",
       "      <td>2022002700139</td>\n",
       "      <td>Desarrollo De La Dimensión Vida Saludable Y En...</td>\n",
       "      <td>Mejorar las condiciones de atención y protecci...</td>\n",
       "      <td>En Ejecución</td>\n",
       "      <td>2023-2023</td>\n",
       "      <td>Salud Y Protección Social</td>\n",
       "      <td>Sucre</td>\n",
       "      <td>SALUD PÚBLICA</td>\n",
       "      <td>T</td>\n",
       "      <td>Pacto Por Colombia, Pacto por la Equidad (2019...</td>\n",
       "      <td>3.700670e+08</td>\n",
       "      <td>3.700670e+08</td>\n",
       "      <td>1.064999e+08</td>\n",
       "      <td>1.064999e+08</td>\n",
       "      <td>Inactivo  (PGN, Territorio)</td>\n",
       "      <td>70</td>\n",
       "      <td>981727.0</td>\n",
       "    </tr>\n",
       "    <tr>\n",
       "      <th>3</th>\n",
       "      <td>2024735550002</td>\n",
       "      <td>Mejoramiento De Las Condiones De Acciones Y Ac...</td>\n",
       "      <td>GTYBY</td>\n",
       "      <td>Formulación</td>\n",
       "      <td>2024-2024</td>\n",
       "      <td>Educación</td>\n",
       "      <td>PlanadasTolima</td>\n",
       "      <td>2201 CALIDAD, COBERTURA Y FORTALECIMIENTO DE L...</td>\n",
       "      <td>T</td>\n",
       "      <td>Colombia Potencia Mundial de la Vida (2022-2026)</td>\n",
       "      <td>1.000000e+03</td>\n",
       "      <td>0.000000e+00</td>\n",
       "      <td>0.000000e+00</td>\n",
       "      <td>0.000000e+00</td>\n",
       "      <td>Devuelto a MGA</td>\n",
       "      <td>73555</td>\n",
       "      <td>100.0</td>\n",
       "    </tr>\n",
       "    <tr>\n",
       "      <th>4</th>\n",
       "      <td>2024202380105</td>\n",
       "      <td>Desarrollo Y Fomento De La Cultura Local Del M...</td>\n",
       "      <td>Fortalecer la promoción de actividades artísti...</td>\n",
       "      <td>En Ejecución</td>\n",
       "      <td>2024-2024</td>\n",
       "      <td>Cultura</td>\n",
       "      <td>El CopeyCesar</td>\n",
       "      <td>3301 PROMOCIÓN Y ACCESO EFECTIVO A PROCESOS CU...</td>\n",
       "      <td>T</td>\n",
       "      <td>Colombia Potencia Mundial de la Vida (2022-2026)</td>\n",
       "      <td>4.698203e+08</td>\n",
       "      <td>4.698203e+08</td>\n",
       "      <td>0.000000e+00</td>\n",
       "      <td>0.000000e+00</td>\n",
       "      <td>Inactivo  (PGN, Territorio)</td>\n",
       "      <td>20238</td>\n",
       "      <td>32624.0</td>\n",
       "    </tr>\n",
       "  </tbody>\n",
       "</table>\n",
       "</div>"
      ],
      "text/plain": [
       "            Bpin                                     NombreProyecto  \\\n",
       "0  2019415240011  Desarrollo Del  Programa De Transporte  Escola...   \n",
       "1  2024503180038  Estudios  Y Diseños Para La Construcción Del C...   \n",
       "2  2022002700139  Desarrollo De La Dimensión Vida Saludable Y En...   \n",
       "3  2024735550002  Mejoramiento De Las Condiones De Acciones Y Ac...   \n",
       "4  2024202380105  Desarrollo Y Fomento De La Cultura Local Del M...   \n",
       "\n",
       "                                     ObjetivoGeneral EstadoProyecto  \\\n",
       "0  Garantizar a los menores y  los adolescentes d...   En Ejecución   \n",
       "1  Mejorar los índices de calidad de vida de la p...   En Ejecución   \n",
       "2  Mejorar las condiciones de atención y protecci...   En Ejecución   \n",
       "3                                              GTYBY    Formulación   \n",
       "4  Fortalecer la promoción de actividades artísti...   En Ejecución   \n",
       "\n",
       "   Horizonte                             Sector EntidadResponsable  \\\n",
       "0  2019-2019                          Educación       PalermoHuila   \n",
       "1  2024-2025  Inclusión Social Y Reconciliación         GuamalMeta   \n",
       "2  2023-2023          Salud Y Protección Social              Sucre   \n",
       "3  2024-2024                          Educación     PlanadasTolima   \n",
       "4  2024-2024                            Cultura      El CopeyCesar   \n",
       "\n",
       "                                ProgramaPresupuestal TipoProyecto  \\\n",
       "0  2201 CALIDAD, COBERTURA Y FORTALECIMIENTO DE L...            T   \n",
       "1  4103 INCLUSIÓN SOCIAL Y PRODUCTIVA PARA LA POB...            T   \n",
       "2                                      SALUD PÚBLICA            T   \n",
       "3  2201 CALIDAD, COBERTURA Y FORTALECIMIENTO DE L...            T   \n",
       "4  3301 PROMOCIÓN Y ACCESO EFECTIVO A PROCESOS CU...            T   \n",
       "\n",
       "                              PlanDesarrolloNacional  ValorTotalProyecto  \\\n",
       "0                Todos por un nuevo país (2014-2018)        1.000000e+09   \n",
       "1   Colombia Potencia Mundial de la Vida (2022-2026)        2.037023e+08   \n",
       "2  Pacto Por Colombia, Pacto por la Equidad (2019...        3.700670e+08   \n",
       "3   Colombia Potencia Mundial de la Vida (2022-2026)        1.000000e+03   \n",
       "4   Colombia Potencia Mundial de la Vida (2022-2026)        4.698203e+08   \n",
       "\n",
       "   ValorVigenteProyecto  ValorObligacionProyecto  ValorPagoProyecto  \\\n",
       "0          1.000000e+09             0.000000e+00       0.000000e+00   \n",
       "1          2.037023e+08             5.030591e+07       5.030591e+07   \n",
       "2          3.700670e+08             1.064999e+08       1.064999e+08   \n",
       "3          0.000000e+00             0.000000e+00       0.000000e+00   \n",
       "4          4.698203e+08             0.000000e+00       0.000000e+00   \n",
       "\n",
       "                SubEstadoProyecto CodigoEntidadResponsable  TotalBeneficiario  \n",
       "0     Inactivo  (PGN, Territorio)                    41524              718.0  \n",
       "1  En ejecución (PGN, Territorio)                    50318             2700.0  \n",
       "2     Inactivo  (PGN, Territorio)                       70           981727.0  \n",
       "3                  Devuelto a MGA                    73555              100.0  \n",
       "4     Inactivo  (PGN, Territorio)                    20238            32624.0  "
      ]
     },
     "execution_count": 16,
     "metadata": {},
     "output_type": "execute_result"
    }
   ],
   "source": [
    "import pandas as pd\n",
    "import matplotlib.pyplot as plt\n",
    "import numpy as np\n",
    "import seaborn as sns\n",
    "import plotly.express as px\n",
    "import plotly.colors as pc\n",
    "import plotly.graph_objects as go\n",
    "from plotly.subplots import make_subplots\n",
    "\n",
    "\n",
    "file = r\"C:\\Users\\diego\\OneDrive\\Escritorio\\proyectoDatos\\DNP-proyectos_Colombia.csv\"\n",
    "df = pd.read_csv(file, encoding=\"utf-8\")\n",
    "df.head()"
   ]
  },
  {
   "cell_type": "markdown",
   "id": "cb7d3478",
   "metadata": {},
   "source": [
    "### 2) Limpieza de datos"
   ]
  },
  {
   "cell_type": "code",
   "execution_count": 17,
   "id": "d91b1ec1",
   "metadata": {},
   "outputs": [],
   "source": [
    "#Eliminacion de columnas que no agregan valor\n",
    "cols_to_drop = [\n",
    "    \"ObjetivoGeneral\",\n",
    "    \"ProgramaPresupuestal\",\n",
    "    \"TipoProyecto\",\n",
    "    \"SubEstadoProyecto\",\n",
    "    \"CodigoEntidadResponsable\"\n",
    "]\n",
    "\n",
    "df = df.drop(columns=cols_to_drop)\n",
    "\n"
   ]
  },
  {
   "cell_type": "code",
   "execution_count": 18,
   "id": "ab14909e",
   "metadata": {},
   "outputs": [
    {
     "data": {
      "application/vnd.microsoft.datawrangler.viewer.v0+json": {
       "columns": [
        {
         "name": "index",
         "rawType": "int64",
         "type": "integer"
        },
        {
         "name": "Bpin",
         "rawType": "object",
         "type": "string"
        },
        {
         "name": "NombreProyecto",
         "rawType": "object",
         "type": "string"
        },
        {
         "name": "EstadoProyecto",
         "rawType": "object",
         "type": "string"
        },
        {
         "name": "Inicio",
         "rawType": "object",
         "type": "string"
        },
        {
         "name": "Fin",
         "rawType": "object",
         "type": "string"
        },
        {
         "name": "Sector",
         "rawType": "object",
         "type": "string"
        },
        {
         "name": "EntidadResponsable",
         "rawType": "object",
         "type": "string"
        },
        {
         "name": "PlanDesarrolloNacional",
         "rawType": "object",
         "type": "string"
        },
        {
         "name": "ValorTotalProyecto",
         "rawType": "float64",
         "type": "float"
        },
        {
         "name": "ValorVigenteProyecto",
         "rawType": "float64",
         "type": "float"
        },
        {
         "name": "ValorObligacionProyecto",
         "rawType": "float64",
         "type": "float"
        },
        {
         "name": "ValorPagoProyecto",
         "rawType": "float64",
         "type": "float"
        },
        {
         "name": "TotalBeneficiario",
         "rawType": "float64",
         "type": "float"
        }
       ],
       "ref": "29c15f1f-ffb0-4f87-b6d0-3f761864ae7e",
       "rows": [
        [
         "0",
         "2019415240011",
         "Desarrollo Del  Programa De Transporte  Escolar  En El  Municipio De   Palermo Huila",
         "En Ejecución",
         "2019",
         "2019",
         "Educación",
         "PalermoHuila",
         "Todos por un nuevo país (2014-2018)",
         "1000000000.0",
         "1000000000.0",
         "0.0",
         "0.0",
         "718.0"
        ],
        [
         "1",
         "2024503180038",
         "Estudios  Y Diseños Para La Construcción Del Centro De Discapacidad En El Municipio De   Guamal  Meta",
         "En Ejecución",
         "2024",
         "2025",
         "Inclusión Social Y Reconciliación",
         "GuamalMeta",
         "Colombia Potencia Mundial de la Vida (2022-2026)",
         "203702324.46",
         "203702324.46",
         "50305912.36",
         "50305912.36",
         "2700.0"
        ],
        [
         "2",
         "2022002700139",
         "Desarrollo De La Dimensión Vida Saludable Y Enfermedades Transmisibles - Enfermedades Emergentes Reemergentes Y Desatendidas Del Programa Salud Pública Prioritaria Y Diferente Vigencia 2023 En El Departamento De  Sucre",
         "En Ejecución",
         "2023",
         "2023",
         "Salud Y Protección Social",
         "Sucre",
         "Pacto Por Colombia, Pacto por la Equidad (2019-2022)",
         "370066980.0",
         "370066980.0",
         "106499940.0",
         "106499940.0",
         "981727.0"
        ],
        [
         "3",
         "2024735550002",
         "Mejoramiento De Las Condiones De Acciones Y Acceso Y Permanencia En El Sistema Educativo De La Población Estudiantil Del Resguardo Indigena Paez Nasa Wesx Del Corregimiento De Gaitania Municipio De  Planadas Tolima",
         "Formulación",
         "2024",
         "2024",
         "Educación",
         "PlanadasTolima",
         "Colombia Potencia Mundial de la Vida (2022-2026)",
         "1000.0",
         "0.0",
         "0.0",
         "0.0",
         "100.0"
        ],
        [
         "4",
         "2024202380105",
         "Desarrollo Y Fomento De La Cultura Local Del Municipio   El Copey",
         "En Ejecución",
         "2024",
         "2024",
         "Cultura",
         "El CopeyCesar",
         "Colombia Potencia Mundial de la Vida (2022-2026)",
         "469820299.0",
         "469820299.0",
         "0.0",
         "0.0",
         "32624.0"
        ]
       ],
       "shape": {
        "columns": 13,
        "rows": 5
       }
      },
      "text/html": [
       "<div>\n",
       "<style scoped>\n",
       "    .dataframe tbody tr th:only-of-type {\n",
       "        vertical-align: middle;\n",
       "    }\n",
       "\n",
       "    .dataframe tbody tr th {\n",
       "        vertical-align: top;\n",
       "    }\n",
       "\n",
       "    .dataframe thead th {\n",
       "        text-align: right;\n",
       "    }\n",
       "</style>\n",
       "<table border=\"1\" class=\"dataframe\">\n",
       "  <thead>\n",
       "    <tr style=\"text-align: right;\">\n",
       "      <th></th>\n",
       "      <th>Bpin</th>\n",
       "      <th>NombreProyecto</th>\n",
       "      <th>EstadoProyecto</th>\n",
       "      <th>Inicio</th>\n",
       "      <th>Fin</th>\n",
       "      <th>Sector</th>\n",
       "      <th>EntidadResponsable</th>\n",
       "      <th>PlanDesarrolloNacional</th>\n",
       "      <th>ValorTotalProyecto</th>\n",
       "      <th>ValorVigenteProyecto</th>\n",
       "      <th>ValorObligacionProyecto</th>\n",
       "      <th>ValorPagoProyecto</th>\n",
       "      <th>TotalBeneficiario</th>\n",
       "    </tr>\n",
       "  </thead>\n",
       "  <tbody>\n",
       "    <tr>\n",
       "      <th>0</th>\n",
       "      <td>2019415240011</td>\n",
       "      <td>Desarrollo Del  Programa De Transporte  Escola...</td>\n",
       "      <td>En Ejecución</td>\n",
       "      <td>2019</td>\n",
       "      <td>2019</td>\n",
       "      <td>Educación</td>\n",
       "      <td>PalermoHuila</td>\n",
       "      <td>Todos por un nuevo país (2014-2018)</td>\n",
       "      <td>1.000000e+09</td>\n",
       "      <td>1.000000e+09</td>\n",
       "      <td>0.000000e+00</td>\n",
       "      <td>0.000000e+00</td>\n",
       "      <td>718.0</td>\n",
       "    </tr>\n",
       "    <tr>\n",
       "      <th>1</th>\n",
       "      <td>2024503180038</td>\n",
       "      <td>Estudios  Y Diseños Para La Construcción Del C...</td>\n",
       "      <td>En Ejecución</td>\n",
       "      <td>2024</td>\n",
       "      <td>2025</td>\n",
       "      <td>Inclusión Social Y Reconciliación</td>\n",
       "      <td>GuamalMeta</td>\n",
       "      <td>Colombia Potencia Mundial de la Vida (2022-2026)</td>\n",
       "      <td>2.037023e+08</td>\n",
       "      <td>2.037023e+08</td>\n",
       "      <td>5.030591e+07</td>\n",
       "      <td>5.030591e+07</td>\n",
       "      <td>2700.0</td>\n",
       "    </tr>\n",
       "    <tr>\n",
       "      <th>2</th>\n",
       "      <td>2022002700139</td>\n",
       "      <td>Desarrollo De La Dimensión Vida Saludable Y En...</td>\n",
       "      <td>En Ejecución</td>\n",
       "      <td>2023</td>\n",
       "      <td>2023</td>\n",
       "      <td>Salud Y Protección Social</td>\n",
       "      <td>Sucre</td>\n",
       "      <td>Pacto Por Colombia, Pacto por la Equidad (2019...</td>\n",
       "      <td>3.700670e+08</td>\n",
       "      <td>3.700670e+08</td>\n",
       "      <td>1.064999e+08</td>\n",
       "      <td>1.064999e+08</td>\n",
       "      <td>981727.0</td>\n",
       "    </tr>\n",
       "    <tr>\n",
       "      <th>3</th>\n",
       "      <td>2024735550002</td>\n",
       "      <td>Mejoramiento De Las Condiones De Acciones Y Ac...</td>\n",
       "      <td>Formulación</td>\n",
       "      <td>2024</td>\n",
       "      <td>2024</td>\n",
       "      <td>Educación</td>\n",
       "      <td>PlanadasTolima</td>\n",
       "      <td>Colombia Potencia Mundial de la Vida (2022-2026)</td>\n",
       "      <td>1.000000e+03</td>\n",
       "      <td>0.000000e+00</td>\n",
       "      <td>0.000000e+00</td>\n",
       "      <td>0.000000e+00</td>\n",
       "      <td>100.0</td>\n",
       "    </tr>\n",
       "    <tr>\n",
       "      <th>4</th>\n",
       "      <td>2024202380105</td>\n",
       "      <td>Desarrollo Y Fomento De La Cultura Local Del M...</td>\n",
       "      <td>En Ejecución</td>\n",
       "      <td>2024</td>\n",
       "      <td>2024</td>\n",
       "      <td>Cultura</td>\n",
       "      <td>El CopeyCesar</td>\n",
       "      <td>Colombia Potencia Mundial de la Vida (2022-2026)</td>\n",
       "      <td>4.698203e+08</td>\n",
       "      <td>4.698203e+08</td>\n",
       "      <td>0.000000e+00</td>\n",
       "      <td>0.000000e+00</td>\n",
       "      <td>32624.0</td>\n",
       "    </tr>\n",
       "  </tbody>\n",
       "</table>\n",
       "</div>"
      ],
      "text/plain": [
       "            Bpin                                     NombreProyecto  \\\n",
       "0  2019415240011  Desarrollo Del  Programa De Transporte  Escola...   \n",
       "1  2024503180038  Estudios  Y Diseños Para La Construcción Del C...   \n",
       "2  2022002700139  Desarrollo De La Dimensión Vida Saludable Y En...   \n",
       "3  2024735550002  Mejoramiento De Las Condiones De Acciones Y Ac...   \n",
       "4  2024202380105  Desarrollo Y Fomento De La Cultura Local Del M...   \n",
       "\n",
       "  EstadoProyecto Inicio   Fin                             Sector  \\\n",
       "0   En Ejecución   2019  2019                          Educación   \n",
       "1   En Ejecución   2024  2025  Inclusión Social Y Reconciliación   \n",
       "2   En Ejecución   2023  2023          Salud Y Protección Social   \n",
       "3    Formulación   2024  2024                          Educación   \n",
       "4   En Ejecución   2024  2024                            Cultura   \n",
       "\n",
       "  EntidadResponsable                             PlanDesarrolloNacional  \\\n",
       "0       PalermoHuila                Todos por un nuevo país (2014-2018)   \n",
       "1         GuamalMeta   Colombia Potencia Mundial de la Vida (2022-2026)   \n",
       "2              Sucre  Pacto Por Colombia, Pacto por la Equidad (2019...   \n",
       "3     PlanadasTolima   Colombia Potencia Mundial de la Vida (2022-2026)   \n",
       "4      El CopeyCesar   Colombia Potencia Mundial de la Vida (2022-2026)   \n",
       "\n",
       "   ValorTotalProyecto  ValorVigenteProyecto  ValorObligacionProyecto  \\\n",
       "0        1.000000e+09          1.000000e+09             0.000000e+00   \n",
       "1        2.037023e+08          2.037023e+08             5.030591e+07   \n",
       "2        3.700670e+08          3.700670e+08             1.064999e+08   \n",
       "3        1.000000e+03          0.000000e+00             0.000000e+00   \n",
       "4        4.698203e+08          4.698203e+08             0.000000e+00   \n",
       "\n",
       "   ValorPagoProyecto  TotalBeneficiario  \n",
       "0       0.000000e+00              718.0  \n",
       "1       5.030591e+07             2700.0  \n",
       "2       1.064999e+08           981727.0  \n",
       "3       0.000000e+00              100.0  \n",
       "4       0.000000e+00            32624.0  "
      ]
     },
     "metadata": {},
     "output_type": "display_data"
    }
   ],
   "source": [
    "\"\"\"Este codigo se hizo para separa la columna Horizonte en dos columnas'Inicio' y 'Fin'\"\"\"\n",
    "# 1) Crear 'Inicio' y 'Fin' desde 'Horizonte' y eliminar 'Horizonte' de una vez\n",
    "df[['Inicio', 'Fin']] = df.pop('Horizonte').str.split('-', n=1, expand=True)\n",
    "\n",
    "# (opcional) limpiar espacios\n",
    "df['Inicio'] = df['Inicio'].str.strip()\n",
    "df['Fin']    = df['Fin'].str.strip()\n",
    "\n",
    "# 2) Mover 'Inicio' y 'Fin' para que queden justo antes de 'Sector'\n",
    "sector_pos = df.columns.get_loc('Sector')\n",
    "df.insert(sector_pos,     'Inicio', df.pop('Inicio'))\n",
    "df.insert(sector_pos + 1, 'Fin',    df.pop('Fin'))\n",
    "\n",
    "display(df.head())\n",
    "\n"
   ]
  },
  {
   "cell_type": "code",
   "execution_count": 19,
   "id": "e3ed271f",
   "metadata": {},
   "outputs": [
    {
     "data": {
      "application/vnd.microsoft.datawrangler.viewer.v0+json": {
       "columns": [
        {
         "name": "index",
         "rawType": "int64",
         "type": "integer"
        },
        {
         "name": "Bpin",
         "rawType": "object",
         "type": "string"
        },
        {
         "name": "NombreProyecto",
         "rawType": "object",
         "type": "string"
        },
        {
         "name": "EstadoProyecto",
         "rawType": "object",
         "type": "string"
        },
        {
         "name": "Inicio",
         "rawType": "object",
         "type": "string"
        },
        {
         "name": "Fin",
         "rawType": "int32",
         "type": "integer"
        },
        {
         "name": "Sector",
         "rawType": "object",
         "type": "string"
        },
        {
         "name": "EntidadResponsable",
         "rawType": "object",
         "type": "unknown"
        },
        {
         "name": "PlanDesarrolloNacional",
         "rawType": "object",
         "type": "unknown"
        },
        {
         "name": "ValorTotalProyecto",
         "rawType": "float64",
         "type": "float"
        },
        {
         "name": "ValorVigenteProyecto",
         "rawType": "float64",
         "type": "float"
        },
        {
         "name": "ValorObligacionProyecto",
         "rawType": "float64",
         "type": "float"
        },
        {
         "name": "ValorPagoProyecto",
         "rawType": "float64",
         "type": "float"
        },
        {
         "name": "TotalBeneficiario",
         "rawType": "float64",
         "type": "float"
        }
       ],
       "ref": "97a90cc7-8368-44d1-9805-9665aaa5b7e5",
       "rows": [
        [
         "0",
         "2019415240011",
         "Desarrollo Del  Programa De Transporte  Escolar  En El  Municipio De   Palermo Huila",
         "En Ejecución",
         "2019",
         "2019",
         "Educación",
         "PalermoHuila",
         "Todos por un nuevo país (2014-2018)",
         "1000000000.0",
         "1000000000.0",
         "0.0",
         "0.0",
         "718.0"
        ],
        [
         "1",
         "2024503180038",
         "Estudios  Y Diseños Para La Construcción Del Centro De Discapacidad En El Municipio De   Guamal  Meta",
         "En Ejecución",
         "2024",
         "2025",
         "Inclusión Social Y Reconciliación",
         "GuamalMeta",
         "Colombia Potencia Mundial de la Vida (2022-2026)",
         "203702324.46",
         "203702324.46",
         "50305912.36",
         "50305912.36",
         "2700.0"
        ],
        [
         "2",
         "2022002700139",
         "Desarrollo De La Dimensión Vida Saludable Y Enfermedades Transmisibles - Enfermedades Emergentes Reemergentes Y Desatendidas Del Programa Salud Pública Prioritaria Y Diferente Vigencia 2023 En El Departamento De  Sucre",
         "En Ejecución",
         "2023",
         "2023",
         "Salud Y Protección Social",
         "Sucre",
         "Pacto Por Colombia, Pacto por la Equidad (2019-2022)",
         "370066980.0",
         "370066980.0",
         "106499940.0",
         "106499940.0",
         "981727.0"
        ],
        [
         "3",
         "2024735550002",
         "Mejoramiento De Las Condiones De Acciones Y Acceso Y Permanencia En El Sistema Educativo De La Población Estudiantil Del Resguardo Indigena Paez Nasa Wesx Del Corregimiento De Gaitania Municipio De  Planadas Tolima",
         "Formulación",
         "2024",
         "2024",
         "Educación",
         "PlanadasTolima",
         "Colombia Potencia Mundial de la Vida (2022-2026)",
         "1000.0",
         "0.0",
         "0.0",
         "0.0",
         "100.0"
        ],
        [
         "4",
         "2024202380105",
         "Desarrollo Y Fomento De La Cultura Local Del Municipio   El Copey",
         "En Ejecución",
         "2024",
         "2024",
         "Cultura",
         "El CopeyCesar",
         "Colombia Potencia Mundial de la Vida (2022-2026)",
         "469820299.0",
         "469820299.0",
         "0.0",
         "0.0",
         "32624.0"
        ],
        [
         "5",
         "2019522870015",
         "Suministro De Materiales De Ferretería Y De Cantera Para La Adecuación De Varios Puntos Álgidos No Continuos Sobre Las Vías Que Conducen A La Soledad Y Guapuscal Bajo Que Necesitan Ser Intervenidos Para El Transito Seguro En El Municipio De  Funes",
         "Formulación",
         "2019",
         "2019",
         "Transporte",
         "FunesNariño",
         "Todos por un nuevo país (2014-2018)",
         "68796600.0",
         "0.0",
         "0.0",
         "0.0",
         "4500.0"
        ],
        [
         "6",
         "2022862190016",
         "Adecuación  De Las Instalaciones Del Estadio Jesus Maria Cabal En El Muicipio De Colon  Colon",
         "En Ejecución",
         "2022",
         "2022",
         "Deporte Y Recreación",
         "ColónPutumayo",
         "Pacto Por Colombia, Pacto por la Equidad (2019-2022)",
         "15346286.8",
         "15346286.8",
         "0.0",
         "0.0",
         "5530.0"
        ],
        [
         "7",
         "2021760540027",
         "Desarrollo Del Programa Unidos Haremos Más Desarrollo Social - Sector Cultura Del Municipio De Argelia  Valle Del Cauca",
         "En Ejecución",
         "2022",
         "2022",
         "Cultura",
         "ArgeliaValle del Cauca",
         "Pacto Por Colombia, Pacto por la Equidad (2019-2022)",
         "160291016.22",
         "160291016.22",
         "72050446.0",
         "52310000.0",
         "1809.0"
        ],
        [
         "8",
         "2018235700040",
         "Reposicin De Redes De Alcantarillado En La Transversal 11 Entre Calles 17a Y Calle 18b Entre Barrio El Carmen Y Av. Jose Ines Torres Del Municipio De Pueblo Nuevo Departamento De   Cordoba",
         "En Ejecución",
         "2018",
         "2018",
         "Vivienda, Ciudad Y Territorio",
         "Pueblo NuevoCórdoba",
         "Todos por un nuevo país (2014-2018)",
         "161084920.0",
         "161084920.0",
         "0.0",
         "0.0",
         "529.0"
        ],
        [
         "9",
         "2018195170002",
         "Fortalecimiento De Los Procesos Y Las Escuelas De Formación Deportiva En Diferentes Disciplinas.  Paez",
         "Formulación",
         "2018",
         "2018",
         "Deporte Y Recreación",
         "PáezCauca",
         "Todos por un nuevo país (2014-2018)",
         "273300000.0",
         "0.0",
         "0.0",
         "0.0",
         "350.0"
        ],
        [
         "10",
         "2019003170007",
         "Administración Y Operación Del Fondo De Gestión Del Riesgo De Desastres Del Departamento  Caldas",
         "Formulación",
         "2019",
         "2019",
         "Presidencia De La República",
         "Caldas",
         "Todos por un nuevo país (2014-2018)",
         "787500000.0",
         "0.0",
         "0.0",
         "0.0",
         "8000.0"
        ],
        [
         "11",
         "2021050510025",
         "Prestación De Servicios Profesionales En El Diseño De Políticas Recuperación Y Fortalecimiento Del Medio Ambiente En El Municipio De  Arboletes",
         "En Ejecución",
         "2021",
         "2021",
         "Gobierno Territorial",
         "ArboletesAntioquia",
         "Pacto Por Colombia, Pacto por la Equidad (2019-2022)",
         "6100000.0",
         "6100000.0",
         "0.0",
         "0.0",
         "30984.0"
        ],
        [
         "12",
         "2023730300005",
         "Construcción De Una Cancha De Fútbol En El Municipio De Ambalema  Tolima",
         "Formulación",
         "2023",
         "2023",
         "Deporte Y Recreación",
         "AmbalemaTolima",
         "Colombia Potencia Mundial de la Vida (2022-2026)",
         "5834501762.0",
         "0.0",
         "0.0",
         "0.0",
         "6610.0"
        ],
        [
         "13",
         "2024505770028",
         "Implementación De Acciones Estratégicas Para Garantizar El Goce Efectivo De Los Derechos De Las Familias Del Municipio De   Puerto Lleras Meta",
         "En Ejecución",
         "2024",
         "2025",
         "Inclusión Social Y Reconciliación",
         "Puerto LlerasMeta",
         "Colombia Potencia Mundial de la Vida (2022-2026)",
         "60000000.0",
         "60000000.0",
         "10000000.0",
         "10000000.0",
         "7960.0"
        ],
        [
         "14",
         "2022056590068",
         "Construcción Puente Vehicular Pachacas Sobre El Rio San Juancito San Juan De Urabá.  San Juan De Uraba",
         "Formulación",
         "2022",
         "2022",
         "Transporte",
         "San Juan de UrabáAntioquia",
         "Pacto Por Colombia, Pacto por la Equidad (2019-2022)",
         "3648023419.0",
         "0.0",
         "0.0",
         "0.0",
         "760.0"
        ],
        [
         "15",
         "2023761090153",
         "Adecuación Del Centro  De Atención  De La  Biodiversidad En San Cipriano  Zona Rural Del Distrito Especial De   Buenaventura",
         "Formulación",
         "2023",
         "2023",
         "Ambiente Y Desarrollo Sostenible",
         "BuenaventuraValle del Cauca",
         "Colombia Potencia Mundial de la Vida (2022-2026)",
         "76000000.0",
         "0.0",
         "0.0",
         "0.0",
         "1328.0"
        ],
        [
         "16",
         "2021761090527",
         "Prevención De Reclutamiento Forzado A Nna Víctimas Del Distrito Especial De   Buenaventura",
         "En Ejecución",
         "2022",
         "2022",
         "Inclusión Social Y Reconciliación",
         "BuenaventuraValle del Cauca",
         "Pacto Por Colombia, Pacto por la Equidad (2019-2022)",
         "105000000.0",
         "105000000.0",
         "0.0",
         "0.0",
         "400.0"
        ],
        [
         "17",
         "202500000026394",
         "Prestación De Servicio De Extención Agropecuaria A Pequeños Y Medianos Productores Del Municipio De   Sampués",
         "Viable",
         "2025",
         "2025",
         "Agricultura Y Desarrollo Rural",
         "SampuésSucre",
         "Colombia Potencia Mundial de la Vida (2022-2026)",
         "210000000.0",
         "0.0",
         "0.0",
         "0.0",
         "180.0"
        ],
        [
         "18",
         "2020810650078",
         "Diseño E Implementación De Una Plataforma Web Para La Liquidación Y Redirecccionamiento Al Pago De Impuesto De Industria Y Comercio Para El Municipio De Arauquita Departamento De   Arauca",
         "Formulación",
         "2020",
         "2020",
         "Hacienda",
         "ArauquitaArauca",
         "Pacto Por Colombia, Pacto por la Equidad (2019-2022)",
         "24700000.0",
         "0.0",
         "0.0",
         "0.0",
         "56209.0"
        ],
        [
         "19",
         "2022865680143",
         "Apoyo A La Junta De Acción Comunal Mediante El Mantenimiento De Vía Rural De La Vereda Los Alamos En El Tramo K 2 + 200 Hasta K 2 + 653 Del Municipio De Puerto Asís Departamento Del  Putumayo",
         "En Ejecución",
         "2022",
         "2022",
         "Transporte",
         "Puerto AsísPutumayo",
         "Pacto Por Colombia, Pacto por la Equidad (2019-2022)",
         "18518626.0",
         "18518626.0",
         "0.0",
         "0.0",
         "72.0"
        ],
        [
         "20",
         "2021204000027",
         "Implementación Del Plan Territorial De Salud Pública Vigencia 2021 Del Municipio De La Jagua De Ibirico Cesar  La Jagua De Ibirico",
         "Formulación",
         "2021",
         "2021",
         "Salud Y Protección Social",
         "La Jagua de IbiricoCesar",
         "Pacto Por Colombia, Pacto por la Equidad (2019-2022)",
         "513100000.0",
         "0.0",
         "0.0",
         "0.0",
         "46722.0"
        ],
        [
         "21",
         "2017520190026",
         "Apoyo Programa De Alimentación Escolar (Pae) Para Las Instituciones Educativas Del Municipio De Alban  Alban",
         "Formulación",
         "2017",
         "2017",
         "Educación",
         "AlbánNariño",
         "Todos por un nuevo país (2014-2018)",
         "150000000.0",
         "0.0",
         "0.0",
         "0.0",
         "1474.0"
        ],
        [
         "22",
         "2023520510027",
         "Dotación De Equipo Biomedico Para La Ese Centro De Salud San Miguel  Arboleda",
         "Terminado",
         "2023",
         "2023",
         "Salud Y Protección Social",
         "ArboledaNariño",
         "Colombia Potencia Mundial de la Vida (2022-2026)",
         "506940950.0",
         "506940950.0",
         "0.0",
         "506940950.0",
         "9025.0"
        ],
        [
         "23",
         "2019253280059",
         "Formulación  De Acciones Para La Justicia Seguridad Convivencia  Ciudadana  Año 2016 En El Municipio De Guayabal De Siquima Departamento De   Cundinamarca",
         "Formulación",
         "2016",
         "2016",
         "Justicia Y Del Derecho",
         "Guayabal de SíquimaCundinamarca",
         "Todos por un nuevo país (2014-2018)",
         "354645003.81",
         "0.0",
         "0.0",
         "0.0",
         "3644.0"
        ],
        [
         "24",
         "2023253940003",
         "Mejoramiento De La Vía Que Conduce Desde La Vereda Minipi De Quijano A La Vereda La Enfadosa Sector Donde Varilla Del Municipio De La Palma   La Palma",
         "Formulación",
         "2023",
         "2023",
         "Transporte",
         "La PalmaCundinamarca",
         "Colombia Potencia Mundial de la Vida (2022-2026)",
         "125471836.0",
         "0.0",
         "0.0",
         "0.0",
         "175.0"
        ],
        [
         "25",
         "202500000018378",
         "Mejoramiento De Vía Terciaria En Pavimento Rigido En Bondigua-Paso Del Mango Municipio De Santa Marta Departamento Del  Magdalena",
         "Viable",
         "2025",
         "2025",
         "Transporte",
         "Santa MartaMagdalena",
         "Colombia Potencia Mundial de la Vida (2022-2026)",
         "7135864349.8",
         "0.0",
         "0.0",
         "0.0",
         "5288.0"
        ],
        [
         "26",
         "2023155990031",
         "Protección Y Recuperación De Áreas  En Ecosistemas Estratégicos En El Municipio  Ramiriquí Boyacá",
         "Terminado",
         "2023",
         "2023",
         "Ambiente Y Desarrollo Sostenible",
         "RamiriquíBoyacá",
         "Colombia Potencia Mundial de la Vida (2022-2026)",
         "434624716.27",
         "434658221.68",
         "0.0",
         "434624716.27",
         "9421.0"
        ],
        [
         "27",
         "2021174950043",
         "Construcción De Obras De Mitigación Del Riesgo En El Municipio De   Norcasia",
         "En Ejecución",
         "2022",
         "2023",
         "Gobierno Territorial",
         "NorcasiaCaldas",
         "Pacto Por Colombia, Pacto por la Equidad (2019-2022)",
         "384798770.48",
         "384798770.48",
         "261533682.44",
         "261533682.44",
         "50.0"
        ],
        [
         "28",
         "2022157610023",
         "Apoyo A La Promoción De Los Métodos De Resolución De Conflictos En El Municipio De  Somondoco",
         "En Ejecución",
         "2023",
         "2023",
         "Justicia Y Del Derecho",
         "SomondocoBoyacá",
         "Pacto Por Colombia, Pacto por la Equidad (2019-2022)",
         "32758626.0",
         "32758626.0",
         "16821235.0",
         "16821235.0",
         "543.0"
        ],
        [
         "29",
         "2019970010057",
         "Fortalecimiento De La Transmisión De Saberes E Identidades Culturales A Través De Los Procesos De Enseñanza Y Aprendizaje Que Realiza La Casa De La Cultura Luis Enrique Chavez Velasquez Del Municipio De  Mitú",
         "Formulación",
         "2019",
         "2019",
         "Cultura",
         "MitúVaupés",
         "Todos por un nuevo país (2014-2018)",
         "125315550.0",
         "0.0",
         "0.0",
         "0.0",
         "24605.0"
        ],
        [
         "30",
         "2021540010008",
         "Actualización De La Estratificación Socio-Económica En El Municipio De San José De Cúcuta Norte De Santander  Cúcuta",
         "En Ejecución",
         "2021",
         "2023",
         "Información Estadística",
         "San José de CúcutaNorte de Santander",
         "Pacto Por Colombia, Pacto por la Equidad (2019-2022)",
         "677960444.0",
         "677960444.0",
         "104438063.02",
         "83638617.62",
         "777106.0"
        ],
        [
         "31",
         "2024274300067",
         "Estudios  Y Diseños Para Obras De Agua Potable Y Saneamiento Básico Del Municipio   Medio Baudó",
         "Viable",
         "2024",
         "2024",
         "Vivienda, Ciudad Y Territorio",
         "Medio BaudóChocó",
         "Colombia Potencia Mundial de la Vida (2022-2026)",
         "384000000.0",
         "0.0",
         "0.0",
         "0.0",
         "16632.0"
        ],
        [
         "32",
         "2022198450029",
         "Servicio De Transporte Escolar A Los Estudiantes De Las Instituciones Educativas Públicas De La Zona Rural Del Municipio De   Villa Rica Cauca",
         "En Ejecución",
         "2022",
         "2022",
         "Educación",
         "Villa RicaCauca",
         "Pacto Por Colombia, Pacto por la Equidad (2019-2022)",
         "80000000.0",
         "80000000.0",
         "0.0",
         "0.0",
         "100.0"
        ],
        [
         "33",
         "2021503180091",
         "Mejoramiento Mantenimiento Y Adecuación De Instituciones Educativas Oficiales Del Municipio De   Guamal  Meta",
         "En Ejecución",
         "2022",
         "2022",
         "Educación",
         "GuamalMeta",
         "Pacto Por Colombia, Pacto por la Equidad (2019-2022)",
         "124055477.0",
         "124055477.0",
         "99216805.17",
         "99216805.17",
         "2087.0"
        ],
        [
         "34",
         "2020185920095",
         "Suministro De Combustible Para La Maquinaria Propia O Particular Que Realiza Trabajos De Mantenimiento Mejoramiento Yo Rehabilitación De Las Vías Terciarias Y Urbanas Del Municipio De   Puerto Rico",
         "En Ejecución",
         "2020",
         "2020",
         "Transporte",
         "Puerto RicoCaquetá",
         "Pacto Por Colombia, Pacto por la Equidad (2019-2022)",
         "24000000.0",
         "24000000.0",
         "0.0",
         "0.0",
         "10000.0"
        ],
        [
         "35",
         "2023055760007",
         "Mejoramiento De Las Condiciones De Habitabilidad En El Municipio De  Pueblorrico",
         "En Ejecución",
         "2023",
         "2023",
         "Vivienda, Ciudad Y Territorio",
         "PueblorricoAntioquia",
         "Colombia Potencia Mundial de la Vida (2022-2026)",
         "600296092.0",
         "600296092.0",
         "0.0",
         "0.0",
         "9007.0"
        ],
        [
         "36",
         "2024680810110",
         "Adquisición De Insumos Y Servicios Para El Mantenimiento De Maquinaria Yo Equipo Pesado Del Parque Automotor Del Distrito  Barrancabermeja",
         "En Ejecución",
         "2024",
         "2025",
         "Transporte",
         "BarrancabermejaSantander",
         "Colombia Potencia Mundial de la Vida (2022-2026)",
         "1299986293.0",
         "1299986293.0",
         "0.0",
         "0.0",
         "216326.0"
        ],
        [
         "37",
         "2024202380013",
         "Asistencia Operativa Para Optimizar La Gestión De Actividades En Los Cementerios Municipales De  El Copey Cesar",
         "En Ejecución",
         "2024",
         "2024",
         "Gobierno Territorial",
         "El CopeyCesar",
         "Colombia Potencia Mundial de la Vida (2022-2026)",
         "24300000.0",
         "24300000.0",
         "0.0",
         "0.0",
         "33663.0"
        ],
        [
         "38",
         "2018253390012",
         "Fortalecimiento Del Programa Pobladores Con Trabajo Y Emprenderismo Del Sector Agropecuario En El Municipio De   Gutirrez",
         "En Ejecución",
         "2018",
         "2018",
         "Agricultura Y Desarrollo Rural",
         "GutiérrezCundinamarca",
         "Todos por un nuevo país (2014-2018)",
         "14000003.0",
         "14000003.0",
         "0.0",
         "0.0",
         "2366.0"
        ],
        [
         "39",
         "2019187530039",
         "Mantenimiento Plaza De Mercado Municipal Municipio De San Vicente Del Caguán   Caquetá",
         "En Ejecución",
         "2019",
         "2019",
         "Agricultura Y Desarrollo Rural",
         "San Vicente del CaguánCaquetá",
         "Todos por un nuevo país (2014-2018)",
         "16692000.0",
         "16692000.0",
         "0.0",
         "0.0",
         "45758.0"
        ],
        [
         "40",
         "2018005500147",
         "Diagnostico Y Evaluación De  Viviendas Urbanas De Madres Comunitarias Susceptibles De Un Subsidio De Mejoramiento De Vivienda En Municipios Del Departamento Del   Meta",
         "En Ejecución",
         "2019",
         "2019",
         "Vivienda, Ciudad Y Territorio",
         "Meta",
         "Pacto Por Colombia, Pacto por la Equidad (2019-2022)",
         "196377501.86",
         "196377501.86",
         "0.0",
         "0.0",
         "250.0"
        ],
        [
         "41",
         "2021051480049",
         "Optimización Del Sistema De Tratamiento De Aguas Residuales Domésticas (Ard) Del Área Urbana En El Municipio De   El Carmen De Viboral",
         "Formulación",
         "2021",
         "2021",
         "Vivienda, Ciudad Y Territorio",
         "El Carmen de ViboralAntioquia",
         "Pacto Por Colombia, Pacto por la Equidad (2019-2022)",
         "4603732955.0",
         "0.0",
         "0.0",
         "0.0",
         "34187.0"
        ],
        [
         "42",
         "2019004250498",
         "Mejoramiento Vía Urbana Calle 18 Entre Carrera 7 Y Acceso A La Vía  Salcedo  Sector Loma Larga Barrio Campo Alegre Municipio Apulo  Cundinamarca",
         "En Ejecución",
         "2018",
         "2028",
         "Transporte",
         "Cundinamarca",
         "Pacto Por Colombia, Pacto por la Equidad (2019-2022)",
         "326025662.0",
         "316969562.0",
         "0.0",
         "0.0",
         "3450.0"
        ],
        [
         "43",
         "2023230010011",
         "Servicio De Bienestar Para Garantizar El Mínimo Vital De Las Personas Privadas De La Libertad En Calidad De Sindicadas A Cargo Del Municipio De  Montería",
         "En Ejecución",
         "2023",
         "2023",
         "Justicia Y Del Derecho",
         "MonteríaCórdoba",
         "Colombia Potencia Mundial de la Vida (2022-2026)",
         "2371667045.0",
         "2371667045.0",
         "0.0",
         "0.0",
         "212.0"
        ],
        [
         "44",
         "2021503130081",
         "Fortalecimiento De Actividades Eventos Y Procesos Deportivos Y Recreativos En   Granada",
         "En Ejecución",
         "2022",
         "2022",
         "Deporte Y Recreación",
         "GranadaMeta",
         "Pacto Por Colombia, Pacto por la Equidad (2019-2022)",
         "637875000.0",
         "637875000.0",
         "626387213.0",
         "626387213.0",
         "3500.0"
        ],
        [
         "45",
         "2020051480028",
         "Subsidio A Los Suscriptores Del Servicio De Acueducto Alcantarillado Y Aseo Que Se Encuentran En Estrato 1 Y 2 De El Municipio De  El Carmen De Viboral",
         "Formulación",
         "2020",
         "2020",
         "Hacienda",
         "El Carmen de ViboralAntioquia",
         "Pacto Por Colombia, Pacto por la Equidad (2019-2022)",
         "1436329710.0",
         "0.0",
         "0.0",
         "0.0",
         "14000.0"
        ],
        [
         "46",
         "2017130010047",
         "Actualización Construccion Vivienda Nueva Casa Pa Mi Gente Pobreza Extrema   Cartagena",
         "En Ejecución",
         "2017",
         "2019",
         "Vivienda, Ciudad Y Territorio",
         "Cartagena de IndiasBolívar",
         "Pacto Por Colombia, Pacto por la Equidad (2019-2022)",
         "3217813589.0",
         "3217813589.0",
         "0.0",
         "0.0",
         "240.0"
        ],
        [
         "47",
         "2024813000022",
         "Aportes Al Fomento De La Paz La Salud Y La Actividad Física A Través De Las Escuelas De Formación Deportiva En El Municipio De Fortul Departamento De  Arauca",
         "En Ejecución",
         "2024",
         "2024",
         "Deporte Y Recreación",
         "FortulArauca",
         "Colombia Potencia Mundial de la Vida (2022-2026)",
         "154800000.0",
         "154800000.0",
         "154800000.0",
         "154800000.0",
         "800.0"
        ],
        [
         "48",
         "2021195330068",
         "Estudio Técnico De Referencia Dispuesto En Decreto 943 De 2018 Que Permita Describir Modernizar Y Restructurar El Servicio De Alumbrado Público En El Municipio De Piamonte Departamento Del   Cauca",
         "En Ejecución",
         "2021",
         "2021",
         "Minas Y Energía",
         "PiamonteCauca",
         "Pacto Por Colombia, Pacto por la Equidad (2019-2022)",
         "25000000.0",
         "25000000.0",
         "0.0",
         "0.0",
         "9259.0"
        ],
        [
         "49",
         "202500000000871",
         "Desarrollo Inclusión Social Y Productiva Para La Población En Situación De Vulnerabilidad Adulto Mayor Habitante De Calle Y Personas Con Discapacidad En El Municipio De   Pensilvania",
         "En Ejecución",
         "2025",
         "2025",
         "Inclusión Social Y Reconciliación",
         "PensilvaniaCaldas",
         "Colombia Potencia Mundial de la Vida (2022-2026)",
         "778295280.0",
         "778295280.0",
         "168791245.0",
         "168791245.0",
         "20331.0"
        ]
       ],
       "shape": {
        "columns": 13,
        "rows": 496420
       }
      },
      "text/html": [
       "<div>\n",
       "<style scoped>\n",
       "    .dataframe tbody tr th:only-of-type {\n",
       "        vertical-align: middle;\n",
       "    }\n",
       "\n",
       "    .dataframe tbody tr th {\n",
       "        vertical-align: top;\n",
       "    }\n",
       "\n",
       "    .dataframe thead th {\n",
       "        text-align: right;\n",
       "    }\n",
       "</style>\n",
       "<table border=\"1\" class=\"dataframe\">\n",
       "  <thead>\n",
       "    <tr style=\"text-align: right;\">\n",
       "      <th></th>\n",
       "      <th>Bpin</th>\n",
       "      <th>NombreProyecto</th>\n",
       "      <th>EstadoProyecto</th>\n",
       "      <th>Inicio</th>\n",
       "      <th>Fin</th>\n",
       "      <th>Sector</th>\n",
       "      <th>EntidadResponsable</th>\n",
       "      <th>PlanDesarrolloNacional</th>\n",
       "      <th>ValorTotalProyecto</th>\n",
       "      <th>ValorVigenteProyecto</th>\n",
       "      <th>ValorObligacionProyecto</th>\n",
       "      <th>ValorPagoProyecto</th>\n",
       "      <th>TotalBeneficiario</th>\n",
       "    </tr>\n",
       "  </thead>\n",
       "  <tbody>\n",
       "    <tr>\n",
       "      <th>0</th>\n",
       "      <td>2019415240011</td>\n",
       "      <td>Desarrollo Del  Programa De Transporte  Escola...</td>\n",
       "      <td>En Ejecución</td>\n",
       "      <td>2019</td>\n",
       "      <td>2019</td>\n",
       "      <td>Educación</td>\n",
       "      <td>PalermoHuila</td>\n",
       "      <td>Todos por un nuevo país (2014-2018)</td>\n",
       "      <td>1.000000e+09</td>\n",
       "      <td>1.000000e+09</td>\n",
       "      <td>0.000000e+00</td>\n",
       "      <td>0.000000e+00</td>\n",
       "      <td>718.0</td>\n",
       "    </tr>\n",
       "    <tr>\n",
       "      <th>1</th>\n",
       "      <td>2024503180038</td>\n",
       "      <td>Estudios  Y Diseños Para La Construcción Del C...</td>\n",
       "      <td>En Ejecución</td>\n",
       "      <td>2024</td>\n",
       "      <td>2025</td>\n",
       "      <td>Inclusión Social Y Reconciliación</td>\n",
       "      <td>GuamalMeta</td>\n",
       "      <td>Colombia Potencia Mundial de la Vida (2022-2026)</td>\n",
       "      <td>2.037023e+08</td>\n",
       "      <td>2.037023e+08</td>\n",
       "      <td>5.030591e+07</td>\n",
       "      <td>5.030591e+07</td>\n",
       "      <td>2700.0</td>\n",
       "    </tr>\n",
       "    <tr>\n",
       "      <th>2</th>\n",
       "      <td>2022002700139</td>\n",
       "      <td>Desarrollo De La Dimensión Vida Saludable Y En...</td>\n",
       "      <td>En Ejecución</td>\n",
       "      <td>2023</td>\n",
       "      <td>2023</td>\n",
       "      <td>Salud Y Protección Social</td>\n",
       "      <td>Sucre</td>\n",
       "      <td>Pacto Por Colombia, Pacto por la Equidad (2019...</td>\n",
       "      <td>3.700670e+08</td>\n",
       "      <td>3.700670e+08</td>\n",
       "      <td>1.064999e+08</td>\n",
       "      <td>1.064999e+08</td>\n",
       "      <td>981727.0</td>\n",
       "    </tr>\n",
       "    <tr>\n",
       "      <th>3</th>\n",
       "      <td>2024735550002</td>\n",
       "      <td>Mejoramiento De Las Condiones De Acciones Y Ac...</td>\n",
       "      <td>Formulación</td>\n",
       "      <td>2024</td>\n",
       "      <td>2024</td>\n",
       "      <td>Educación</td>\n",
       "      <td>PlanadasTolima</td>\n",
       "      <td>Colombia Potencia Mundial de la Vida (2022-2026)</td>\n",
       "      <td>1.000000e+03</td>\n",
       "      <td>0.000000e+00</td>\n",
       "      <td>0.000000e+00</td>\n",
       "      <td>0.000000e+00</td>\n",
       "      <td>100.0</td>\n",
       "    </tr>\n",
       "    <tr>\n",
       "      <th>4</th>\n",
       "      <td>2024202380105</td>\n",
       "      <td>Desarrollo Y Fomento De La Cultura Local Del M...</td>\n",
       "      <td>En Ejecución</td>\n",
       "      <td>2024</td>\n",
       "      <td>2024</td>\n",
       "      <td>Cultura</td>\n",
       "      <td>El CopeyCesar</td>\n",
       "      <td>Colombia Potencia Mundial de la Vida (2022-2026)</td>\n",
       "      <td>4.698203e+08</td>\n",
       "      <td>4.698203e+08</td>\n",
       "      <td>0.000000e+00</td>\n",
       "      <td>0.000000e+00</td>\n",
       "      <td>32624.0</td>\n",
       "    </tr>\n",
       "    <tr>\n",
       "      <th>...</th>\n",
       "      <td>...</td>\n",
       "      <td>...</td>\n",
       "      <td>...</td>\n",
       "      <td>...</td>\n",
       "      <td>...</td>\n",
       "      <td>...</td>\n",
       "      <td>...</td>\n",
       "      <td>...</td>\n",
       "      <td>...</td>\n",
       "      <td>...</td>\n",
       "      <td>...</td>\n",
       "      <td>...</td>\n",
       "      <td>...</td>\n",
       "    </tr>\n",
       "    <tr>\n",
       "      <th>496415</th>\n",
       "      <td>202500000008973</td>\n",
       "      <td>Fortalecimiento De Los Mecanismos Herramientas...</td>\n",
       "      <td>En Ejecución</td>\n",
       "      <td>2025</td>\n",
       "      <td>2025</td>\n",
       "      <td>Gobierno Territorial</td>\n",
       "      <td>SoracáBoyacá</td>\n",
       "      <td>Colombia Potencia Mundial de la Vida (2022-2026)</td>\n",
       "      <td>7.000000e+07</td>\n",
       "      <td>7.000000e+07</td>\n",
       "      <td>3.000000e+07</td>\n",
       "      <td>3.000000e+07</td>\n",
       "      <td>6068.0</td>\n",
       "    </tr>\n",
       "    <tr>\n",
       "      <th>496416</th>\n",
       "      <td>2024058540026</td>\n",
       "      <td>Implementación De Procesos De Transición Agrop...</td>\n",
       "      <td>En Ejecución</td>\n",
       "      <td>2024</td>\n",
       "      <td>2025</td>\n",
       "      <td>Agricultura Y Desarrollo Rural</td>\n",
       "      <td>ValdiviaAntioquia</td>\n",
       "      <td>Colombia Potencia Mundial de la Vida (2022-2026)</td>\n",
       "      <td>7.296000e+08</td>\n",
       "      <td>7.296000e+08</td>\n",
       "      <td>1.908343e+08</td>\n",
       "      <td>1.908343e+08</td>\n",
       "      <td>14722.0</td>\n",
       "    </tr>\n",
       "    <tr>\n",
       "      <th>496417</th>\n",
       "      <td>202500000009256</td>\n",
       "      <td>Fortalecimiento Y Fomento Deportivo Y Desarrol...</td>\n",
       "      <td>En Ejecución</td>\n",
       "      <td>2025</td>\n",
       "      <td>2025</td>\n",
       "      <td>Deporte Y Recreación</td>\n",
       "      <td>MaceoAntioquia</td>\n",
       "      <td>Colombia Potencia Mundial de la Vida (2022-2026)</td>\n",
       "      <td>6.870705e+08</td>\n",
       "      <td>6.870705e+08</td>\n",
       "      <td>1.182470e+08</td>\n",
       "      <td>1.182470e+08</td>\n",
       "      <td>8707.0</td>\n",
       "    </tr>\n",
       "    <tr>\n",
       "      <th>496418</th>\n",
       "      <td>2024732680004</td>\n",
       "      <td>Fortalecimiento De La Autoridad Sanitaria Del ...</td>\n",
       "      <td>En Ejecución</td>\n",
       "      <td>2024</td>\n",
       "      <td>2027</td>\n",
       "      <td>Salud Y Protección Social</td>\n",
       "      <td>EspinalTolima</td>\n",
       "      <td>Colombia Potencia Mundial de la Vida (2022-2026)</td>\n",
       "      <td>2.355941e+09</td>\n",
       "      <td>6.027789e+08</td>\n",
       "      <td>7.077789e+08</td>\n",
       "      <td>7.077789e+08</td>\n",
       "      <td>75257.0</td>\n",
       "    </tr>\n",
       "    <tr>\n",
       "      <th>496419</th>\n",
       "      <td>202400000000660</td>\n",
       "      <td>Desarrollo De Estrategias De Buen Gobierno Par...</td>\n",
       "      <td>En Ejecución</td>\n",
       "      <td>2024</td>\n",
       "      <td>2027</td>\n",
       "      <td>Gobierno Territorial</td>\n",
       "      <td>La TebaidaQuindio</td>\n",
       "      <td>Colombia Potencia Mundial de la Vida (2022-2026)</td>\n",
       "      <td>7.032000e+08</td>\n",
       "      <td>3.092000e+08</td>\n",
       "      <td>2.950000e+07</td>\n",
       "      <td>2.950000e+07</td>\n",
       "      <td>36360.0</td>\n",
       "    </tr>\n",
       "  </tbody>\n",
       "</table>\n",
       "<p>496420 rows × 13 columns</p>\n",
       "</div>"
      ],
      "text/plain": [
       "                   Bpin                                     NombreProyecto  \\\n",
       "0         2019415240011  Desarrollo Del  Programa De Transporte  Escola...   \n",
       "1         2024503180038  Estudios  Y Diseños Para La Construcción Del C...   \n",
       "2         2022002700139  Desarrollo De La Dimensión Vida Saludable Y En...   \n",
       "3         2024735550002  Mejoramiento De Las Condiones De Acciones Y Ac...   \n",
       "4         2024202380105  Desarrollo Y Fomento De La Cultura Local Del M...   \n",
       "...                 ...                                                ...   \n",
       "496415  202500000008973  Fortalecimiento De Los Mecanismos Herramientas...   \n",
       "496416    2024058540026  Implementación De Procesos De Transición Agrop...   \n",
       "496417  202500000009256  Fortalecimiento Y Fomento Deportivo Y Desarrol...   \n",
       "496418    2024732680004  Fortalecimiento De La Autoridad Sanitaria Del ...   \n",
       "496419  202400000000660  Desarrollo De Estrategias De Buen Gobierno Par...   \n",
       "\n",
       "       EstadoProyecto Inicio   Fin                             Sector  \\\n",
       "0        En Ejecución   2019  2019                          Educación   \n",
       "1        En Ejecución   2024  2025  Inclusión Social Y Reconciliación   \n",
       "2        En Ejecución   2023  2023          Salud Y Protección Social   \n",
       "3         Formulación   2024  2024                          Educación   \n",
       "4        En Ejecución   2024  2024                            Cultura   \n",
       "...               ...    ...   ...                                ...   \n",
       "496415   En Ejecución   2025  2025               Gobierno Territorial   \n",
       "496416   En Ejecución   2024  2025     Agricultura Y Desarrollo Rural   \n",
       "496417   En Ejecución   2025  2025               Deporte Y Recreación   \n",
       "496418   En Ejecución   2024  2027          Salud Y Protección Social   \n",
       "496419   En Ejecución   2024  2027               Gobierno Territorial   \n",
       "\n",
       "       EntidadResponsable                             PlanDesarrolloNacional  \\\n",
       "0            PalermoHuila                Todos por un nuevo país (2014-2018)   \n",
       "1              GuamalMeta   Colombia Potencia Mundial de la Vida (2022-2026)   \n",
       "2                   Sucre  Pacto Por Colombia, Pacto por la Equidad (2019...   \n",
       "3          PlanadasTolima   Colombia Potencia Mundial de la Vida (2022-2026)   \n",
       "4           El CopeyCesar   Colombia Potencia Mundial de la Vida (2022-2026)   \n",
       "...                   ...                                                ...   \n",
       "496415       SoracáBoyacá   Colombia Potencia Mundial de la Vida (2022-2026)   \n",
       "496416  ValdiviaAntioquia   Colombia Potencia Mundial de la Vida (2022-2026)   \n",
       "496417     MaceoAntioquia   Colombia Potencia Mundial de la Vida (2022-2026)   \n",
       "496418      EspinalTolima   Colombia Potencia Mundial de la Vida (2022-2026)   \n",
       "496419  La TebaidaQuindio   Colombia Potencia Mundial de la Vida (2022-2026)   \n",
       "\n",
       "        ValorTotalProyecto  ValorVigenteProyecto  ValorObligacionProyecto  \\\n",
       "0             1.000000e+09          1.000000e+09             0.000000e+00   \n",
       "1             2.037023e+08          2.037023e+08             5.030591e+07   \n",
       "2             3.700670e+08          3.700670e+08             1.064999e+08   \n",
       "3             1.000000e+03          0.000000e+00             0.000000e+00   \n",
       "4             4.698203e+08          4.698203e+08             0.000000e+00   \n",
       "...                    ...                   ...                      ...   \n",
       "496415        7.000000e+07          7.000000e+07             3.000000e+07   \n",
       "496416        7.296000e+08          7.296000e+08             1.908343e+08   \n",
       "496417        6.870705e+08          6.870705e+08             1.182470e+08   \n",
       "496418        2.355941e+09          6.027789e+08             7.077789e+08   \n",
       "496419        7.032000e+08          3.092000e+08             2.950000e+07   \n",
       "\n",
       "        ValorPagoProyecto  TotalBeneficiario  \n",
       "0            0.000000e+00              718.0  \n",
       "1            5.030591e+07             2700.0  \n",
       "2            1.064999e+08           981727.0  \n",
       "3            0.000000e+00              100.0  \n",
       "4            0.000000e+00            32624.0  \n",
       "...                   ...                ...  \n",
       "496415       3.000000e+07             6068.0  \n",
       "496416       1.908343e+08            14722.0  \n",
       "496417       1.182470e+08             8707.0  \n",
       "496418       7.077789e+08            75257.0  \n",
       "496419       2.950000e+07            36360.0  \n",
       "\n",
       "[496420 rows x 13 columns]"
      ]
     },
     "execution_count": 19,
     "metadata": {},
     "output_type": "execute_result"
    }
   ],
   "source": [
    "\"\"\"\"Eliminar los duplicados Bpin y conservar los que tengan el año mas reciente\"\"\"\n",
    "# Convertir a datetime y quedarnos solo con el año\n",
    "df['Fin'] = pd.to_datetime(df['Fin'], errors='coerce').dt.year\n",
    "\n",
    "# Para cada Bpin, quedarnos con la fila con el año 'Fin' más grande\n",
    "df_sin_duplicados = df.sort_values('Fin').drop_duplicates(subset='Bpin', keep='last')\n",
    "\n",
    "# Resetear índice\n",
    "df_sin_duplicados = df_sin_duplicados.reset_index(drop=True)\n",
    "\n",
    "df\n",
    "\n"
   ]
  },
  {
   "cell_type": "code",
   "execution_count": 20,
   "id": "bf2cb65d",
   "metadata": {},
   "outputs": [],
   "source": [
    "df = df.loc[df.groupby('Bpin')['Fin'].idxmax()]"
   ]
  },
  {
   "cell_type": "code",
   "execution_count": 21,
   "id": "6ac59bd0",
   "metadata": {},
   "outputs": [
    {
     "name": "stdout",
     "output_type": "stream",
     "text": [
      "EstadoGrupo\n",
      "Ejecución                255818\n",
      "Planeación/Evaluación    213503\n",
      "Finalizado                27027\n",
      "Name: count, dtype: int64\n"
     ]
    }
   ],
   "source": [
    "\"\"\"\"La col\"\"\"\n",
    "def agrupar_estado(estado):\n",
    "    if estado in [\"Formulación\", \"Viable\", \"Aprobado\", \"No Aprobado\", \"Desaprobado\", \"No Viable\"]:\n",
    "        return \"Planeación/Evaluación\"\n",
    "    elif estado == \"En Ejecución\":\n",
    "        return \"Ejecución\"\n",
    "    elif estado == \"Terminado\":\n",
    "        return \"Finalizado\"\n",
    "    else:\n",
    "        return \"Otro\"\n",
    "\n",
    "df[\"EstadoGrupo\"] = df[\"EstadoProyecto\"].apply(agrupar_estado)\n",
    "\n",
    "# Ahora sí ver los resultados de la reclasificación\n",
    "print(df[\"EstadoGrupo\"].value_counts())\n"
   ]
  },
  {
   "cell_type": "code",
   "execution_count": 22,
   "id": "db7ab58e",
   "metadata": {},
   "outputs": [
    {
     "name": "stdout",
     "output_type": "stream",
     "text": [
      "PlanDesarrolloNacional\n",
      "Pacto Por Colombia, Pacto por la Equidad (2019-2022)    227367\n",
      "Colombia Potencia Mundial de la Vida (2022-2026)        161193\n",
      "Todos por un nuevo país (2014-2018)                     103196\n",
      "Name: count, dtype: int64\n"
     ]
    }
   ],
   "source": [
    "\"\"\"\"Se elimina todas las filas del Prosperidad para Todos (2010-2014) ya que tienen muy pocos registros a comparancion de los otros planes de desarrollo \"\"\"\n",
    "df = df[df['PlanDesarrolloNacional'] != \"Prosperidad para Todos (2010-2014)\"]\n",
    "df = df.reset_index(drop=True)\n",
    "print(df['PlanDesarrolloNacional'].value_counts())\n"
   ]
  },
  {
   "cell_type": "code",
   "execution_count": 23,
   "id": "09824477",
   "metadata": {},
   "outputs": [
    {
     "name": "stdout",
     "output_type": "stream",
     "text": [
      "<class 'pandas.core.frame.DataFrame'>\n",
      "RangeIndex: 495927 entries, 0 to 495926\n",
      "Data columns (total 14 columns):\n",
      " #   Column                   Non-Null Count   Dtype  \n",
      "---  ------                   --------------   -----  \n",
      " 0   Bpin                     495927 non-null  object \n",
      " 1   NombreProyecto           495927 non-null  object \n",
      " 2   EstadoProyecto           495927 non-null  object \n",
      " 3   Inicio                   495927 non-null  object \n",
      " 4   Fin                      495927 non-null  int32  \n",
      " 5   Sector                   495927 non-null  object \n",
      " 6   EntidadResponsable       492556 non-null  object \n",
      " 7   PlanDesarrolloNacional   491756 non-null  object \n",
      " 8   ValorTotalProyecto       495927 non-null  float64\n",
      " 9   ValorVigenteProyecto     495927 non-null  float64\n",
      " 10  ValorObligacionProyecto  495927 non-null  float64\n",
      " 11  ValorPagoProyecto        495927 non-null  float64\n",
      " 12  TotalBeneficiario        493657 non-null  float64\n",
      " 13  EstadoGrupo              495927 non-null  object \n",
      "dtypes: float64(5), int32(1), object(8)\n",
      "memory usage: 51.1+ MB\n"
     ]
    }
   ],
   "source": [
    "df.info()"
   ]
  },
  {
   "cell_type": "code",
   "execution_count": 24,
   "id": "920e5f1a",
   "metadata": {},
   "outputs": [
    {
     "name": "stdout",
     "output_type": "stream",
     "text": [
      "Memoria actual (MB): 149.24\n"
     ]
    }
   ],
   "source": [
    "\"\"\" Tipado para las visualizaciones\"\"\"\n",
    "\n",
    "# 1) Asegurar que Inicio sea año (si tu columna ya viene como 'YYYY' o 'YYYY-MM-DD')\n",
    "#    - Si ya es 'YYYY' en texto:\n",
    "df['Inicio'] = pd.to_numeric(df['Inicio'], errors='coerce').astype('Int16')\n",
    "\n",
    "#    - (Alternativa) Si viene como fecha tipo 'YYYY-MM-DD':\n",
    "# df['Inicio'] = pd.to_datetime(df['Inicio'], errors='coerce').dt.year.astype('Int16')\n",
    "\n",
    "# 2) Año Fin a Int16 (nullable)\n",
    "df['Fin'] = pd.to_numeric(df['Fin'], errors='coerce').astype('Int16')\n",
    "\n",
    "# 3) Categóricas (ahorra memoria y acelera agrupaciones)\n",
    "cat_cols = ['EstadoProyecto', 'Sector', 'EntidadResponsable', 'PlanDesarrolloNacional', 'EstadoGrupo']\n",
    "for c in cat_cols:\n",
    "    df[c] = df[c].astype('category')\n",
    "\n",
    "# 4) Si los montos no tienen centavos y querés enteros (si no, dejá float64)\n",
    "# for c in ['ValorTotalProyecto','ValorVigenteProyecto','ValorObligacionProyecto','ValorPagoProyecto','TotalBeneficiario']:\n",
    "#     df[c] = pd.to_numeric(df[c], errors='coerce').round(0).astype('Int64')\n",
    "\n",
    "# 5) (Opcional) ver ahorro de memoria\n",
    "def mem_mb(x): \n",
    "    return x.memory_usage(deep=True).sum() / 1024**2\n",
    "\n",
    "print(\"Memoria actual (MB):\", round(mem_mb(df), 2))\n",
    "\n"
   ]
  },
  {
   "cell_type": "code",
   "execution_count": 25,
   "id": "c8dc269a",
   "metadata": {},
   "outputs": [
    {
     "name": "stderr",
     "output_type": "stream",
     "text": [
      "C:\\Users\\diego\\AppData\\Local\\Temp\\ipykernel_37164\\2201251492.py:1: FutureWarning:\n",
      "\n",
      "The default of observed=False is deprecated and will be changed to True in a future version of pandas. Pass observed=False to retain current behavior or observed=True to adopt the future default and silence this warning.\n",
      "\n"
     ]
    },
    {
     "data": {
      "image/png": "[encoded data removed]",
      "text/plain": [
       "<Figure size 1500x600 with 3 Axes>"
      ]
     },
     "metadata": {},
     "output_type": "display_data"
    }
   ],
   "source": [
    "\n",
    "\n",
    "df_group = (df.groupby(['PlanDesarrolloNacional','EstadoGrupo'])['Bpin']\n",
    "              .count()\n",
    "              .reset_index()\n",
    "              .rename(columns={'Bpin':'Cantidad'}))\n",
    "\n",
    "planes = df_group['PlanDesarrolloNacional'].dropna().unique()\n",
    "\n",
    "# Crear subplots: 1 fila, N columnas (uno por plan)\n",
    "fig, axes = plt.subplots(1, len(planes), figsize=(5*len(planes), 6))\n",
    "\n",
    "if len(planes) == 1:\n",
    "    axes = [axes]  # cuando es solo un plan, axes no es lista\n",
    "\n",
    "for ax, plan in zip(axes, planes):\n",
    "    temp = df_group[df_group['PlanDesarrolloNacional'] == plan]\n",
    "    wedges, texts, autotexts = ax.pie(\n",
    "        temp['Cantidad'],\n",
    "        labels=temp['EstadoGrupo'],\n",
    "        autopct=\"%1.1f%%\",\n",
    "        startangle=90,\n",
    "        wedgeprops=dict(width=0.4)  # convierte el pastel en donut\n",
    "    )\n",
    "    ax.set_title(plan)\n",
    "\n",
    "plt.tight_layout()\n",
    "plt.show()\n"
   ]
  },
  {
   "cell_type": "code",
   "execution_count": 26,
   "id": "a831d348",
   "metadata": {},
   "outputs": [
    {
     "name": "stderr",
     "output_type": "stream",
     "text": [
      "C:\\Users\\diego\\AppData\\Local\\Temp\\ipykernel_37164\\2856748373.py:5: FutureWarning:\n",
      "\n",
      "The default of observed=False is deprecated and will be changed to True in a future version of pandas. Pass observed=False to retain current behavior or observed=True to adopt the future default and silence this warning.\n",
      "\n"
     ]
    },
    {
     "data": {
      "application/vnd.plotly.v1+json": {
       "config": {
        "plotlyServerURL": "https://plot.ly"
       },
       "data": [
        {
         "hovertemplate": "<b>%{hovertext}</b><br><br>Sector=Agricultura Y Desarrollo Rural<br>ValorTotalProyecto_M=%{x}<br>TotalBeneficiario_M=%{y}<br>CantidadProyectos=%{marker.size}<extra></extra>",
         "hovertext": [
          "Agricultura Y Desarrollo Rural"
         ],
         "legendgroup": "Agricultura Y Desarrollo Rural",
         "marker": {
          "color": "#636efa",
          "size": {
           "bdata": "Am8=",
           "dtype": "i2"
          },
          "sizemode": "area",
          "sizeref": 16.45138888888889,
          "symbol": "circle"
         },
         "mode": "markers",
         "name": "Agricultura Y Desarrollo Rural",
         "orientation": "v",
         "showlegend": true,
         "type": "scatter",
         "x": {
          "bdata": "X40g7V6FtUE=",
          "dtype": "f8"
         },
         "xaxis": "x",
         "y": {
          "bdata": "JQfsarIcoEA=",
          "dtype": "f8"
         },
         "yaxis": "y"
        },
        {
         "hovertemplate": "<b>%{hovertext}</b><br><br>Sector=Ambiente Y Desarrollo Sostenible<br>ValorTotalProyecto_M=%{x}<br>TotalBeneficiario_M=%{y}<br>CantidadProyectos=%{marker.size}<extra></extra>",
         "hovertext": [
          "Ambiente Y Desarrollo Sostenible"
         ],
         "legendgroup": "Ambiente Y Desarrollo Sostenible",
         "marker": {
          "color": "#EF553B",
          "size": {
           "bdata": "5W8=",
           "dtype": "i2"
          },
          "sizemode": "area",
          "sizeref": 16.45138888888889,
          "symbol": "circle"
         },
         "mode": "markers",
         "name": "Ambiente Y Desarrollo Sostenible",
         "orientation": "v",
         "showlegend": true,
         "type": "scatter",
         "x": {
          "bdata": "82ozaM5amkE=",
          "dtype": "f8"
         },
         "xaxis": "x",
         "y": {
          "bdata": "yuGTTmDqwUA=",
          "dtype": "f8"
         },
         "yaxis": "y"
        },
        {
         "hovertemplate": "<b>%{hovertext}</b><br><br>Sector=Ciencia, Tecnología E Innovación<br>ValorTotalProyecto_M=%{x}<br>TotalBeneficiario_M=%{y}<br>CantidadProyectos=%{marker.size}<extra></extra>",
         "hovertext": [
          "Ciencia, Tecnología E Innovación"
         ],
         "legendgroup": "Ciencia, Tecnología E Innovación",
         "marker": {
          "color": "#00cc96",
          "size": {
           "bdata": "sBQ=",
           "dtype": "i2"
          },
          "sizemode": "area",
          "sizeref": 16.45138888888889,
          "symbol": "circle"
         },
         "mode": "markers",
         "name": "Ciencia, Tecnología E Innovación",
         "orientation": "v",
         "showlegend": true,
         "type": "scatter",
         "x": {
          "bdata": "dwacLi+WhUE=",
          "dtype": "f8"
         },
         "xaxis": "x",
         "y": {
          "bdata": "9DRgkJAxuUA=",
          "dtype": "f8"
         },
         "yaxis": "y"
        },
        {
         "hovertemplate": "<b>%{hovertext}</b><br><br>Sector=Comercio, Industria Y Turismo<br>ValorTotalProyecto_M=%{x}<br>TotalBeneficiario_M=%{y}<br>CantidadProyectos=%{marker.size}<extra></extra>",
         "hovertext": [
          "Comercio, Industria Y Turismo"
         ],
         "legendgroup": "Comercio, Industria Y Turismo",
         "marker": {
          "color": "#ab63fa",
          "size": {
           "bdata": "cig=",
           "dtype": "i2"
          },
          "sizemode": "area",
          "sizeref": 16.45138888888889,
          "symbol": "circle"
         },
         "mode": "markers",
         "name": "Comercio, Industria Y Turismo",
         "orientation": "v",
         "showlegend": true,
         "type": "scatter",
         "x": {
          "bdata": "zK4FqzS3ekE=",
          "dtype": "f8"
         },
         "xaxis": "x",
         "y": {
          "bdata": "fQiqRmu0vUA=",
          "dtype": "f8"
         },
         "yaxis": "y"
        },
        {
         "hovertemplate": "<b>%{hovertext}</b><br><br>Sector=Congreso De La República<br>ValorTotalProyecto_M=%{x}<br>TotalBeneficiario_M=%{y}<br>CantidadProyectos=%{marker.size}<extra></extra>",
         "hovertext": [
          "Congreso De La República"
         ],
         "legendgroup": "Congreso De La República",
         "marker": {
          "color": "#FFA15A",
          "size": {
           "bdata": "SQ==",
           "dtype": "i1"
          },
          "sizemode": "area",
          "sizeref": 16.45138888888889,
          "symbol": "circle"
         },
         "mode": "markers",
         "name": "Congreso De La República",
         "orientation": "v",
         "showlegend": true,
         "type": "scatter",
         "x": {
          "bdata": "+AxVv1w3S0E=",
          "dtype": "f8"
         },
         "xaxis": "x",
         "y": {
          "bdata": "FD5bB4cbYUA=",
          "dtype": "f8"
         },
         "yaxis": "y"
        },
        {
         "hovertemplate": "<b>%{hovertext}</b><br><br>Sector=Cultura<br>ValorTotalProyecto_M=%{x}<br>TotalBeneficiario_M=%{y}<br>CantidadProyectos=%{marker.size}<extra></extra>",
         "hovertext": [
          "Cultura"
         ],
         "legendgroup": "Cultura",
         "marker": {
          "color": "#19d3f3",
          "size": {
           "bdata": "RGs=",
           "dtype": "i2"
          },
          "sizemode": "area",
          "sizeref": 16.45138888888889,
          "symbol": "circle"
         },
         "mode": "markers",
         "name": "Cultura",
         "orientation": "v",
         "showlegend": true,
         "type": "scatter",
         "x": {
          "bdata": "VjCLs1lQgkE=",
          "dtype": "f8"
         },
         "xaxis": "x",
         "y": {
          "bdata": "jgWFQWmUuUA=",
          "dtype": "f8"
         },
         "yaxis": "y"
        },
        {
         "hovertemplate": "<b>%{hovertext}</b><br><br>Sector=Deporte Y Recreación<br>ValorTotalProyecto_M=%{x}<br>TotalBeneficiario_M=%{y}<br>CantidadProyectos=%{marker.size}<extra></extra>",
         "hovertext": [
          "Deporte Y Recreación"
         ],
         "legendgroup": "Deporte Y Recreación",
         "marker": {
          "color": "#FF6692",
          "size": {
           "bdata": "L3g=",
           "dtype": "i2"
          },
          "sizemode": "area",
          "sizeref": 16.45138888888889,
          "symbol": "circle"
         },
         "mode": "markers",
         "name": "Deporte Y Recreación",
         "orientation": "v",
         "showlegend": true,
         "type": "scatter",
         "x": {
          "bdata": "q0gsEh9HkkE=",
          "dtype": "f8"
         },
         "xaxis": "x",
         "y": {
          "bdata": "Mq1NY0vClkA=",
          "dtype": "f8"
         },
         "yaxis": "y"
        },
        {
         "hovertemplate": "<b>%{hovertext}</b><br><br>Sector=Educación<br>ValorTotalProyecto_M=%{x}<br>TotalBeneficiario_M=%{y}<br>CantidadProyectos=%{marker.size}<extra></extra>",
         "hovertext": [
          "Educación"
         ],
         "legendgroup": "Educación",
         "marker": {
          "color": "#B6E880",
          "size": {
           "bdata": "q6gAAA==",
           "dtype": "i4"
          },
          "sizemode": "area",
          "sizeref": 16.45138888888889,
          "symbol": "circle"
         },
         "mode": "markers",
         "name": "Educación",
         "orientation": "v",
         "showlegend": true,
         "type": "scatter",
         "x": {
          "bdata": "Yjr7BEgQw0E=",
          "dtype": "f8"
         },
         "xaxis": "x",
         "y": {
          "bdata": "VklkH3RsmkA=",
          "dtype": "f8"
         },
         "yaxis": "y"
        },
        {
         "hovertemplate": "<b>%{hovertext}</b><br><br>Sector=Empleo Público<br>ValorTotalProyecto_M=%{x}<br>TotalBeneficiario_M=%{y}<br>CantidadProyectos=%{marker.size}<extra></extra>",
         "hovertext": [
          "Empleo Público"
         ],
         "legendgroup": "Empleo Público",
         "marker": {
          "color": "#FF97FF",
          "size": {
           "bdata": "qgo=",
           "dtype": "i2"
          },
          "sizemode": "area",
          "sizeref": 16.45138888888889,
          "symbol": "circle"
         },
         "mode": "markers",
         "name": "Empleo Público",
         "orientation": "v",
         "showlegend": true,
         "type": "scatter",
         "x": {
          "bdata": "Sl+s9z+qYEE=",
          "dtype": "f8"
         },
         "xaxis": "x",
         "y": {
          "bdata": "IeaSqi2tcEA=",
          "dtype": "f8"
         },
         "yaxis": "y"
        },
        {
         "hovertemplate": "<b>%{hovertext}</b><br><br>Sector=Fiscalía<br>ValorTotalProyecto_M=%{x}<br>TotalBeneficiario_M=%{y}<br>CantidadProyectos=%{marker.size}<extra></extra>",
         "hovertext": [
          "Fiscalía"
         ],
         "legendgroup": "Fiscalía",
         "marker": {
          "color": "#FECB52",
          "size": {
           "bdata": "7wA=",
           "dtype": "i2"
          },
          "sizemode": "area",
          "sizeref": 16.45138888888889,
          "symbol": "circle"
         },
         "mode": "markers",
         "name": "Fiscalía",
         "orientation": "v",
         "showlegend": true,
         "type": "scatter",
         "x": {
          "bdata": "3i330QKFYUE=",
          "dtype": "f8"
         },
         "xaxis": "x",
         "y": {
          "bdata": "nzws1AopkUA=",
          "dtype": "f8"
         },
         "yaxis": "y"
        },
        {
         "hovertemplate": "<b>%{hovertext}</b><br><br>Sector=Gobierno Territorial<br>ValorTotalProyecto_M=%{x}<br>TotalBeneficiario_M=%{y}<br>CantidadProyectos=%{marker.size}<extra></extra>",
         "hovertext": [
          "Gobierno Territorial"
         ],
         "legendgroup": "Gobierno Territorial",
         "marker": {
          "color": "#636efa",
          "size": {
           "bdata": "9OIAAA==",
           "dtype": "i4"
          },
          "sizemode": "area",
          "sizeref": 16.45138888888889,
          "symbol": "circle"
         },
         "mode": "markers",
         "name": "Gobierno Territorial",
         "orientation": "v",
         "showlegend": true,
         "type": "scatter",
         "x": {
          "bdata": "Ed0G9farlEE=",
          "dtype": "f8"
         },
         "xaxis": "x",
         "y": {
          "bdata": "U+knnPMTwkA=",
          "dtype": "f8"
         },
         "yaxis": "y"
        },
        {
         "hovertemplate": "<b>%{hovertext}</b><br><br>Sector=Hacienda<br>ValorTotalProyecto_M=%{x}<br>TotalBeneficiario_M=%{y}<br>CantidadProyectos=%{marker.size}<extra></extra>",
         "hovertext": [
          "Hacienda"
         ],
         "legendgroup": "Hacienda",
         "marker": {
          "color": "#EF553B",
          "size": {
           "bdata": "Qgk=",
           "dtype": "i2"
          },
          "sizemode": "area",
          "sizeref": 16.45138888888889,
          "symbol": "circle"
         },
         "mode": "markers",
         "name": "Hacienda",
         "orientation": "v",
         "showlegend": true,
         "type": "scatter",
         "x": {
          "bdata": "HY7fZT6Mk0E=",
          "dtype": "f8"
         },
         "xaxis": "x",
         "y": {
          "bdata": "d7zJb3lup0A=",
          "dtype": "f8"
         },
         "yaxis": "y"
        },
        {
         "hovertemplate": "<b>%{hovertext}</b><br><br>Sector=Igualdad Y Equidad<br>ValorTotalProyecto_M=%{x}<br>TotalBeneficiario_M=%{y}<br>CantidadProyectos=%{marker.size}<extra></extra>",
         "hovertext": [
          "Igualdad Y Equidad"
         ],
         "legendgroup": "Igualdad Y Equidad",
         "marker": {
          "color": "#00cc96",
          "size": {
           "bdata": "JA==",
           "dtype": "i1"
          },
          "sizemode": "area",
          "sizeref": 16.45138888888889,
          "symbol": "circle"
         },
         "mode": "markers",
         "name": "Igualdad Y Equidad",
         "orientation": "v",
         "showlegend": true,
         "type": "scatter",
         "x": {
          "bdata": "VgYICRjElUE=",
          "dtype": "f8"
         },
         "xaxis": "x",
         "y": {
          "bdata": "xZJy93mYdUA=",
          "dtype": "f8"
         },
         "yaxis": "y"
        },
        {
         "hovertemplate": "<b>%{hovertext}</b><br><br>Sector=Inclusión Social Y Reconciliación<br>ValorTotalProyecto_M=%{x}<br>TotalBeneficiario_M=%{y}<br>CantidadProyectos=%{marker.size}<extra></extra>",
         "hovertext": [
          "Inclusión Social Y Reconciliación"
         ],
         "legendgroup": "Inclusión Social Y Reconciliación",
         "marker": {
          "color": "#ab63fa",
          "size": {
           "bdata": "ML8AAA==",
           "dtype": "i4"
          },
          "sizemode": "area",
          "sizeref": 16.45138888888889,
          "symbol": "circle"
         },
         "mode": "markers",
         "name": "Inclusión Social Y Reconciliación",
         "orientation": "v",
         "showlegend": true,
         "type": "scatter",
         "x": {
          "bdata": "14d6idPmr0E=",
          "dtype": "f8"
         },
         "xaxis": "x",
         "y": {
          "bdata": "ur963A9mokA=",
          "dtype": "f8"
         },
         "yaxis": "y"
        },
        {
         "hovertemplate": "<b>%{hovertext}</b><br><br>Sector=Información Estadística<br>ValorTotalProyecto_M=%{x}<br>TotalBeneficiario_M=%{y}<br>CantidadProyectos=%{marker.size}<extra></extra>",
         "hovertext": [
          "Información Estadística"
         ],
         "legendgroup": "Información Estadística",
         "marker": {
          "color": "#FFA15A",
          "size": {
           "bdata": "tAs=",
           "dtype": "i2"
          },
          "sizemode": "area",
          "sizeref": 16.45138888888889,
          "symbol": "circle"
         },
         "mode": "markers",
         "name": "Información Estadística",
         "orientation": "v",
         "showlegend": true,
         "type": "scatter",
         "x": {
          "bdata": "DMrGzeyUckE=",
          "dtype": "f8"
         },
         "xaxis": "x",
         "y": {
          "bdata": "PbX66joTtkA=",
          "dtype": "f8"
         },
         "yaxis": "y"
        },
        {
         "hovertemplate": "<b>%{hovertext}</b><br><br>Sector=Interior<br>ValorTotalProyecto_M=%{x}<br>TotalBeneficiario_M=%{y}<br>CantidadProyectos=%{marker.size}<extra></extra>",
         "hovertext": [
          "Interior"
         ],
         "legendgroup": "Interior",
         "marker": {
          "color": "#19d3f3",
          "size": {
           "bdata": "JxM=",
           "dtype": "i2"
          },
          "sizemode": "area",
          "sizeref": 16.45138888888889,
          "symbol": "circle"
         },
         "mode": "markers",
         "name": "Interior",
         "orientation": "v",
         "showlegend": true,
         "type": "scatter",
         "x": {
          "bdata": "ImYbIC3SckE=",
          "dtype": "f8"
         },
         "xaxis": "x",
         "y": {
          "bdata": "RML3/qbjoUA=",
          "dtype": "f8"
         },
         "yaxis": "y"
        },
        {
         "hovertemplate": "<b>%{hovertext}</b><br><br>Sector=Justicia Y Del Derecho<br>ValorTotalProyecto_M=%{x}<br>TotalBeneficiario_M=%{y}<br>CantidadProyectos=%{marker.size}<extra></extra>",
         "hovertext": [
          "Justicia Y Del Derecho"
         ],
         "legendgroup": "Justicia Y Del Derecho",
         "marker": {
          "color": "#FF6692",
          "size": {
           "bdata": "xCg=",
           "dtype": "i2"
          },
          "sizemode": "area",
          "sizeref": 16.45138888888889,
          "symbol": "circle"
         },
         "mode": "markers",
         "name": "Justicia Y Del Derecho",
         "orientation": "v",
         "showlegend": true,
         "type": "scatter",
         "x": {
          "bdata": "gBAYZY1oeEE=",
          "dtype": "f8"
         },
         "xaxis": "x",
         "y": {
          "bdata": "PlkxXJUxtEA=",
          "dtype": "f8"
         },
         "yaxis": "y"
        },
        {
         "hovertemplate": "<b>%{hovertext}</b><br><br>Sector=Minas Y Energía<br>ValorTotalProyecto_M=%{x}<br>TotalBeneficiario_M=%{y}<br>CantidadProyectos=%{marker.size}<extra></extra>",
         "hovertext": [
          "Minas Y Energía"
         ],
         "legendgroup": "Minas Y Energía",
         "marker": {
          "color": "#B6E880",
          "size": {
           "bdata": "czI=",
           "dtype": "i2"
          },
          "sizemode": "area",
          "sizeref": 16.45138888888889,
          "symbol": "circle"
         },
         "mode": "markers",
         "name": "Minas Y Energía",
         "orientation": "v",
         "showlegend": true,
         "type": "scatter",
         "x": {
          "bdata": "jARTYVX8pkE=",
          "dtype": "f8"
         },
         "xaxis": "x",
         "y": {
          "bdata": "TYHMzqI/xkA=",
          "dtype": "f8"
         },
         "yaxis": "y"
        },
        {
         "hovertemplate": "<b>%{hovertext}</b><br><br>Sector=Organismos De Control<br>ValorTotalProyecto_M=%{x}<br>TotalBeneficiario_M=%{y}<br>CantidadProyectos=%{marker.size}<extra></extra>",
         "hovertext": [
          "Organismos De Control"
         ],
         "legendgroup": "Organismos De Control",
         "marker": {
          "color": "#FF97FF",
          "size": {
           "bdata": "HAQ=",
           "dtype": "i2"
          },
          "sizemode": "area",
          "sizeref": 16.45138888888889,
          "symbol": "circle"
         },
         "mode": "markers",
         "name": "Organismos De Control",
         "orientation": "v",
         "showlegend": true,
         "type": "scatter",
         "x": {
          "bdata": "DJEwiAGHXUE=",
          "dtype": "f8"
         },
         "xaxis": "x",
         "y": {
          "bdata": "3xgCAMMp6EA=",
          "dtype": "f8"
         },
         "yaxis": "y"
        },
        {
         "hovertemplate": "<b>%{hovertext}</b><br><br>Sector=Planeación<br>ValorTotalProyecto_M=%{x}<br>TotalBeneficiario_M=%{y}<br>CantidadProyectos=%{marker.size}<extra></extra>",
         "hovertext": [
          "Planeación"
         ],
         "legendgroup": "Planeación",
         "marker": {
          "color": "#FECB52",
          "size": {
           "bdata": "ZCY=",
           "dtype": "i2"
          },
          "sizemode": "area",
          "sizeref": 16.45138888888889,
          "symbol": "circle"
         },
         "mode": "markers",
         "name": "Planeación",
         "orientation": "v",
         "showlegend": true,
         "type": "scatter",
         "x": {
          "bdata": "SSK3T5LehEE=",
          "dtype": "f8"
         },
         "xaxis": "x",
         "y": {
          "bdata": "42vPLGGtrUA=",
          "dtype": "f8"
         },
         "yaxis": "y"
        },
        {
         "hovertemplate": "<b>%{hovertext}</b><br><br>Sector=Presidencia De La República<br>ValorTotalProyecto_M=%{x}<br>TotalBeneficiario_M=%{y}<br>CantidadProyectos=%{marker.size}<extra></extra>",
         "hovertext": [
          "Presidencia De La República"
         ],
         "legendgroup": "Presidencia De La República",
         "marker": {
          "color": "#636efa",
          "size": {
           "bdata": "ZgY=",
           "dtype": "i2"
          },
          "sizemode": "area",
          "sizeref": 16.45138888888889,
          "symbol": "circle"
         },
         "mode": "markers",
         "name": "Presidencia De La República",
         "orientation": "v",
         "showlegend": true,
         "type": "scatter",
         "x": {
          "bdata": "SFNTaNWygEE=",
          "dtype": "f8"
         },
         "xaxis": "x",
         "y": {
          "bdata": "W7Iqwv3ZskA=",
          "dtype": "f8"
         },
         "yaxis": "y"
        },
        {
         "hovertemplate": "<b>%{hovertext}</b><br><br>Sector=Rama Judicial<br>ValorTotalProyecto_M=%{x}<br>TotalBeneficiario_M=%{y}<br>CantidadProyectos=%{marker.size}<extra></extra>",
         "hovertext": [
          "Rama Judicial"
         ],
         "legendgroup": "Rama Judicial",
         "marker": {
          "color": "#EF553B",
          "size": {
           "bdata": "5gA=",
           "dtype": "i2"
          },
          "sizemode": "area",
          "sizeref": 16.45138888888889,
          "symbol": "circle"
         },
         "mode": "markers",
         "name": "Rama Judicial",
         "orientation": "v",
         "showlegend": true,
         "type": "scatter",
         "x": {
          "bdata": "S8g5QSlBckE=",
          "dtype": "f8"
         },
         "xaxis": "x",
         "y": {
          "bdata": "9gzhGMq150A=",
          "dtype": "f8"
         },
         "yaxis": "y"
        },
        {
         "hovertemplate": "<b>%{hovertext}</b><br><br>Sector=Registraduría<br>ValorTotalProyecto_M=%{x}<br>TotalBeneficiario_M=%{y}<br>CantidadProyectos=%{marker.size}<extra></extra>",
         "hovertext": [
          "Registraduría"
         ],
         "legendgroup": "Registraduría",
         "marker": {
          "color": "#00cc96",
          "size": {
           "bdata": "LgE=",
           "dtype": "i2"
          },
          "sizemode": "area",
          "sizeref": 16.45138888888889,
          "symbol": "circle"
         },
         "mode": "markers",
         "name": "Registraduría",
         "orientation": "v",
         "showlegend": true,
         "type": "scatter",
         "x": {
          "bdata": "9xkd5ySKVkE=",
          "dtype": "f8"
         },
         "xaxis": "x",
         "y": {
          "bdata": "VtXL77TsmkA=",
          "dtype": "f8"
         },
         "yaxis": "y"
        },
        {
         "hovertemplate": "<b>%{hovertext}</b><br><br>Sector=Relaciones Exteriores<br>ValorTotalProyecto_M=%{x}<br>TotalBeneficiario_M=%{y}<br>CantidadProyectos=%{marker.size}<extra></extra>",
         "hovertext": [
          "Relaciones Exteriores"
         ],
         "legendgroup": "Relaciones Exteriores",
         "marker": {
          "color": "#ab63fa",
          "size": {
           "bdata": "pgA=",
           "dtype": "i2"
          },
          "sizemode": "area",
          "sizeref": 16.45138888888889,
          "symbol": "circle"
         },
         "mode": "markers",
         "name": "Relaciones Exteriores",
         "orientation": "v",
         "showlegend": true,
         "type": "scatter",
         "x": {
          "bdata": "Ju3bZnC8OEE=",
          "dtype": "f8"
         },
         "xaxis": "x",
         "y": {
          "bdata": "KH6MuUvcikA=",
          "dtype": "f8"
         },
         "yaxis": "y"
        },
        {
         "hovertemplate": "<b>%{hovertext}</b><br><br>Sector=Salud Y Protección Social<br>ValorTotalProyecto_M=%{x}<br>TotalBeneficiario_M=%{y}<br>CantidadProyectos=%{marker.size}<extra></extra>",
         "hovertext": [
          "Salud Y Protección Social"
         ],
         "legendgroup": "Salud Y Protección Social",
         "marker": {
          "color": "#FFA15A",
          "size": {
           "bdata": "VJ8AAA==",
           "dtype": "i4"
          },
          "sizemode": "area",
          "sizeref": 16.45138888888889,
          "symbol": "circle"
         },
         "mode": "markers",
         "name": "Salud Y Protección Social",
         "orientation": "v",
         "showlegend": true,
         "type": "scatter",
         "x": {
          "bdata": "GFtnhKb3vkE=",
          "dtype": "f8"
         },
         "xaxis": "x",
         "y": {
          "bdata": "7QvoxfiO+UA=",
          "dtype": "f8"
         },
         "yaxis": "y"
        },
        {
         "hovertemplate": "<b>%{hovertext}</b><br><br>Sector=Sistema Integral De Verdad, Justicia, Reparación Y No Repetición<br>ValorTotalProyecto_M=%{x}<br>TotalBeneficiario_M=%{y}<br>CantidadProyectos=%{marker.size}<extra></extra>",
         "hovertext": [
          "Sistema Integral De Verdad, Justicia, Reparación Y No Repetición"
         ],
         "legendgroup": "Sistema Integral De Verdad, Justicia, Reparación Y No Repetición",
         "marker": {
          "color": "#19d3f3",
          "size": {
           "bdata": "Pg==",
           "dtype": "i1"
          },
          "sizemode": "area",
          "sizeref": 16.45138888888889,
          "symbol": "circle"
         },
         "mode": "markers",
         "name": "Sistema Integral De Verdad, Justicia, Reparación Y No Repetición",
         "orientation": "v",
         "showlegend": true,
         "type": "scatter",
         "x": {
          "bdata": "+PvFGCFnQkE=",
          "dtype": "f8"
         },
         "xaxis": "x",
         "y": {
          "bdata": "AoQPJZozd0A=",
          "dtype": "f8"
         },
         "yaxis": "y"
        },
        {
         "hovertemplate": "<b>%{hovertext}</b><br><br>Sector=Tecnologías De La Información Y Las Comunicaciones<br>ValorTotalProyecto_M=%{x}<br>TotalBeneficiario_M=%{y}<br>CantidadProyectos=%{marker.size}<extra></extra>",
         "hovertext": [
          "Tecnologías De La Información Y Las Comunicaciones"
         ],
         "legendgroup": "Tecnologías De La Información Y Las Comunicaciones",
         "marker": {
          "color": "#FF6692",
          "size": {
           "bdata": "Axo=",
           "dtype": "i2"
          },
          "sizemode": "area",
          "sizeref": 16.45138888888889,
          "symbol": "circle"
         },
         "mode": "markers",
         "name": "Tecnologías De La Información Y Las Comunicaciones",
         "orientation": "v",
         "showlegend": true,
         "type": "scatter",
         "x": {
          "bdata": "eB8ZUxzGkEE=",
          "dtype": "f8"
         },
         "xaxis": "x",
         "y": {
          "bdata": "PBOaJEwyzkA=",
          "dtype": "f8"
         },
         "yaxis": "y"
        },
        {
         "hovertemplate": "<b>%{hovertext}</b><br><br>Sector=Trabajo<br>ValorTotalProyecto_M=%{x}<br>TotalBeneficiario_M=%{y}<br>CantidadProyectos=%{marker.size}<extra></extra>",
         "hovertext": [
          "Trabajo"
         ],
         "legendgroup": "Trabajo",
         "marker": {
          "color": "#B6E880",
          "size": {
           "bdata": "MBs=",
           "dtype": "i2"
          },
          "sizemode": "area",
          "sizeref": 16.45138888888889,
          "symbol": "circle"
         },
         "mode": "markers",
         "name": "Trabajo",
         "orientation": "v",
         "showlegend": true,
         "type": "scatter",
         "x": {
          "bdata": "uN+20/q6mEE=",
          "dtype": "f8"
         },
         "xaxis": "x",
         "y": {
          "bdata": "nWNA9iJbpUA=",
          "dtype": "f8"
         },
         "yaxis": "y"
        },
        {
         "hovertemplate": "<b>%{hovertext}</b><br><br>Sector=Transporte<br>ValorTotalProyecto_M=%{x}<br>TotalBeneficiario_M=%{y}<br>CantidadProyectos=%{marker.size}<extra></extra>",
         "hovertext": [
          "Transporte"
         ],
         "legendgroup": "Transporte",
         "marker": {
          "color": "#FF97FF",
          "size": {
           "bdata": "WecAAA==",
           "dtype": "i4"
          },
          "sizemode": "area",
          "sizeref": 16.45138888888889,
          "symbol": "circle"
         },
         "mode": "markers",
         "name": "Transporte",
         "orientation": "v",
         "showlegend": true,
         "type": "scatter",
         "x": {
          "bdata": "gvWnIcNRzUE=",
          "dtype": "f8"
         },
         "xaxis": "x",
         "y": {
          "bdata": "VDpYv0Jr8kA=",
          "dtype": "f8"
         },
         "yaxis": "y"
        },
        {
         "hovertemplate": "<b>%{hovertext}</b><br><br>Sector=Vivienda, Ciudad Y Territorio<br>ValorTotalProyecto_M=%{x}<br>TotalBeneficiario_M=%{y}<br>CantidadProyectos=%{marker.size}<extra></extra>",
         "hovertext": [
          "Vivienda, Ciudad Y Territorio"
         ],
         "legendgroup": "Vivienda, Ciudad Y Territorio",
         "marker": {
          "color": "#FECB52",
          "size": {
           "bdata": "1McAAA==",
           "dtype": "i4"
          },
          "sizemode": "area",
          "sizeref": 16.45138888888889,
          "symbol": "circle"
         },
         "mode": "markers",
         "name": "Vivienda, Ciudad Y Territorio",
         "orientation": "v",
         "showlegend": true,
         "type": "scatter",
         "x": {
          "bdata": "9KgfWTY6skE=",
          "dtype": "f8"
         },
         "xaxis": "x",
         "y": {
          "bdata": "7UW0HetPuEA=",
          "dtype": "f8"
         },
         "yaxis": "y"
        }
       ],
       "layout": {
        "legend": {
         "itemsizing": "constant",
         "title": {
          "text": "Sector"
         },
         "tracegroupgap": 0
        },
        "template": {
         "data": {
          "bar": [
           {
            "error_x": {
             "color": "#2a3f5f"
            },
            "error_y": {
             "color": "#2a3f5f"
            },
            "marker": {
             "line": {
              "color": "white",
              "width": 0.5
             },
             "pattern": {
              "fillmode": "overlay",
              "size": 10,
              "solidity": 0.2
             }
            },
            "type": "bar"
           }
          ],
          "barpolar": [
           {
            "marker": {
             "line": {
              "color": "white",
              "width": 0.5
             },
             "pattern": {
              "fillmode": "overlay",
              "size": 10,
              "solidity": 0.2
             }
            },
            "type": "barpolar"
           }
          ],
          "carpet": [
           {
            "aaxis": {
             "endlinecolor": "#2a3f5f",
             "gridcolor": "#C8D4E3",
             "linecolor": "#C8D4E3",
             "minorgridcolor": "#C8D4E3",
             "startlinecolor": "#2a3f5f"
            },
            "baxis": {
             "endlinecolor": "#2a3f5f",
             "gridcolor": "#C8D4E3",
             "linecolor": "#C8D4E3",
             "minorgridcolor": "#C8D4E3",
             "startlinecolor": "#2a3f5f"
            },
            "type": "carpet"
           }
          ],
          "choropleth": [
           {
            "colorbar": {
             "outlinewidth": 0,
             "ticks": ""
            },
            "type": "choropleth"
           }
          ],
          "contour": [
           {
            "colorbar": {
             "outlinewidth": 0,
             "ticks": ""
            },
            "colorscale": [
             [
              0,
              "#0d0887"
             ],
             [
              0.1111111111111111,
              "#46039f"
             ],
             [
              0.2222222222222222,
              "#7201a8"
             ],
             [
              0.3333333333333333,
              "#9c179e"
             ],
             [
              0.4444444444444444,
              "#bd3786"
             ],
             [
              0.5555555555555556,
              "#d8576b"
             ],
             [
              0.6666666666666666,
              "#ed7953"
             ],
             [
              0.7777777777777778,
              "#fb9f3a"
             ],
             [
              0.8888888888888888,
              "#fdca26"
             ],
             [
              1,
              "#f0f921"
             ]
            ],
            "type": "contour"
           }
          ],
          "contourcarpet": [
           {
            "colorbar": {
             "outlinewidth": 0,
             "ticks": ""
            },
            "type": "contourcarpet"
           }
          ],
          "heatmap": [
           {
            "colorbar": {
             "outlinewidth": 0,
             "ticks": ""
            },
            "colorscale": [
             [
              0,
              "#0d0887"
             ],
             [
              0.1111111111111111,
              "#46039f"
             ],
             [
              0.2222222222222222,
              "#7201a8"
             ],
             [
              0.3333333333333333,
              "#9c179e"
             ],
             [
              0.4444444444444444,
              "#bd3786"
             ],
             [
              0.5555555555555556,
              "#d8576b"
             ],
             [
              0.6666666666666666,
              "#ed7953"
             ],
             [
              0.7777777777777778,
              "#fb9f3a"
             ],
             [
              0.8888888888888888,
              "#fdca26"
             ],
             [
              1,
              "#f0f921"
             ]
            ],
            "type": "heatmap"
           }
          ],
          "histogram": [
           {
            "marker": {
             "pattern": {
              "fillmode": "overlay",
              "size": 10,
              "solidity": 0.2
             }
            },
            "type": "histogram"
           }
          ],
          "histogram2d": [
           {
            "colorbar": {
             "outlinewidth": 0,
             "ticks": ""
            },
            "colorscale": [
             [
              0,
              "#0d0887"
             ],
             [
              0.1111111111111111,
              "#46039f"
             ],
             [
              0.2222222222222222,
              "#7201a8"
             ],
             [
              0.3333333333333333,
              "#9c179e"
             ],
             [
              0.4444444444444444,
              "#bd3786"
             ],
             [
              0.5555555555555556,
              "#d8576b"
             ],
             [
              0.6666666666666666,
              "#ed7953"
             ],
             [
              0.7777777777777778,
              "#fb9f3a"
             ],
             [
              0.8888888888888888,
              "#fdca26"
             ],
             [
              1,
              "#f0f921"
             ]
            ],
            "type": "histogram2d"
           }
          ],
          "histogram2dcontour": [
           {
            "colorbar": {
             "outlinewidth": 0,
             "ticks": ""
            },
            "colorscale": [
             [
              0,
              "#0d0887"
             ],
             [
              0.1111111111111111,
              "#46039f"
             ],
             [
              0.2222222222222222,
              "#7201a8"
             ],
             [
              0.3333333333333333,
              "#9c179e"
             ],
             [
              0.4444444444444444,
              "#bd3786"
             ],
             [
              0.5555555555555556,
              "#d8576b"
             ],
             [
              0.6666666666666666,
              "#ed7953"
             ],
             [
              0.7777777777777778,
              "#fb9f3a"
             ],
             [
              0.8888888888888888,
              "#fdca26"
             ],
             [
              1,
              "#f0f921"
             ]
            ],
            "type": "histogram2dcontour"
           }
          ],
          "mesh3d": [
           {
            "colorbar": {
             "outlinewidth": 0,
             "ticks": ""
            },
            "type": "mesh3d"
           }
          ],
          "parcoords": [
           {
            "line": {
             "colorbar": {
              "outlinewidth": 0,
              "ticks": ""
             }
            },
            "type": "parcoords"
           }
          ],
          "pie": [
           {
            "automargin": true,
            "type": "pie"
           }
          ],
          "scatter": [
           {
            "fillpattern": {
             "fillmode": "overlay",
             "size": 10,
             "solidity": 0.2
            },
            "type": "scatter"
           }
          ],
          "scatter3d": [
           {
            "line": {
             "colorbar": {
              "outlinewidth": 0,
              "ticks": ""
             }
            },
            "marker": {
             "colorbar": {
              "outlinewidth": 0,
              "ticks": ""
             }
            },
            "type": "scatter3d"
           }
          ],
          "scattercarpet": [
           {
            "marker": {
             "colorbar": {
              "outlinewidth": 0,
              "ticks": ""
             }
            },
            "type": "scattercarpet"
           }
          ],
          "scattergeo": [
           {
            "marker": {
             "colorbar": {
              "outlinewidth": 0,
              "ticks": ""
             }
            },
            "type": "scattergeo"
           }
          ],
          "scattergl": [
           {
            "marker": {
             "colorbar": {
              "outlinewidth": 0,
              "ticks": ""
             }
            },
            "type": "scattergl"
           }
          ],
          "scattermap": [
           {
            "marker": {
             "colorbar": {
              "outlinewidth": 0,
              "ticks": ""
             }
            },
            "type": "scattermap"
           }
          ],
          "scattermapbox": [
           {
            "marker": {
             "colorbar": {
              "outlinewidth": 0,
              "ticks": ""
             }
            },
            "type": "scattermapbox"
           }
          ],
          "scatterpolar": [
           {
            "marker": {
             "colorbar": {
              "outlinewidth": 0,
              "ticks": ""
             }
            },
            "type": "scatterpolar"
           }
          ],
          "scatterpolargl": [
           {
            "marker": {
             "colorbar": {
              "outlinewidth": 0,
              "ticks": ""
             }
            },
            "type": "scatterpolargl"
           }
          ],
          "scatterternary": [
           {
            "marker": {
             "colorbar": {
              "outlinewidth": 0,
              "ticks": ""
             }
            },
            "type": "scatterternary"
           }
          ],
          "surface": [
           {
            "colorbar": {
             "outlinewidth": 0,
             "ticks": ""
            },
            "colorscale": [
             [
              0,
              "#0d0887"
             ],
             [
              0.1111111111111111,
              "#46039f"
             ],
             [
              0.2222222222222222,
              "#7201a8"
             ],
             [
              0.3333333333333333,
              "#9c179e"
             ],
             [
              0.4444444444444444,
              "#bd3786"
             ],
             [
              0.5555555555555556,
              "#d8576b"
             ],
             [
              0.6666666666666666,
              "#ed7953"
             ],
             [
              0.7777777777777778,
              "#fb9f3a"
             ],
             [
              0.8888888888888888,
              "#fdca26"
             ],
             [
              1,
              "#f0f921"
             ]
            ],
            "type": "surface"
           }
          ],
          "table": [
           {
            "cells": {
             "fill": {
              "color": "#EBF0F8"
             },
             "line": {
              "color": "white"
             }
            },
            "header": {
             "fill": {
              "color": "#C8D4E3"
             },
             "line": {
              "color": "white"
             }
            },
            "type": "table"
           }
          ]
         },
         "layout": {
          "annotationdefaults": {
           "arrowcolor": "#2a3f5f",
           "arrowhead": 0,
           "arrowwidth": 1
          },
          "autotypenumbers": "strict",
          "coloraxis": {
           "colorbar": {
            "outlinewidth": 0,
            "ticks": ""
           }
          },
          "colorscale": {
           "diverging": [
            [
             0,
             "#8e0152"
            ],
            [
             0.1,
             "#c51b7d"
            ],
            [
             0.2,
             "#de77ae"
            ],
            [
             0.3,
             "#f1b6da"
            ],
            [
             0.4,
             "#fde0ef"
            ],
            [
             0.5,
             "#f7f7f7"
            ],
            [
             0.6,
             "#e6f5d0"
            ],
            [
             0.7,
             "#b8e186"
            ],
            [
             0.8,
             "#7fbc41"
            ],
            [
             0.9,
             "#4d9221"
            ],
            [
             1,
             "#276419"
            ]
           ],
           "sequential": [
            [
             0,
             "#0d0887"
            ],
            [
             0.1111111111111111,
             "#46039f"
            ],
            [
             0.2222222222222222,
             "#7201a8"
            ],
            [
             0.3333333333333333,
             "#9c179e"
            ],
            [
             0.4444444444444444,
             "#bd3786"
            ],
            [
             0.5555555555555556,
             "#d8576b"
            ],
            [
             0.6666666666666666,
             "#ed7953"
            ],
            [
             0.7777777777777778,
             "#fb9f3a"
            ],
            [
             0.8888888888888888,
             "#fdca26"
            ],
            [
             1,
             "#f0f921"
            ]
           ],
           "sequentialminus": [
            [
             0,
             "#0d0887"
            ],
            [
             0.1111111111111111,
             "#46039f"
            ],
            [
             0.2222222222222222,
             "#7201a8"
            ],
            [
             0.3333333333333333,
             "#9c179e"
            ],
            [
             0.4444444444444444,
             "#bd3786"
            ],
            [
             0.5555555555555556,
             "#d8576b"
            ],
            [
             0.6666666666666666,
             "#ed7953"
            ],
            [
             0.7777777777777778,
             "#fb9f3a"
            ],
            [
             0.8888888888888888,
             "#fdca26"
            ],
            [
             1,
             "#f0f921"
            ]
           ]
          },
          "colorway": [
           "#636efa",
           "#EF553B",
           "#00cc96",
           "#ab63fa",
           "#FFA15A",
           "#19d3f3",
           "#FF6692",
           "#B6E880",
           "#FF97FF",
           "#FECB52"
          ],
          "font": {
           "color": "#2a3f5f"
          },
          "geo": {
           "bgcolor": "white",
           "lakecolor": "white",
           "landcolor": "white",
           "showlakes": true,
           "showland": true,
           "subunitcolor": "#C8D4E3"
          },
          "hoverlabel": {
           "align": "left"
          },
          "hovermode": "closest",
          "mapbox": {
           "style": "light"
          },
          "paper_bgcolor": "white",
          "plot_bgcolor": "white",
          "polar": {
           "angularaxis": {
            "gridcolor": "#EBF0F8",
            "linecolor": "#EBF0F8",
            "ticks": ""
           },
           "bgcolor": "white",
           "radialaxis": {
            "gridcolor": "#EBF0F8",
            "linecolor": "#EBF0F8",
            "ticks": ""
           }
          },
          "scene": {
           "xaxis": {
            "backgroundcolor": "white",
            "gridcolor": "#DFE8F3",
            "gridwidth": 2,
            "linecolor": "#EBF0F8",
            "showbackground": true,
            "ticks": "",
            "zerolinecolor": "#EBF0F8"
           },
           "yaxis": {
            "backgroundcolor": "white",
            "gridcolor": "#DFE8F3",
            "gridwidth": 2,
            "linecolor": "#EBF0F8",
            "showbackground": true,
            "ticks": "",
            "zerolinecolor": "#EBF0F8"
           },
           "zaxis": {
            "backgroundcolor": "white",
            "gridcolor": "#DFE8F3",
            "gridwidth": 2,
            "linecolor": "#EBF0F8",
            "showbackground": true,
            "ticks": "",
            "zerolinecolor": "#EBF0F8"
           }
          },
          "shapedefaults": {
           "line": {
            "color": "#2a3f5f"
           }
          },
          "ternary": {
           "aaxis": {
            "gridcolor": "#DFE8F3",
            "linecolor": "#A2B1C6",
            "ticks": ""
           },
           "baxis": {
            "gridcolor": "#DFE8F3",
            "linecolor": "#A2B1C6",
            "ticks": ""
           },
           "bgcolor": "white",
           "caxis": {
            "gridcolor": "#DFE8F3",
            "linecolor": "#A2B1C6",
            "ticks": ""
           }
          },
          "title": {
           "x": 0.05
          },
          "xaxis": {
           "automargin": true,
           "gridcolor": "#EBF0F8",
           "linecolor": "#EBF0F8",
           "ticks": "",
           "title": {
            "standoff": 15
           },
           "zerolinecolor": "#EBF0F8",
           "zerolinewidth": 2
          },
          "yaxis": {
           "automargin": true,
           "gridcolor": "#EBF0F8",
           "linecolor": "#EBF0F8",
           "ticks": "",
           "title": {
            "standoff": 15
           },
           "zerolinecolor": "#EBF0F8",
           "zerolinewidth": 2
          }
         }
        },
        "title": {
         "text": "RELACIÓN INVERSIÓN - BENEFICIARIOS - CANTIDAD DE PROYECTOS"
        },
        "xaxis": {
         "anchor": "y",
         "domain": [
          0,
          1
         ],
         "title": {
          "text": "Inversión total (millones COP, log)"
         },
         "type": "log"
        },
        "yaxis": {
         "anchor": "x",
         "domain": [
          0,
          1
         ],
         "title": {
          "text": "Total beneficiarios (millones, log)"
         },
         "type": "log"
        }
       }
      }
     },
     "metadata": {},
     "output_type": "display_data"
    }
   ],
   "source": [
    "import plotly.express as px\n",
    "\n",
    "# Agrupar y crear el dataframe resumido por sector\n",
    "Variables_Sector = (\n",
    "    df.groupby(\"Sector\", as_index=False)\n",
    "      .agg(\n",
    "          ValorTotalProyecto_M=(\"ValorTotalProyecto\", lambda x: x.sum() / 1_000_000),\n",
    "          TotalBeneficiario_M=(\"TotalBeneficiario\", lambda x: x.sum() / 1_000_000),\n",
    "          CantidadProyectos=(\"Bpin\", \"count\")\n",
    "      )\n",
    ")\n",
    "\n",
    "# Gráfico burbuja\n",
    "fig = px.scatter(\n",
    "    Variables_Sector,\n",
    "    x=\"ValorTotalProyecto_M\",\n",
    "    y=\"TotalBeneficiario_M\",\n",
    "    size=\"CantidadProyectos\",\n",
    "    color=\"Sector\",\n",
    "    hover_name=\"Sector\",\n",
    "    title=\"RELACIÓN INVERSIÓN - BENEFICIARIOS - CANTIDAD DE PROYECTOS\",\n",
    "    template=\"plotly_white\",\n",
    "    log_x=True,\n",
    "    log_y=True,\n",
    "    size_max=60\n",
    ")\n",
    "\n",
    "fig.update_xaxes(title=\"Inversión total (millones COP, log)\")\n",
    "fig.update_yaxes(title=\"Total beneficiarios (millones, log)\")\n",
    "fig.show()\n"
   ]
  },
  {
   "cell_type": "code",
   "execution_count": 27,
   "id": "6dff5a57",
   "metadata": {},
   "outputs": [
    {
     "data": {
      "application/vnd.plotly.v1+json": {
       "config": {
        "plotlyServerURL": "https://plot.ly"
       },
       "data": [
        {
         "marker": {
          "color": "royalblue",
          "line": {
           "color": "black",
           "width": 1
          }
         },
         "name": "Inversión",
         "text": [
          "983,795,267.31",
          "639,668,233.96",
          "519,546,500.40",
          "361,062,125.13",
          "305,804,889.12"
         ],
         "textposition": "outside",
         "type": "bar",
         "x": [
          "Transporte",
          "Educación",
          "Salud Y Protección Social",
          "Agricultura Y Desarrollo Rural",
          "Vivienda, Ciudad Y Territorio"
         ],
         "xaxis": "x",
         "y": {
          "bdata": "gvWnIcNRzUFiOvsESBDDQRhbZ4Sm975BX40g7V6FtUH0qB9ZNjqyQQ==",
          "dtype": "f8"
         },
         "yaxis": "y"
        },
        {
         "marker": {
          "color": "tomato",
          "line": {
           "color": "black",
           "width": 1
          }
         },
         "name": "Eficiencia",
         "text": [
          "0.006393",
          "0.002537",
          "0.000530",
          "0.000292",
          "0.000290"
         ],
         "textposition": "outside",
         "type": "bar",
         "x": [
          "Organismos De Control",
          "Rama Judicial",
          "Relaciones Exteriores",
          "Registraduría",
          "Información Estadística"
         ],
         "xaxis": "x2",
         "y": {
          "bdata": "cZVlfsIvej8wboMSI8hkP6zztCfIX0E/8mokBt0cMz965AMADQIzPw==",
          "dtype": "f8"
         },
         "yaxis": "y2"
        }
       ],
       "layout": {
        "annotations": [
         {
          "font": {
           "size": 16
          },
          "showarrow": false,
          "text": "Top 5 por Inversión Total (M COP)",
          "x": 0.225,
          "xanchor": "center",
          "xref": "paper",
          "y": 1,
          "yanchor": "bottom",
          "yref": "paper"
         },
         {
          "font": {
           "size": 16
          },
          "showarrow": false,
          "text": "Top 5 por Eficiencia (beneficiarios / millón)",
          "x": 0.775,
          "xanchor": "center",
          "xref": "paper",
          "y": 1,
          "yanchor": "bottom",
          "yref": "paper"
         }
        ],
        "height": 550,
        "margin": {
         "b": 150,
         "l": 60,
         "r": 40,
         "t": 80
        },
        "showlegend": false,
        "template": {
         "data": {
          "bar": [
           {
            "error_x": {
             "color": "#2a3f5f"
            },
            "error_y": {
             "color": "#2a3f5f"
            },
            "marker": {
             "line": {
              "color": "white",
              "width": 0.5
             },
             "pattern": {
              "fillmode": "overlay",
              "size": 10,
              "solidity": 0.2
             }
            },
            "type": "bar"
           }
          ],
          "barpolar": [
           {
            "marker": {
             "line": {
              "color": "white",
              "width": 0.5
             },
             "pattern": {
              "fillmode": "overlay",
              "size": 10,
              "solidity": 0.2
             }
            },
            "type": "barpolar"
           }
          ],
          "carpet": [
           {
            "aaxis": {
             "endlinecolor": "#2a3f5f",
             "gridcolor": "#C8D4E3",
             "linecolor": "#C8D4E3",
             "minorgridcolor": "#C8D4E3",
             "startlinecolor": "#2a3f5f"
            },
            "baxis": {
             "endlinecolor": "#2a3f5f",
             "gridcolor": "#C8D4E3",
             "linecolor": "#C8D4E3",
             "minorgridcolor": "#C8D4E3",
             "startlinecolor": "#2a3f5f"
            },
            "type": "carpet"
           }
          ],
          "choropleth": [
           {
            "colorbar": {
             "outlinewidth": 0,
             "ticks": ""
            },
            "type": "choropleth"
           }
          ],
          "contour": [
           {
            "colorbar": {
             "outlinewidth": 0,
             "ticks": ""
            },
            "colorscale": [
             [
              0,
              "#0d0887"
             ],
             [
              0.1111111111111111,
              "#46039f"
             ],
             [
              0.2222222222222222,
              "#7201a8"
             ],
             [
              0.3333333333333333,
              "#9c179e"
             ],
             [
              0.4444444444444444,
              "#bd3786"
             ],
             [
              0.5555555555555556,
              "#d8576b"
             ],
             [
              0.6666666666666666,
              "#ed7953"
             ],
             [
              0.7777777777777778,
              "#fb9f3a"
             ],
             [
              0.8888888888888888,
              "#fdca26"
             ],
             [
              1,
              "#f0f921"
             ]
            ],
            "type": "contour"
           }
          ],
          "contourcarpet": [
           {
            "colorbar": {
             "outlinewidth": 0,
             "ticks": ""
            },
            "type": "contourcarpet"
           }
          ],
          "heatmap": [
           {
            "colorbar": {
             "outlinewidth": 0,
             "ticks": ""
            },
            "colorscale": [
             [
              0,
              "#0d0887"
             ],
             [
              0.1111111111111111,
              "#46039f"
             ],
             [
              0.2222222222222222,
              "#7201a8"
             ],
             [
              0.3333333333333333,
              "#9c179e"
             ],
             [
              0.4444444444444444,
              "#bd3786"
             ],
             [
              0.5555555555555556,
              "#d8576b"
             ],
             [
              0.6666666666666666,
              "#ed7953"
             ],
             [
              0.7777777777777778,
              "#fb9f3a"
             ],
             [
              0.8888888888888888,
              "#fdca26"
             ],
             [
              1,
              "#f0f921"
             ]
            ],
            "type": "heatmap"
           }
          ],
          "histogram": [
           {
            "marker": {
             "pattern": {
              "fillmode": "overlay",
              "size": 10,
              "solidity": 0.2
             }
            },
            "type": "histogram"
           }
          ],
          "histogram2d": [
           {
            "colorbar": {
             "outlinewidth": 0,
             "ticks": ""
            },
            "colorscale": [
             [
              0,
              "#0d0887"
             ],
             [
              0.1111111111111111,
              "#46039f"
             ],
             [
              0.2222222222222222,
              "#7201a8"
             ],
             [
              0.3333333333333333,
              "#9c179e"
             ],
             [
              0.4444444444444444,
              "#bd3786"
             ],
             [
              0.5555555555555556,
              "#d8576b"
             ],
             [
              0.6666666666666666,
              "#ed7953"
             ],
             [
              0.7777777777777778,
              "#fb9f3a"
             ],
             [
              0.8888888888888888,
              "#fdca26"
             ],
             [
              1,
              "#f0f921"
             ]
            ],
            "type": "histogram2d"
           }
          ],
          "histogram2dcontour": [
           {
            "colorbar": {
             "outlinewidth": 0,
             "ticks": ""
            },
            "colorscale": [
             [
              0,
              "#0d0887"
             ],
             [
              0.1111111111111111,
              "#46039f"
             ],
             [
              0.2222222222222222,
              "#7201a8"
             ],
             [
              0.3333333333333333,
              "#9c179e"
             ],
             [
              0.4444444444444444,
              "#bd3786"
             ],
             [
              0.5555555555555556,
              "#d8576b"
             ],
             [
              0.6666666666666666,
              "#ed7953"
             ],
             [
              0.7777777777777778,
              "#fb9f3a"
             ],
             [
              0.8888888888888888,
              "#fdca26"
             ],
             [
              1,
              "#f0f921"
             ]
            ],
            "type": "histogram2dcontour"
           }
          ],
          "mesh3d": [
           {
            "colorbar": {
             "outlinewidth": 0,
             "ticks": ""
            },
            "type": "mesh3d"
           }
          ],
          "parcoords": [
           {
            "line": {
             "colorbar": {
              "outlinewidth": 0,
              "ticks": ""
             }
            },
            "type": "parcoords"
           }
          ],
          "pie": [
           {
            "automargin": true,
            "type": "pie"
           }
          ],
          "scatter": [
           {
            "fillpattern": {
             "fillmode": "overlay",
             "size": 10,
             "solidity": 0.2
            },
            "type": "scatter"
           }
          ],
          "scatter3d": [
           {
            "line": {
             "colorbar": {
              "outlinewidth": 0,
              "ticks": ""
             }
            },
            "marker": {
             "colorbar": {
              "outlinewidth": 0,
              "ticks": ""
             }
            },
            "type": "scatter3d"
           }
          ],
          "scattercarpet": [
           {
            "marker": {
             "colorbar": {
              "outlinewidth": 0,
              "ticks": ""
             }
            },
            "type": "scattercarpet"
           }
          ],
          "scattergeo": [
           {
            "marker": {
             "colorbar": {
              "outlinewidth": 0,
              "ticks": ""
             }
            },
            "type": "scattergeo"
           }
          ],
          "scattergl": [
           {
            "marker": {
             "colorbar": {
              "outlinewidth": 0,
              "ticks": ""
             }
            },
            "type": "scattergl"
           }
          ],
          "scattermap": [
           {
            "marker": {
             "colorbar": {
              "outlinewidth": 0,
              "ticks": ""
             }
            },
            "type": "scattermap"
           }
          ],
          "scattermapbox": [
           {
            "marker": {
             "colorbar": {
              "outlinewidth": 0,
              "ticks": ""
             }
            },
            "type": "scattermapbox"
           }
          ],
          "scatterpolar": [
           {
            "marker": {
             "colorbar": {
              "outlinewidth": 0,
              "ticks": ""
             }
            },
            "type": "scatterpolar"
           }
          ],
          "scatterpolargl": [
           {
            "marker": {
             "colorbar": {
              "outlinewidth": 0,
              "ticks": ""
             }
            },
            "type": "scatterpolargl"
           }
          ],
          "scatterternary": [
           {
            "marker": {
             "colorbar": {
              "outlinewidth": 0,
              "ticks": ""
             }
            },
            "type": "scatterternary"
           }
          ],
          "surface": [
           {
            "colorbar": {
             "outlinewidth": 0,
             "ticks": ""
            },
            "colorscale": [
             [
              0,
              "#0d0887"
             ],
             [
              0.1111111111111111,
              "#46039f"
             ],
             [
              0.2222222222222222,
              "#7201a8"
             ],
             [
              0.3333333333333333,
              "#9c179e"
             ],
             [
              0.4444444444444444,
              "#bd3786"
             ],
             [
              0.5555555555555556,
              "#d8576b"
             ],
             [
              0.6666666666666666,
              "#ed7953"
             ],
             [
              0.7777777777777778,
              "#fb9f3a"
             ],
             [
              0.8888888888888888,
              "#fdca26"
             ],
             [
              1,
              "#f0f921"
             ]
            ],
            "type": "surface"
           }
          ],
          "table": [
           {
            "cells": {
             "fill": {
              "color": "#EBF0F8"
             },
             "line": {
              "color": "white"
             }
            },
            "header": {
             "fill": {
              "color": "#C8D4E3"
             },
             "line": {
              "color": "white"
             }
            },
            "type": "table"
           }
          ]
         },
         "layout": {
          "annotationdefaults": {
           "arrowcolor": "#2a3f5f",
           "arrowhead": 0,
           "arrowwidth": 1
          },
          "autotypenumbers": "strict",
          "coloraxis": {
           "colorbar": {
            "outlinewidth": 0,
            "ticks": ""
           }
          },
          "colorscale": {
           "diverging": [
            [
             0,
             "#8e0152"
            ],
            [
             0.1,
             "#c51b7d"
            ],
            [
             0.2,
             "#de77ae"
            ],
            [
             0.3,
             "#f1b6da"
            ],
            [
             0.4,
             "#fde0ef"
            ],
            [
             0.5,
             "#f7f7f7"
            ],
            [
             0.6,
             "#e6f5d0"
            ],
            [
             0.7,
             "#b8e186"
            ],
            [
             0.8,
             "#7fbc41"
            ],
            [
             0.9,
             "#4d9221"
            ],
            [
             1,
             "#276419"
            ]
           ],
           "sequential": [
            [
             0,
             "#0d0887"
            ],
            [
             0.1111111111111111,
             "#46039f"
            ],
            [
             0.2222222222222222,
             "#7201a8"
            ],
            [
             0.3333333333333333,
             "#9c179e"
            ],
            [
             0.4444444444444444,
             "#bd3786"
            ],
            [
             0.5555555555555556,
             "#d8576b"
            ],
            [
             0.6666666666666666,
             "#ed7953"
            ],
            [
             0.7777777777777778,
             "#fb9f3a"
            ],
            [
             0.8888888888888888,
             "#fdca26"
            ],
            [
             1,
             "#f0f921"
            ]
           ],
           "sequentialminus": [
            [
             0,
             "#0d0887"
            ],
            [
             0.1111111111111111,
             "#46039f"
            ],
            [
             0.2222222222222222,
             "#7201a8"
            ],
            [
             0.3333333333333333,
             "#9c179e"
            ],
            [
             0.4444444444444444,
             "#bd3786"
            ],
            [
             0.5555555555555556,
             "#d8576b"
            ],
            [
             0.6666666666666666,
             "#ed7953"
            ],
            [
             0.7777777777777778,
             "#fb9f3a"
            ],
            [
             0.8888888888888888,
             "#fdca26"
            ],
            [
             1,
             "#f0f921"
            ]
           ]
          },
          "colorway": [
           "#636efa",
           "#EF553B",
           "#00cc96",
           "#ab63fa",
           "#FFA15A",
           "#19d3f3",
           "#FF6692",
           "#B6E880",
           "#FF97FF",
           "#FECB52"
          ],
          "font": {
           "color": "#2a3f5f"
          },
          "geo": {
           "bgcolor": "white",
           "lakecolor": "white",
           "landcolor": "white",
           "showlakes": true,
           "showland": true,
           "subunitcolor": "#C8D4E3"
          },
          "hoverlabel": {
           "align": "left"
          },
          "hovermode": "closest",
          "mapbox": {
           "style": "light"
          },
          "paper_bgcolor": "white",
          "plot_bgcolor": "white",
          "polar": {
           "angularaxis": {
            "gridcolor": "#EBF0F8",
            "linecolor": "#EBF0F8",
            "ticks": ""
           },
           "bgcolor": "white",
           "radialaxis": {
            "gridcolor": "#EBF0F8",
            "linecolor": "#EBF0F8",
            "ticks": ""
           }
          },
          "scene": {
           "xaxis": {
            "backgroundcolor": "white",
            "gridcolor": "#DFE8F3",
            "gridwidth": 2,
            "linecolor": "#EBF0F8",
            "showbackground": true,
            "ticks": "",
            "zerolinecolor": "#EBF0F8"
           },
           "yaxis": {
            "backgroundcolor": "white",
            "gridcolor": "#DFE8F3",
            "gridwidth": 2,
            "linecolor": "#EBF0F8",
            "showbackground": true,
            "ticks": "",
            "zerolinecolor": "#EBF0F8"
           },
           "zaxis": {
            "backgroundcolor": "white",
            "gridcolor": "#DFE8F3",
            "gridwidth": 2,
            "linecolor": "#EBF0F8",
            "showbackground": true,
            "ticks": "",
            "zerolinecolor": "#EBF0F8"
           }
          },
          "shapedefaults": {
           "line": {
            "color": "#2a3f5f"
           }
          },
          "ternary": {
           "aaxis": {
            "gridcolor": "#DFE8F3",
            "linecolor": "#A2B1C6",
            "ticks": ""
           },
           "baxis": {
            "gridcolor": "#DFE8F3",
            "linecolor": "#A2B1C6",
            "ticks": ""
           },
           "bgcolor": "white",
           "caxis": {
            "gridcolor": "#DFE8F3",
            "linecolor": "#A2B1C6",
            "ticks": ""
           }
          },
          "title": {
           "x": 0.05
          },
          "xaxis": {
           "automargin": true,
           "gridcolor": "#EBF0F8",
           "linecolor": "#EBF0F8",
           "ticks": "",
           "title": {
            "standoff": 15
           },
           "zerolinecolor": "#EBF0F8",
           "zerolinewidth": 2
          },
          "yaxis": {
           "automargin": true,
           "gridcolor": "#EBF0F8",
           "linecolor": "#EBF0F8",
           "ticks": "",
           "title": {
            "standoff": 15
           },
           "zerolinecolor": "#EBF0F8",
           "zerolinewidth": 2
          }
         }
        },
        "title": {
         "text": "Top 5 Sectores: Inversión vs Eficiencia"
        },
        "width": 1200,
        "xaxis": {
         "anchor": "y",
         "domain": [
          0,
          0.45
         ],
         "tickangle": -30
        },
        "xaxis2": {
         "anchor": "y2",
         "domain": [
          0.55,
          1
         ],
         "tickangle": -30
        },
        "yaxis": {
         "anchor": "x",
         "domain": [
          0,
          1
         ],
         "title": {
          "text": "Inversión total (M COP)"
         }
        },
        "yaxis2": {
         "anchor": "x2",
         "domain": [
          0,
          1
         ],
         "title": {
          "text": "Eficiencia (beneficiarios / millón)"
         }
        }
       }
      }
     },
     "metadata": {},
     "output_type": "display_data"
    }
   ],
   "source": [
    "import pandas as pd\n",
    "import plotly.graph_objects as go\n",
    "from plotly.subplots import make_subplots\n",
    "\n",
    "# --- Preparación ---\n",
    "tabla_resumen = Variables_Sector[[\n",
    "    \"Sector\", \"ValorTotalProyecto_M\", \"TotalBeneficiario_M\", \"CantidadProyectos\"\n",
    "]].copy()\n",
    "\n",
    "tabla_resumen[\"Eficiencia_Beneficiarios_x_Millon\"] = (\n",
    "    tabla_resumen[\"TotalBeneficiario_M\"] / tabla_resumen[\"ValorTotalProyecto_M\"]\n",
    ")\n",
    "\n",
    "# Top 5 inversión y eficiencia\n",
    "top5_inv = tabla_resumen.nlargest(5, \"ValorTotalProyecto_M\").sort_values(\"ValorTotalProyecto_M\", ascending=False)\n",
    "top5_eff = tabla_resumen.nlargest(5, \"Eficiencia_Beneficiarios_x_Millon\").sort_values(\"Eficiencia_Beneficiarios_x_Millon\", ascending=False)\n",
    "\n",
    "# --- Crear subplots: 1 fila, 2 columnas ---\n",
    "fig = make_subplots(\n",
    "    rows=1, cols=2,\n",
    "    subplot_titles=(\"Top 5 por Inversión Total (M COP)\", \"Top 5 por Eficiencia (beneficiarios / millón)\")\n",
    ")\n",
    "\n",
    "# --- Gráfico 1: Inversión ---\n",
    "fig.add_trace(\n",
    "    go.Bar(\n",
    "        x=top5_inv[\"Sector\"],\n",
    "        y=top5_inv[\"ValorTotalProyecto_M\"],\n",
    "        text=top5_inv[\"ValorTotalProyecto_M\"].round(2).map(lambda v: f\"{v:,.2f}\"),\n",
    "        textposition=\"outside\",\n",
    "        marker_color=\"royalblue\",\n",
    "        marker_line=dict(width=1, color=\"black\"),\n",
    "        name=\"Inversión\"\n",
    "    ),\n",
    "    row=1, col=1\n",
    ")\n",
    "\n",
    "# --- Gráfico 2: Eficiencia ---\n",
    "fig.add_trace(\n",
    "    go.Bar(\n",
    "        x=top5_eff[\"Sector\"],\n",
    "        y=top5_eff[\"Eficiencia_Beneficiarios_x_Millon\"],\n",
    "        text=top5_eff[\"Eficiencia_Beneficiarios_x_Millon\"].round(6).map(lambda v: f\"{v:.6f}\"),\n",
    "        textposition=\"outside\",\n",
    "        marker_color=\"tomato\",\n",
    "        marker_line=dict(width=1, color=\"black\"),\n",
    "        name=\"Eficiencia\"\n",
    "    ),\n",
    "    row=1, col=2\n",
    ")\n",
    "\n",
    "# --- Layout ---\n",
    "fig.update_layout(\n",
    "    template=\"plotly_white\",\n",
    "    height=550,\n",
    "    width=1200,\n",
    "    showlegend=False,\n",
    "    title=\"Top 5 Sectores: Inversión vs Eficiencia\",\n",
    "    margin=dict(l=60, r=40, t=80, b=150)  # margen inferior mayor para nombres largos\n",
    ")\n",
    "\n",
    "# Ejes\n",
    "fig.update_yaxes(title_text=\"Inversión total (M COP)\", row=1, col=1)\n",
    "fig.update_yaxes(title_text=\"Eficiencia (beneficiarios / millón)\", row=1, col=2)\n",
    "\n",
    "# Rotamos nombres para que se lean bien\n",
    "fig.update_xaxes(tickangle=-30)\n",
    "\n",
    "fig.show()\n"
   ]
  },
  {
   "cell_type": "code",
   "execution_count": 40,
   "id": "620529fb",
   "metadata": {},
   "outputs": [
    {
     "data": {
      "application/vnd.plotly.v1+json": {
       "config": {
        "plotlyServerURL": "https://plot.ly"
       },
       "data": [
        {
         "customdata": [
          [
           "Ejecución"
          ],
          [
           "Planeación/Evaluación"
          ],
          [
           "Finalizado"
          ]
         ],
         "domain": {
          "x": [
           0,
           1
          ],
          "y": [
           0,
           1
          ]
         },
         "hole": 0,
         "hovertemplate": "label=%{label}<br>value=%{value}<br>color=%{customdata[0]}<extra></extra>",
         "labels": [
          "Ejecución",
          "Planeación/Evaluación",
          "Finalizado"
         ],
         "legendgroup": "",
         "marker": {
          "colors": [
           "#B5EAEA",
           "#FFB7B2",
           "#FFDAC1"
          ],
          "line": {
           "color": "white",
           "width": 2
          }
         },
         "name": "",
         "pull": [
          0.05,
          0.05,
          0.1
         ],
         "showlegend": true,
         "textfont": {
          "size": 14
         },
         "textinfo": "label+percent",
         "type": "pie",
         "values": {
          "bdata": "9uYDAFFBAwDwaAAA",
          "dtype": "i4"
         }
        }
       ],
       "layout": {
        "legend": {
         "orientation": "h",
         "title": {
          "text": "Estado"
         },
         "tracegroupgap": 0,
         "x": 0.5,
         "xanchor": "center",
         "y": -0.2,
         "yanchor": "bottom"
        },
        "margin": {
         "t": 60
        },
        "template": {
         "data": {
          "bar": [
           {
            "error_x": {
             "color": "#2a3f5f"
            },
            "error_y": {
             "color": "#2a3f5f"
            },
            "marker": {
             "line": {
              "color": "#E5ECF6",
              "width": 0.5
             },
             "pattern": {
              "fillmode": "overlay",
              "size": 10,
              "solidity": 0.2
             }
            },
            "type": "bar"
           }
          ],
          "barpolar": [
           {
            "marker": {
             "line": {
              "color": "#E5ECF6",
              "width": 0.5
             },
             "pattern": {
              "fillmode": "overlay",
              "size": 10,
              "solidity": 0.2
             }
            },
            "type": "barpolar"
           }
          ],
          "carpet": [
           {
            "aaxis": {
             "endlinecolor": "#2a3f5f",
             "gridcolor": "white",
             "linecolor": "white",
             "minorgridcolor": "white",
             "startlinecolor": "#2a3f5f"
            },
            "baxis": {
             "endlinecolor": "#2a3f5f",
             "gridcolor": "white",
             "linecolor": "white",
             "minorgridcolor": "white",
             "startlinecolor": "#2a3f5f"
            },
            "type": "carpet"
           }
          ],
          "choropleth": [
           {
            "colorbar": {
             "outlinewidth": 0,
             "ticks": ""
            },
            "type": "choropleth"
           }
          ],
          "contour": [
           {
            "colorbar": {
             "outlinewidth": 0,
             "ticks": ""
            },
            "colorscale": [
             [
              0,
              "#0d0887"
             ],
             [
              0.1111111111111111,
              "#46039f"
             ],
             [
              0.2222222222222222,
              "#7201a8"
             ],
             [
              0.3333333333333333,
              "#9c179e"
             ],
             [
              0.4444444444444444,
              "#bd3786"
             ],
             [
              0.5555555555555556,
              "#d8576b"
             ],
             [
              0.6666666666666666,
              "#ed7953"
             ],
             [
              0.7777777777777778,
              "#fb9f3a"
             ],
             [
              0.8888888888888888,
              "#fdca26"
             ],
             [
              1,
              "#f0f921"
             ]
            ],
            "type": "contour"
           }
          ],
          "contourcarpet": [
           {
            "colorbar": {
             "outlinewidth": 0,
             "ticks": ""
            },
            "type": "contourcarpet"
           }
          ],
          "heatmap": [
           {
            "colorbar": {
             "outlinewidth": 0,
             "ticks": ""
            },
            "colorscale": [
             [
              0,
              "#0d0887"
             ],
             [
              0.1111111111111111,
              "#46039f"
             ],
             [
              0.2222222222222222,
              "#7201a8"
             ],
             [
              0.3333333333333333,
              "#9c179e"
             ],
             [
              0.4444444444444444,
              "#bd3786"
             ],
             [
              0.5555555555555556,
              "#d8576b"
             ],
             [
              0.6666666666666666,
              "#ed7953"
             ],
             [
              0.7777777777777778,
              "#fb9f3a"
             ],
             [
              0.8888888888888888,
              "#fdca26"
             ],
             [
              1,
              "#f0f921"
             ]
            ],
            "type": "heatmap"
           }
          ],
          "histogram": [
           {
            "marker": {
             "pattern": {
              "fillmode": "overlay",
              "size": 10,
              "solidity": 0.2
             }
            },
            "type": "histogram"
           }
          ],
          "histogram2d": [
           {
            "colorbar": {
             "outlinewidth": 0,
             "ticks": ""
            },
            "colorscale": [
             [
              0,
              "#0d0887"
             ],
             [
              0.1111111111111111,
              "#46039f"
             ],
             [
              0.2222222222222222,
              "#7201a8"
             ],
             [
              0.3333333333333333,
              "#9c179e"
             ],
             [
              0.4444444444444444,
              "#bd3786"
             ],
             [
              0.5555555555555556,
              "#d8576b"
             ],
             [
              0.6666666666666666,
              "#ed7953"
             ],
             [
              0.7777777777777778,
              "#fb9f3a"
             ],
             [
              0.8888888888888888,
              "#fdca26"
             ],
             [
              1,
              "#f0f921"
             ]
            ],
            "type": "histogram2d"
           }
          ],
          "histogram2dcontour": [
           {
            "colorbar": {
             "outlinewidth": 0,
             "ticks": ""
            },
            "colorscale": [
             [
              0,
              "#0d0887"
             ],
             [
              0.1111111111111111,
              "#46039f"
             ],
             [
              0.2222222222222222,
              "#7201a8"
             ],
             [
              0.3333333333333333,
              "#9c179e"
             ],
             [
              0.4444444444444444,
              "#bd3786"
             ],
             [
              0.5555555555555556,
              "#d8576b"
             ],
             [
              0.6666666666666666,
              "#ed7953"
             ],
             [
              0.7777777777777778,
              "#fb9f3a"
             ],
             [
              0.8888888888888888,
              "#fdca26"
             ],
             [
              1,
              "#f0f921"
             ]
            ],
            "type": "histogram2dcontour"
           }
          ],
          "mesh3d": [
           {
            "colorbar": {
             "outlinewidth": 0,
             "ticks": ""
            },
            "type": "mesh3d"
           }
          ],
          "parcoords": [
           {
            "line": {
             "colorbar": {
              "outlinewidth": 0,
              "ticks": ""
             }
            },
            "type": "parcoords"
           }
          ],
          "pie": [
           {
            "automargin": true,
            "type": "pie"
           }
          ],
          "scatter": [
           {
            "fillpattern": {
             "fillmode": "overlay",
             "size": 10,
             "solidity": 0.2
            },
            "type": "scatter"
           }
          ],
          "scatter3d": [
           {
            "line": {
             "colorbar": {
              "outlinewidth": 0,
              "ticks": ""
             }
            },
            "marker": {
             "colorbar": {
              "outlinewidth": 0,
              "ticks": ""
             }
            },
            "type": "scatter3d"
           }
          ],
          "scattercarpet": [
           {
            "marker": {
             "colorbar": {
              "outlinewidth": 0,
              "ticks": ""
             }
            },
            "type": "scattercarpet"
           }
          ],
          "scattergeo": [
           {
            "marker": {
             "colorbar": {
              "outlinewidth": 0,
              "ticks": ""
             }
            },
            "type": "scattergeo"
           }
          ],
          "scattergl": [
           {
            "marker": {
             "colorbar": {
              "outlinewidth": 0,
              "ticks": ""
             }
            },
            "type": "scattergl"
           }
          ],
          "scattermap": [
           {
            "marker": {
             "colorbar": {
              "outlinewidth": 0,
              "ticks": ""
             }
            },
            "type": "scattermap"
           }
          ],
          "scattermapbox": [
           {
            "marker": {
             "colorbar": {
              "outlinewidth": 0,
              "ticks": ""
             }
            },
            "type": "scattermapbox"
           }
          ],
          "scatterpolar": [
           {
            "marker": {
             "colorbar": {
              "outlinewidth": 0,
              "ticks": ""
             }
            },
            "type": "scatterpolar"
           }
          ],
          "scatterpolargl": [
           {
            "marker": {
             "colorbar": {
              "outlinewidth": 0,
              "ticks": ""
             }
            },
            "type": "scatterpolargl"
           }
          ],
          "scatterternary": [
           {
            "marker": {
             "colorbar": {
              "outlinewidth": 0,
              "ticks": ""
             }
            },
            "type": "scatterternary"
           }
          ],
          "surface": [
           {
            "colorbar": {
             "outlinewidth": 0,
             "ticks": ""
            },
            "colorscale": [
             [
              0,
              "#0d0887"
             ],
             [
              0.1111111111111111,
              "#46039f"
             ],
             [
              0.2222222222222222,
              "#7201a8"
             ],
             [
              0.3333333333333333,
              "#9c179e"
             ],
             [
              0.4444444444444444,
              "#bd3786"
             ],
             [
              0.5555555555555556,
              "#d8576b"
             ],
             [
              0.6666666666666666,
              "#ed7953"
             ],
             [
              0.7777777777777778,
              "#fb9f3a"
             ],
             [
              0.8888888888888888,
              "#fdca26"
             ],
             [
              1,
              "#f0f921"
             ]
            ],
            "type": "surface"
           }
          ],
          "table": [
           {
            "cells": {
             "fill": {
              "color": "#EBF0F8"
             },
             "line": {
              "color": "white"
             }
            },
            "header": {
             "fill": {
              "color": "#C8D4E3"
             },
             "line": {
              "color": "white"
             }
            },
            "type": "table"
           }
          ]
         },
         "layout": {
          "annotationdefaults": {
           "arrowcolor": "#2a3f5f",
           "arrowhead": 0,
           "arrowwidth": 1
          },
          "autotypenumbers": "strict",
          "coloraxis": {
           "colorbar": {
            "outlinewidth": 0,
            "ticks": ""
           }
          },
          "colorscale": {
           "diverging": [
            [
             0,
             "#8e0152"
            ],
            [
             0.1,
             "#c51b7d"
            ],
            [
             0.2,
             "#de77ae"
            ],
            [
             0.3,
             "#f1b6da"
            ],
            [
             0.4,
             "#fde0ef"
            ],
            [
             0.5,
             "#f7f7f7"
            ],
            [
             0.6,
             "#e6f5d0"
            ],
            [
             0.7,
             "#b8e186"
            ],
            [
             0.8,
             "#7fbc41"
            ],
            [
             0.9,
             "#4d9221"
            ],
            [
             1,
             "#276419"
            ]
           ],
           "sequential": [
            [
             0,
             "#0d0887"
            ],
            [
             0.1111111111111111,
             "#46039f"
            ],
            [
             0.2222222222222222,
             "#7201a8"
            ],
            [
             0.3333333333333333,
             "#9c179e"
            ],
            [
             0.4444444444444444,
             "#bd3786"
            ],
            [
             0.5555555555555556,
             "#d8576b"
            ],
            [
             0.6666666666666666,
             "#ed7953"
            ],
            [
             0.7777777777777778,
             "#fb9f3a"
            ],
            [
             0.8888888888888888,
             "#fdca26"
            ],
            [
             1,
             "#f0f921"
            ]
           ],
           "sequentialminus": [
            [
             0,
             "#0d0887"
            ],
            [
             0.1111111111111111,
             "#46039f"
            ],
            [
             0.2222222222222222,
             "#7201a8"
            ],
            [
             0.3333333333333333,
             "#9c179e"
            ],
            [
             0.4444444444444444,
             "#bd3786"
            ],
            [
             0.5555555555555556,
             "#d8576b"
            ],
            [
             0.6666666666666666,
             "#ed7953"
            ],
            [
             0.7777777777777778,
             "#fb9f3a"
            ],
            [
             0.8888888888888888,
             "#fdca26"
            ],
            [
             1,
             "#f0f921"
            ]
           ]
          },
          "colorway": [
           "#636efa",
           "#EF553B",
           "#00cc96",
           "#ab63fa",
           "#FFA15A",
           "#19d3f3",
           "#FF6692",
           "#B6E880",
           "#FF97FF",
           "#FECB52"
          ],
          "font": {
           "color": "#2a3f5f"
          },
          "geo": {
           "bgcolor": "white",
           "lakecolor": "white",
           "landcolor": "#E5ECF6",
           "showlakes": true,
           "showland": true,
           "subunitcolor": "white"
          },
          "hoverlabel": {
           "align": "left"
          },
          "hovermode": "closest",
          "mapbox": {
           "style": "light"
          },
          "paper_bgcolor": "white",
          "plot_bgcolor": "#E5ECF6",
          "polar": {
           "angularaxis": {
            "gridcolor": "white",
            "linecolor": "white",
            "ticks": ""
           },
           "bgcolor": "#E5ECF6",
           "radialaxis": {
            "gridcolor": "white",
            "linecolor": "white",
            "ticks": ""
           }
          },
          "scene": {
           "xaxis": {
            "backgroundcolor": "#E5ECF6",
            "gridcolor": "white",
            "gridwidth": 2,
            "linecolor": "white",
            "showbackground": true,
            "ticks": "",
            "zerolinecolor": "white"
           },
           "yaxis": {
            "backgroundcolor": "#E5ECF6",
            "gridcolor": "white",
            "gridwidth": 2,
            "linecolor": "white",
            "showbackground": true,
            "ticks": "",
            "zerolinecolor": "white"
           },
           "zaxis": {
            "backgroundcolor": "#E5ECF6",
            "gridcolor": "white",
            "gridwidth": 2,
            "linecolor": "white",
            "showbackground": true,
            "ticks": "",
            "zerolinecolor": "white"
           }
          },
          "shapedefaults": {
           "line": {
            "color": "#2a3f5f"
           }
          },
          "ternary": {
           "aaxis": {
            "gridcolor": "white",
            "linecolor": "white",
            "ticks": ""
           },
           "baxis": {
            "gridcolor": "white",
            "linecolor": "white",
            "ticks": ""
           },
           "bgcolor": "#E5ECF6",
           "caxis": {
            "gridcolor": "white",
            "linecolor": "white",
            "ticks": ""
           }
          },
          "title": {
           "x": 0.05
          },
          "xaxis": {
           "automargin": true,
           "gridcolor": "white",
           "linecolor": "white",
           "ticks": "",
           "title": {
            "standoff": 15
           },
           "zerolinecolor": "white",
           "zerolinewidth": 2
          },
          "yaxis": {
           "automargin": true,
           "gridcolor": "white",
           "linecolor": "white",
           "ticks": "",
           "title": {
            "standoff": 15
           },
           "zerolinecolor": "white",
           "zerolinewidth": 2
          }
         }
        },
        "title": {
         "text": "DISTRIBUCIÓN DE PROYECTOS POR ESTADO",
         "x": 0.5
        }
       }
      }
     },
     "metadata": {},
     "output_type": "display_data"
    }
   ],
   "source": [
    "# Conteo de proyectos por EstadoProyecto\n",
    "conteo = df[\"EstadoGrupo\"].value_counts()\n",
    "\n",
    "# Datos\n",
    "labels = conteo.index\n",
    "values = conteo.values\n",
    "\n",
    "# Crear gráfico (pastel completo, sin círculo en el centro)\n",
    "fig = px.pie(\n",
    "    names=labels,\n",
    "    values=values,\n",
    "    hole=0,  # pastel sólido\n",
    "    color=labels,\n",
    "    color_discrete_map={\n",
    "      \"Ejecución\": \"#B5EAEA\",\n",
    "      \"Planeación/Evaluación\": \"#FFB7B2\",\n",
    "      \"Finalizado\": \"#FFDAC1\"\n",
    "    }\n",
    ")\n",
    "\n",
    "# Personalización\n",
    "fig.update_traces(\n",
    "    textinfo=\"label+percent\",\n",
    "    textfont_size=14,\n",
    "    pull=[0.05, 0.05, 0.1],  # separa cada sector\n",
    "    marker=dict(line=dict(color=\"white\", width=2))\n",
    ")\n",
    "\n",
    "fig.update_layout(\n",
    "    title_text=\"DISTRIBUCIÓN DE PROYECTOS POR ESTADO\",\n",
    "    title_x=0.5,  # centrado\n",
    "    legend_title=\"Estado\",\n",
    "    legend=dict(\n",
    "        orientation=\"h\",\n",
    "        yanchor=\"bottom\",\n",
    "        y=-0.2,\n",
    "        xanchor=\"center\",\n",
    "        x=0.5\n",
    "    )\n",
    ")\n",
    "\n",
    "fig.show()"
   ]
  },
  {
   "cell_type": "code",
   "execution_count": null,
   "id": "06ac0bcf",
   "metadata": {},
   "outputs": [
    {
     "data": {
      "application/vnd.plotly.v1+json": {
       "config": {
        "plotlyServerURL": "https://plot.ly"
       },
       "data": [
        {
         "customdata": [
          [
           "Eficiente"
          ],
          [
           "Sobrecosto"
          ]
         ],
         "domain": {
          "x": [
           0,
           1
          ],
          "y": [
           0,
           1
          ]
         },
         "hole": 0,
         "hovertemplate": "Eficiencia=%{customdata[0]}<br>Cantidad=%{value}<extra></extra>",
         "labels": [
          "Eficiente",
          "Sobrecosto"
         ],
         "legendgroup": "",
         "marker": {
          "colors": [
           "#CBAACB",
           "#FFD8B1"
          ],
          "line": {
           "color": "white",
           "width": 2
          }
         },
         "name": "",
         "pull": [
          0.05,
          0.05
         ],
         "showlegend": true,
         "textfont": {
          "size": 14
         },
         "textinfo": "label+percent",
         "type": "pie",
         "values": {
          "bdata": "ZFyMDA==",
          "dtype": "i2"
         }
        }
       ],
       "layout": {
        "legend": {
         "orientation": "h",
         "title": {
          "text": "Eficiencia"
         },
         "tracegroupgap": 0,
         "x": 0.5,
         "xanchor": "center",
         "y": -0.2,
         "yanchor": "bottom"
        },
        "template": {
         "data": {
          "bar": [
           {
            "error_x": {
             "color": "#2a3f5f"
            },
            "error_y": {
             "color": "#2a3f5f"
            },
            "marker": {
             "line": {
              "color": "white",
              "width": 0.5
             },
             "pattern": {
              "fillmode": "overlay",
              "size": 10,
              "solidity": 0.2
             }
            },
            "type": "bar"
           }
          ],
          "barpolar": [
           {
            "marker": {
             "line": {
              "color": "white",
              "width": 0.5
             },
             "pattern": {
              "fillmode": "overlay",
              "size": 10,
              "solidity": 0.2
             }
            },
            "type": "barpolar"
           }
          ],
          "carpet": [
           {
            "aaxis": {
             "endlinecolor": "#2a3f5f",
             "gridcolor": "#C8D4E3",
             "linecolor": "#C8D4E3",
             "minorgridcolor": "#C8D4E3",
             "startlinecolor": "#2a3f5f"
            },
            "baxis": {
             "endlinecolor": "#2a3f5f",
             "gridcolor": "#C8D4E3",
             "linecolor": "#C8D4E3",
             "minorgridcolor": "#C8D4E3",
             "startlinecolor": "#2a3f5f"
            },
            "type": "carpet"
           }
          ],
          "choropleth": [
           {
            "colorbar": {
             "outlinewidth": 0,
             "ticks": ""
            },
            "type": "choropleth"
           }
          ],
          "contour": [
           {
            "colorbar": {
             "outlinewidth": 0,
             "ticks": ""
            },
            "colorscale": [
             [
              0,
              "#0d0887"
             ],
             [
              0.1111111111111111,
              "#46039f"
             ],
             [
              0.2222222222222222,
              "#7201a8"
             ],
             [
              0.3333333333333333,
              "#9c179e"
             ],
             [
              0.4444444444444444,
              "#bd3786"
             ],
             [
              0.5555555555555556,
              "#d8576b"
             ],
             [
              0.6666666666666666,
              "#ed7953"
             ],
             [
              0.7777777777777778,
              "#fb9f3a"
             ],
             [
              0.8888888888888888,
              "#fdca26"
             ],
             [
              1,
              "#f0f921"
             ]
            ],
            "type": "contour"
           }
          ],
          "contourcarpet": [
           {
            "colorbar": {
             "outlinewidth": 0,
             "ticks": ""
            },
            "type": "contourcarpet"
           }
          ],
          "heatmap": [
           {
            "colorbar": {
             "outlinewidth": 0,
             "ticks": ""
            },
            "colorscale": [
             [
              0,
              "#0d0887"
             ],
             [
              0.1111111111111111,
              "#46039f"
             ],
             [
              0.2222222222222222,
              "#7201a8"
             ],
             [
              0.3333333333333333,
              "#9c179e"
             ],
             [
              0.4444444444444444,
              "#bd3786"
             ],
             [
              0.5555555555555556,
              "#d8576b"
             ],
             [
              0.6666666666666666,
              "#ed7953"
             ],
             [
              0.7777777777777778,
              "#fb9f3a"
             ],
             [
              0.8888888888888888,
              "#fdca26"
             ],
             [
              1,
              "#f0f921"
             ]
            ],
            "type": "heatmap"
           }
          ],
          "histogram": [
           {
            "marker": {
             "pattern": {
              "fillmode": "overlay",
              "size": 10,
              "solidity": 0.2
             }
            },
            "type": "histogram"
           }
          ],
          "histogram2d": [
           {
            "colorbar": {
             "outlinewidth": 0,
             "ticks": ""
            },
            "colorscale": [
             [
              0,
              "#0d0887"
             ],
             [
              0.1111111111111111,
              "#46039f"
             ],
             [
              0.2222222222222222,
              "#7201a8"
             ],
             [
              0.3333333333333333,
              "#9c179e"
             ],
             [
              0.4444444444444444,
              "#bd3786"
             ],
             [
              0.5555555555555556,
              "#d8576b"
             ],
             [
              0.6666666666666666,
              "#ed7953"
             ],
             [
              0.7777777777777778,
              "#fb9f3a"
             ],
             [
              0.8888888888888888,
              "#fdca26"
             ],
             [
              1,
              "#f0f921"
             ]
            ],
            "type": "histogram2d"
           }
          ],
          "histogram2dcontour": [
           {
            "colorbar": {
             "outlinewidth": 0,
             "ticks": ""
            },
            "colorscale": [
             [
              0,
              "#0d0887"
             ],
             [
              0.1111111111111111,
              "#46039f"
             ],
             [
              0.2222222222222222,
              "#7201a8"
             ],
             [
              0.3333333333333333,
              "#9c179e"
             ],
             [
              0.4444444444444444,
              "#bd3786"
             ],
             [
              0.5555555555555556,
              "#d8576b"
             ],
             [
              0.6666666666666666,
              "#ed7953"
             ],
             [
              0.7777777777777778,
              "#fb9f3a"
             ],
             [
              0.8888888888888888,
              "#fdca26"
             ],
             [
              1,
              "#f0f921"
             ]
            ],
            "type": "histogram2dcontour"
           }
          ],
          "mesh3d": [
           {
            "colorbar": {
             "outlinewidth": 0,
             "ticks": ""
            },
            "type": "mesh3d"
           }
          ],
          "parcoords": [
           {
            "line": {
             "colorbar": {
              "outlinewidth": 0,
              "ticks": ""
             }
            },
            "type": "parcoords"
           }
          ],
          "pie": [
           {
            "automargin": true,
            "type": "pie"
           }
          ],
          "scatter": [
           {
            "fillpattern": {
             "fillmode": "overlay",
             "size": 10,
             "solidity": 0.2
            },
            "type": "scatter"
           }
          ],
          "scatter3d": [
           {
            "line": {
             "colorbar": {
              "outlinewidth": 0,
              "ticks": ""
             }
            },
            "marker": {
             "colorbar": {
              "outlinewidth": 0,
              "ticks": ""
             }
            },
            "type": "scatter3d"
           }
          ],
          "scattercarpet": [
           {
            "marker": {
             "colorbar": {
              "outlinewidth": 0,
              "ticks": ""
             }
            },
            "type": "scattercarpet"
           }
          ],
          "scattergeo": [
           {
            "marker": {
             "colorbar": {
              "outlinewidth": 0,
              "ticks": ""
             }
            },
            "type": "scattergeo"
           }
          ],
          "scattergl": [
           {
            "marker": {
             "colorbar": {
              "outlinewidth": 0,
              "ticks": ""
             }
            },
            "type": "scattergl"
           }
          ],
          "scattermap": [
           {
            "marker": {
             "colorbar": {
              "outlinewidth": 0,
              "ticks": ""
             }
            },
            "type": "scattermap"
           }
          ],
          "scattermapbox": [
           {
            "marker": {
             "colorbar": {
              "outlinewidth": 0,
              "ticks": ""
             }
            },
            "type": "scattermapbox"
           }
          ],
          "scatterpolar": [
           {
            "marker": {
             "colorbar": {
              "outlinewidth": 0,
              "ticks": ""
             }
            },
            "type": "scatterpolar"
           }
          ],
          "scatterpolargl": [
           {
            "marker": {
             "colorbar": {
              "outlinewidth": 0,
              "ticks": ""
             }
            },
            "type": "scatterpolargl"
           }
          ],
          "scatterternary": [
           {
            "marker": {
             "colorbar": {
              "outlinewidth": 0,
              "ticks": ""
             }
            },
            "type": "scatterternary"
           }
          ],
          "surface": [
           {
            "colorbar": {
             "outlinewidth": 0,
             "ticks": ""
            },
            "colorscale": [
             [
              0,
              "#0d0887"
             ],
             [
              0.1111111111111111,
              "#46039f"
             ],
             [
              0.2222222222222222,
              "#7201a8"
             ],
             [
              0.3333333333333333,
              "#9c179e"
             ],
             [
              0.4444444444444444,
              "#bd3786"
             ],
             [
              0.5555555555555556,
              "#d8576b"
             ],
             [
              0.6666666666666666,
              "#ed7953"
             ],
             [
              0.7777777777777778,
              "#fb9f3a"
             ],
             [
              0.8888888888888888,
              "#fdca26"
             ],
             [
              1,
              "#f0f921"
             ]
            ],
            "type": "surface"
           }
          ],
          "table": [
           {
            "cells": {
             "fill": {
              "color": "#EBF0F8"
             },
             "line": {
              "color": "white"
             }
            },
            "header": {
             "fill": {
              "color": "#C8D4E3"
             },
             "line": {
              "color": "white"
             }
            },
            "type": "table"
           }
          ]
         },
         "layout": {
          "annotationdefaults": {
           "arrowcolor": "#2a3f5f",
           "arrowhead": 0,
           "arrowwidth": 1
          },
          "autotypenumbers": "strict",
          "coloraxis": {
           "colorbar": {
            "outlinewidth": 0,
            "ticks": ""
           }
          },
          "colorscale": {
           "diverging": [
            [
             0,
             "#8e0152"
            ],
            [
             0.1,
             "#c51b7d"
            ],
            [
             0.2,
             "#de77ae"
            ],
            [
             0.3,
             "#f1b6da"
            ],
            [
             0.4,
             "#fde0ef"
            ],
            [
             0.5,
             "#f7f7f7"
            ],
            [
             0.6,
             "#e6f5d0"
            ],
            [
             0.7,
             "#b8e186"
            ],
            [
             0.8,
             "#7fbc41"
            ],
            [
             0.9,
             "#4d9221"
            ],
            [
             1,
             "#276419"
            ]
           ],
           "sequential": [
            [
             0,
             "#0d0887"
            ],
            [
             0.1111111111111111,
             "#46039f"
            ],
            [
             0.2222222222222222,
             "#7201a8"
            ],
            [
             0.3333333333333333,
             "#9c179e"
            ],
            [
             0.4444444444444444,
             "#bd3786"
            ],
            [
             0.5555555555555556,
             "#d8576b"
            ],
            [
             0.6666666666666666,
             "#ed7953"
            ],
            [
             0.7777777777777778,
             "#fb9f3a"
            ],
            [
             0.8888888888888888,
             "#fdca26"
            ],
            [
             1,
             "#f0f921"
            ]
           ],
           "sequentialminus": [
            [
             0,
             "#0d0887"
            ],
            [
             0.1111111111111111,
             "#46039f"
            ],
            [
             0.2222222222222222,
             "#7201a8"
            ],
            [
             0.3333333333333333,
             "#9c179e"
            ],
            [
             0.4444444444444444,
             "#bd3786"
            ],
            [
             0.5555555555555556,
             "#d8576b"
            ],
            [
             0.6666666666666666,
             "#ed7953"
            ],
            [
             0.7777777777777778,
             "#fb9f3a"
            ],
            [
             0.8888888888888888,
             "#fdca26"
            ],
            [
             1,
             "#f0f921"
            ]
           ]
          },
          "colorway": [
           "#636efa",
           "#EF553B",
           "#00cc96",
           "#ab63fa",
           "#FFA15A",
           "#19d3f3",
           "#FF6692",
           "#B6E880",
           "#FF97FF",
           "#FECB52"
          ],
          "font": {
           "color": "#2a3f5f"
          },
          "geo": {
           "bgcolor": "white",
           "lakecolor": "white",
           "landcolor": "white",
           "showlakes": true,
           "showland": true,
           "subunitcolor": "#C8D4E3"
          },
          "hoverlabel": {
           "align": "left"
          },
          "hovermode": "closest",
          "mapbox": {
           "style": "light"
          },
          "paper_bgcolor": "white",
          "plot_bgcolor": "white",
          "polar": {
           "angularaxis": {
            "gridcolor": "#EBF0F8",
            "linecolor": "#EBF0F8",
            "ticks": ""
           },
           "bgcolor": "white",
           "radialaxis": {
            "gridcolor": "#EBF0F8",
            "linecolor": "#EBF0F8",
            "ticks": ""
           }
          },
          "scene": {
           "xaxis": {
            "backgroundcolor": "white",
            "gridcolor": "#DFE8F3",
            "gridwidth": 2,
            "linecolor": "#EBF0F8",
            "showbackground": true,
            "ticks": "",
            "zerolinecolor": "#EBF0F8"
           },
           "yaxis": {
            "backgroundcolor": "white",
            "gridcolor": "#DFE8F3",
            "gridwidth": 2,
            "linecolor": "#EBF0F8",
            "showbackground": true,
            "ticks": "",
            "zerolinecolor": "#EBF0F8"
           },
           "zaxis": {
            "backgroundcolor": "white",
            "gridcolor": "#DFE8F3",
            "gridwidth": 2,
            "linecolor": "#EBF0F8",
            "showbackground": true,
            "ticks": "",
            "zerolinecolor": "#EBF0F8"
           }
          },
          "shapedefaults": {
           "line": {
            "color": "#2a3f5f"
           }
          },
          "ternary": {
           "aaxis": {
            "gridcolor": "#DFE8F3",
            "linecolor": "#A2B1C6",
            "ticks": ""
           },
           "baxis": {
            "gridcolor": "#DFE8F3",
            "linecolor": "#A2B1C6",
            "ticks": ""
           },
           "bgcolor": "white",
           "caxis": {
            "gridcolor": "#DFE8F3",
            "linecolor": "#A2B1C6",
            "ticks": ""
           }
          },
          "title": {
           "x": 0.05
          },
          "xaxis": {
           "automargin": true,
           "gridcolor": "#EBF0F8",
           "linecolor": "#EBF0F8",
           "ticks": "",
           "title": {
            "standoff": 15
           },
           "zerolinecolor": "#EBF0F8",
           "zerolinewidth": 2
          },
          "yaxis": {
           "automargin": true,
           "gridcolor": "#EBF0F8",
           "linecolor": "#EBF0F8",
           "ticks": "",
           "title": {
            "standoff": 15
           },
           "zerolinecolor": "#EBF0F8",
           "zerolinewidth": 2
          }
         }
        },
        "title": {
         "text": "EFICIENCIA DE PROYECTOS FINALIZADOS",
         "x": 0.5
        }
       }
      }
     },
     "metadata": {},
     "output_type": "display_data"
    }
   ],
   "source": [
    "\n",
    "df_finalizado = df[df[\"EstadoGrupo\"] == \"Finalizado\"].copy()\n",
    "\n",
    "df_finalizado[\"Eficiencia\"] = np.where(\n",
    "    df_finalizado[\"ValorTotalProyecto\"] <= df_finalizado[\"ValorVigenteProyecto\"],\n",
    "    \"Eficiente\",\n",
    "    \"Sobrecosto\"\n",
    ")\n",
    "\n",
    "# 2) Tipos seguros + tiempo de ejecución\n",
    "df_finalizado[\"Inicio\"] = pd.to_numeric(df_finalizado[\"Inicio\"], errors=\"coerce\").astype(\"Int64\")\n",
    "df_finalizado[\"Fin\"]    = pd.to_numeric(df_finalizado[\"Fin\"],    errors=\"coerce\").astype(\"Int64\")\n",
    "df_finalizado[\"TiempoEjecucion\"] = (df_finalizado[\"Fin\"] - df_finalizado[\"Inicio\"] + 1)\n",
    "\n",
    "# 3) Conteo para el gráfico (con nombres claros)\n",
    "conteo = (df_finalizado[\"Eficiencia\"]\n",
    "          .value_counts(dropna=False)\n",
    "          .rename_axis(\"Eficiencia\")\n",
    "          .reset_index(name=\"Cantidad\"))\n",
    "\n",
    "# 4) Pie chart\n",
    "orden = [\"Eficiente\", \"Sobrecosto\"]  # asegura el orden en leyenda\n",
    "conteo[\"Eficiencia\"] = pd.Categorical(conteo[\"Eficiencia\"], categories=orden, ordered=True)\n",
    "\n",
    "fig = px.pie(\n",
    "    conteo.sort_values(\"Eficiencia\"),\n",
    "    names=\"Eficiencia\",\n",
    "    values=\"Cantidad\",\n",
    "    color=\"Eficiencia\",\n",
    "    color_discrete_map={\"Eficiente\": \"#CBAACB\", \"Sobrecosto\": \"#FFD8B1\"},\n",
    "    title=\"EFICIENCIA DE PROYECTOS FINALIZADOS\",\n",
    "    hole=0\n",
    ")\n",
    "\n",
    "fig.update_traces(\n",
    "    textinfo=\"label+percent\",\n",
    "    textfont_size=14,\n",
    "    pull=[0.05]*len(conteo),  # evita error si hay 1 sola categoría\n",
    "    marker=dict(line=dict(color=\"white\", width=2))\n",
    ")\n",
    "\n",
    "fig.update_layout(\n",
    "    title_x=0.5,\n",
    "    legend_title=\"Eficiencia\",\n",
    "    legend=dict(orientation=\"h\", yanchor=\"bottom\", y=-0.2, xanchor=\"center\", x=0.5),\n",
    "    template=\"plotly_white\"\n",
    ")\n",
    "\n",
    "fig.show()\n",
    "# fig.write_image(\"../visualizations/finalizados_eficiencia.png\")\n"
   ]
  },
  {
   "cell_type": "code",
   "execution_count": 41,
   "id": "88bc940a",
   "metadata": {},
   "outputs": [
    {
     "data": {
      "application/vnd.plotly.v1+json": {
       "config": {
        "plotlyServerURL": "https://plot.ly"
       },
       "data": [
        {
         "hovertemplate": "RangoTiempo=%{x}<br>Cantidad=%{text}<extra></extra>",
         "legendgroup": "Corto (1-3)",
         "marker": {
          "color": "#CBAACB",
          "line": {
           "color": "white",
           "width": 2
          },
          "pattern": {
           "shape": ""
          }
         },
         "name": "Corto (1-3)",
         "orientation": "v",
         "showlegend": true,
         "text": {
          "bdata": "AAAAAEAV00A=",
          "dtype": "f8"
         },
         "textfont": {
          "size": 14
         },
         "textposition": "outside",
         "type": "bar",
         "x": [
          "Corto (1-3)"
         ],
         "xaxis": "x",
         "y": {
          "bdata": "VUw=",
          "dtype": "i2"
         },
         "yaxis": "y"
        },
        {
         "hovertemplate": "RangoTiempo=%{x}<br>Cantidad=%{text}<extra></extra>",
         "legendgroup": "Medio (4-10)",
         "marker": {
          "color": "#FFD8B1",
          "line": {
           "color": "white",
           "width": 2
          },
          "pattern": {
           "shape": ""
          }
         },
         "name": "Medio (4-10)",
         "orientation": "v",
         "showlegend": true,
         "text": {
          "bdata": "AAAAAAA/tkA=",
          "dtype": "f8"
         },
         "textfont": {
          "size": 14
         },
         "textposition": "outside",
         "type": "bar",
         "x": [
          "Medio (4-10)"
         ],
         "xaxis": "x",
         "y": {
          "bdata": "PxY=",
          "dtype": "i2"
         },
         "yaxis": "y"
        },
        {
         "hovertemplate": "RangoTiempo=%{x}<br>Cantidad=%{text}<extra></extra>",
         "legendgroup": "Largo (>10)",
         "marker": {
          "color": "#B5EAD7",
          "line": {
           "color": "white",
           "width": 2
          },
          "pattern": {
           "shape": ""
          }
         },
         "name": "Largo (>10)",
         "orientation": "v",
         "showlegend": true,
         "text": {
          "bdata": "AAAAAABwmUA=",
          "dtype": "f8"
         },
         "textfont": {
          "size": 14
         },
         "textposition": "outside",
         "type": "bar",
         "x": [
          "Largo (>10)"
         ],
         "xaxis": "x",
         "y": {
          "bdata": "XAY=",
          "dtype": "i2"
         },
         "yaxis": "y"
        }
       ],
       "layout": {
        "barmode": "relative",
        "legend": {
         "orientation": "h",
         "title": {
          "text": "Rango de Tiempo"
         },
         "tracegroupgap": 0,
         "x": 0.5,
         "xanchor": "center",
         "y": -0.2,
         "yanchor": "bottom"
        },
        "margin": {
         "t": 60
        },
        "paper_bgcolor": "white",
        "plot_bgcolor": "white",
        "template": {
         "data": {
          "bar": [
           {
            "error_x": {
             "color": "#2a3f5f"
            },
            "error_y": {
             "color": "#2a3f5f"
            },
            "marker": {
             "line": {
              "color": "#E5ECF6",
              "width": 0.5
             },
             "pattern": {
              "fillmode": "overlay",
              "size": 10,
              "solidity": 0.2
             }
            },
            "type": "bar"
           }
          ],
          "barpolar": [
           {
            "marker": {
             "line": {
              "color": "#E5ECF6",
              "width": 0.5
             },
             "pattern": {
              "fillmode": "overlay",
              "size": 10,
              "solidity": 0.2
             }
            },
            "type": "barpolar"
           }
          ],
          "carpet": [
           {
            "aaxis": {
             "endlinecolor": "#2a3f5f",
             "gridcolor": "white",
             "linecolor": "white",
             "minorgridcolor": "white",
             "startlinecolor": "#2a3f5f"
            },
            "baxis": {
             "endlinecolor": "#2a3f5f",
             "gridcolor": "white",
             "linecolor": "white",
             "minorgridcolor": "white",
             "startlinecolor": "#2a3f5f"
            },
            "type": "carpet"
           }
          ],
          "choropleth": [
           {
            "colorbar": {
             "outlinewidth": 0,
             "ticks": ""
            },
            "type": "choropleth"
           }
          ],
          "contour": [
           {
            "colorbar": {
             "outlinewidth": 0,
             "ticks": ""
            },
            "colorscale": [
             [
              0,
              "#0d0887"
             ],
             [
              0.1111111111111111,
              "#46039f"
             ],
             [
              0.2222222222222222,
              "#7201a8"
             ],
             [
              0.3333333333333333,
              "#9c179e"
             ],
             [
              0.4444444444444444,
              "#bd3786"
             ],
             [
              0.5555555555555556,
              "#d8576b"
             ],
             [
              0.6666666666666666,
              "#ed7953"
             ],
             [
              0.7777777777777778,
              "#fb9f3a"
             ],
             [
              0.8888888888888888,
              "#fdca26"
             ],
             [
              1,
              "#f0f921"
             ]
            ],
            "type": "contour"
           }
          ],
          "contourcarpet": [
           {
            "colorbar": {
             "outlinewidth": 0,
             "ticks": ""
            },
            "type": "contourcarpet"
           }
          ],
          "heatmap": [
           {
            "colorbar": {
             "outlinewidth": 0,
             "ticks": ""
            },
            "colorscale": [
             [
              0,
              "#0d0887"
             ],
             [
              0.1111111111111111,
              "#46039f"
             ],
             [
              0.2222222222222222,
              "#7201a8"
             ],
             [
              0.3333333333333333,
              "#9c179e"
             ],
             [
              0.4444444444444444,
              "#bd3786"
             ],
             [
              0.5555555555555556,
              "#d8576b"
             ],
             [
              0.6666666666666666,
              "#ed7953"
             ],
             [
              0.7777777777777778,
              "#fb9f3a"
             ],
             [
              0.8888888888888888,
              "#fdca26"
             ],
             [
              1,
              "#f0f921"
             ]
            ],
            "type": "heatmap"
           }
          ],
          "histogram": [
           {
            "marker": {
             "pattern": {
              "fillmode": "overlay",
              "size": 10,
              "solidity": 0.2
             }
            },
            "type": "histogram"
           }
          ],
          "histogram2d": [
           {
            "colorbar": {
             "outlinewidth": 0,
             "ticks": ""
            },
            "colorscale": [
             [
              0,
              "#0d0887"
             ],
             [
              0.1111111111111111,
              "#46039f"
             ],
             [
              0.2222222222222222,
              "#7201a8"
             ],
             [
              0.3333333333333333,
              "#9c179e"
             ],
             [
              0.4444444444444444,
              "#bd3786"
             ],
             [
              0.5555555555555556,
              "#d8576b"
             ],
             [
              0.6666666666666666,
              "#ed7953"
             ],
             [
              0.7777777777777778,
              "#fb9f3a"
             ],
             [
              0.8888888888888888,
              "#fdca26"
             ],
             [
              1,
              "#f0f921"
             ]
            ],
            "type": "histogram2d"
           }
          ],
          "histogram2dcontour": [
           {
            "colorbar": {
             "outlinewidth": 0,
             "ticks": ""
            },
            "colorscale": [
             [
              0,
              "#0d0887"
             ],
             [
              0.1111111111111111,
              "#46039f"
             ],
             [
              0.2222222222222222,
              "#7201a8"
             ],
             [
              0.3333333333333333,
              "#9c179e"
             ],
             [
              0.4444444444444444,
              "#bd3786"
             ],
             [
              0.5555555555555556,
              "#d8576b"
             ],
             [
              0.6666666666666666,
              "#ed7953"
             ],
             [
              0.7777777777777778,
              "#fb9f3a"
             ],
             [
              0.8888888888888888,
              "#fdca26"
             ],
             [
              1,
              "#f0f921"
             ]
            ],
            "type": "histogram2dcontour"
           }
          ],
          "mesh3d": [
           {
            "colorbar": {
             "outlinewidth": 0,
             "ticks": ""
            },
            "type": "mesh3d"
           }
          ],
          "parcoords": [
           {
            "line": {
             "colorbar": {
              "outlinewidth": 0,
              "ticks": ""
             }
            },
            "type": "parcoords"
           }
          ],
          "pie": [
           {
            "automargin": true,
            "type": "pie"
           }
          ],
          "scatter": [
           {
            "fillpattern": {
             "fillmode": "overlay",
             "size": 10,
             "solidity": 0.2
            },
            "type": "scatter"
           }
          ],
          "scatter3d": [
           {
            "line": {
             "colorbar": {
              "outlinewidth": 0,
              "ticks": ""
             }
            },
            "marker": {
             "colorbar": {
              "outlinewidth": 0,
              "ticks": ""
             }
            },
            "type": "scatter3d"
           }
          ],
          "scattercarpet": [
           {
            "marker": {
             "colorbar": {
              "outlinewidth": 0,
              "ticks": ""
             }
            },
            "type": "scattercarpet"
           }
          ],
          "scattergeo": [
           {
            "marker": {
             "colorbar": {
              "outlinewidth": 0,
              "ticks": ""
             }
            },
            "type": "scattergeo"
           }
          ],
          "scattergl": [
           {
            "marker": {
             "colorbar": {
              "outlinewidth": 0,
              "ticks": ""
             }
            },
            "type": "scattergl"
           }
          ],
          "scattermap": [
           {
            "marker": {
             "colorbar": {
              "outlinewidth": 0,
              "ticks": ""
             }
            },
            "type": "scattermap"
           }
          ],
          "scattermapbox": [
           {
            "marker": {
             "colorbar": {
              "outlinewidth": 0,
              "ticks": ""
             }
            },
            "type": "scattermapbox"
           }
          ],
          "scatterpolar": [
           {
            "marker": {
             "colorbar": {
              "outlinewidth": 0,
              "ticks": ""
             }
            },
            "type": "scatterpolar"
           }
          ],
          "scatterpolargl": [
           {
            "marker": {
             "colorbar": {
              "outlinewidth": 0,
              "ticks": ""
             }
            },
            "type": "scatterpolargl"
           }
          ],
          "scatterternary": [
           {
            "marker": {
             "colorbar": {
              "outlinewidth": 0,
              "ticks": ""
             }
            },
            "type": "scatterternary"
           }
          ],
          "surface": [
           {
            "colorbar": {
             "outlinewidth": 0,
             "ticks": ""
            },
            "colorscale": [
             [
              0,
              "#0d0887"
             ],
             [
              0.1111111111111111,
              "#46039f"
             ],
             [
              0.2222222222222222,
              "#7201a8"
             ],
             [
              0.3333333333333333,
              "#9c179e"
             ],
             [
              0.4444444444444444,
              "#bd3786"
             ],
             [
              0.5555555555555556,
              "#d8576b"
             ],
             [
              0.6666666666666666,
              "#ed7953"
             ],
             [
              0.7777777777777778,
              "#fb9f3a"
             ],
             [
              0.8888888888888888,
              "#fdca26"
             ],
             [
              1,
              "#f0f921"
             ]
            ],
            "type": "surface"
           }
          ],
          "table": [
           {
            "cells": {
             "fill": {
              "color": "#EBF0F8"
             },
             "line": {
              "color": "white"
             }
            },
            "header": {
             "fill": {
              "color": "#C8D4E3"
             },
             "line": {
              "color": "white"
             }
            },
            "type": "table"
           }
          ]
         },
         "layout": {
          "annotationdefaults": {
           "arrowcolor": "#2a3f5f",
           "arrowhead": 0,
           "arrowwidth": 1
          },
          "autotypenumbers": "strict",
          "coloraxis": {
           "colorbar": {
            "outlinewidth": 0,
            "ticks": ""
           }
          },
          "colorscale": {
           "diverging": [
            [
             0,
             "#8e0152"
            ],
            [
             0.1,
             "#c51b7d"
            ],
            [
             0.2,
             "#de77ae"
            ],
            [
             0.3,
             "#f1b6da"
            ],
            [
             0.4,
             "#fde0ef"
            ],
            [
             0.5,
             "#f7f7f7"
            ],
            [
             0.6,
             "#e6f5d0"
            ],
            [
             0.7,
             "#b8e186"
            ],
            [
             0.8,
             "#7fbc41"
            ],
            [
             0.9,
             "#4d9221"
            ],
            [
             1,
             "#276419"
            ]
           ],
           "sequential": [
            [
             0,
             "#0d0887"
            ],
            [
             0.1111111111111111,
             "#46039f"
            ],
            [
             0.2222222222222222,
             "#7201a8"
            ],
            [
             0.3333333333333333,
             "#9c179e"
            ],
            [
             0.4444444444444444,
             "#bd3786"
            ],
            [
             0.5555555555555556,
             "#d8576b"
            ],
            [
             0.6666666666666666,
             "#ed7953"
            ],
            [
             0.7777777777777778,
             "#fb9f3a"
            ],
            [
             0.8888888888888888,
             "#fdca26"
            ],
            [
             1,
             "#f0f921"
            ]
           ],
           "sequentialminus": [
            [
             0,
             "#0d0887"
            ],
            [
             0.1111111111111111,
             "#46039f"
            ],
            [
             0.2222222222222222,
             "#7201a8"
            ],
            [
             0.3333333333333333,
             "#9c179e"
            ],
            [
             0.4444444444444444,
             "#bd3786"
            ],
            [
             0.5555555555555556,
             "#d8576b"
            ],
            [
             0.6666666666666666,
             "#ed7953"
            ],
            [
             0.7777777777777778,
             "#fb9f3a"
            ],
            [
             0.8888888888888888,
             "#fdca26"
            ],
            [
             1,
             "#f0f921"
            ]
           ]
          },
          "colorway": [
           "#636efa",
           "#EF553B",
           "#00cc96",
           "#ab63fa",
           "#FFA15A",
           "#19d3f3",
           "#FF6692",
           "#B6E880",
           "#FF97FF",
           "#FECB52"
          ],
          "font": {
           "color": "#2a3f5f"
          },
          "geo": {
           "bgcolor": "white",
           "lakecolor": "white",
           "landcolor": "#E5ECF6",
           "showlakes": true,
           "showland": true,
           "subunitcolor": "white"
          },
          "hoverlabel": {
           "align": "left"
          },
          "hovermode": "closest",
          "mapbox": {
           "style": "light"
          },
          "paper_bgcolor": "white",
          "plot_bgcolor": "#E5ECF6",
          "polar": {
           "angularaxis": {
            "gridcolor": "white",
            "linecolor": "white",
            "ticks": ""
           },
           "bgcolor": "#E5ECF6",
           "radialaxis": {
            "gridcolor": "white",
            "linecolor": "white",
            "ticks": ""
           }
          },
          "scene": {
           "xaxis": {
            "backgroundcolor": "#E5ECF6",
            "gridcolor": "white",
            "gridwidth": 2,
            "linecolor": "white",
            "showbackground": true,
            "ticks": "",
            "zerolinecolor": "white"
           },
           "yaxis": {
            "backgroundcolor": "#E5ECF6",
            "gridcolor": "white",
            "gridwidth": 2,
            "linecolor": "white",
            "showbackground": true,
            "ticks": "",
            "zerolinecolor": "white"
           },
           "zaxis": {
            "backgroundcolor": "#E5ECF6",
            "gridcolor": "white",
            "gridwidth": 2,
            "linecolor": "white",
            "showbackground": true,
            "ticks": "",
            "zerolinecolor": "white"
           }
          },
          "shapedefaults": {
           "line": {
            "color": "#2a3f5f"
           }
          },
          "ternary": {
           "aaxis": {
            "gridcolor": "white",
            "linecolor": "white",
            "ticks": ""
           },
           "baxis": {
            "gridcolor": "white",
            "linecolor": "white",
            "ticks": ""
           },
           "bgcolor": "#E5ECF6",
           "caxis": {
            "gridcolor": "white",
            "linecolor": "white",
            "ticks": ""
           }
          },
          "title": {
           "x": 0.05
          },
          "xaxis": {
           "automargin": true,
           "gridcolor": "white",
           "linecolor": "white",
           "ticks": "",
           "title": {
            "standoff": 15
           },
           "zerolinecolor": "white",
           "zerolinewidth": 2
          },
          "yaxis": {
           "automargin": true,
           "gridcolor": "white",
           "linecolor": "white",
           "ticks": "",
           "title": {
            "standoff": 15
           },
           "zerolinecolor": "white",
           "zerolinewidth": 2
          }
         }
        },
        "title": {
         "text": "CANTIDAD DE PROYECTOS SEGÚN SU HORIZONTE DE EJECUCIÓN",
         "x": 0.5
        },
        "xaxis": {
         "anchor": "y",
         "categoryarray": [
          "Corto (1-3)",
          "Medio (4-10)",
          "Largo (>10)"
         ],
         "categoryorder": "array",
         "domain": [
          0,
          1
         ],
         "title": {
          "text": "Rango de Tiempo"
         }
        },
        "yaxis": {
         "anchor": "x",
         "domain": [
          0,
          1
         ],
         "title": {
          "text": "Cantidad de Proyectos"
         }
        }
       }
      }
     },
     "metadata": {},
     "output_type": "display_data"
    }
   ],
   "source": [
    "# 1) Clasificación por rango de tiempo\n",
    "df_finalizado[\"RangoTiempo\"] = pd.cut(\n",
    "    df_finalizado[\"TiempoEjecucion\"],\n",
    "    bins=[0, 3, 10, df_finalizado[\"TiempoEjecucion\"].max()],\n",
    "    labels=[\"Corto (1-3)\", \"Medio (4-10)\", \"Largo (>10)\"]\n",
    ")\n",
    "\n",
    "proyectos_rango = df_finalizado[\"RangoTiempo\"].value_counts().sort_index().reset_index()\n",
    "proyectos_rango.columns = [\"RangoTiempo\", \"Cantidad\"]\n",
    "\n",
    "# 2) Colores \"tiernos\" (mismo concepto del pie chart, extendido a 3 categorías)\n",
    "colores_tiernos_rango = {\n",
    "    \"Corto (1-3)\": \"#CBAACB\",  # lavanda suave (igual que \"Eficiente\")\n",
    "    \"Medio (4-10)\": \"#FFD8B1\", # durazno suave (igual que \"Sobrecosto\")\n",
    "    \"Largo (>10)\": \"#B5EAD7\"   # menta suave (añadido para el tercer rango)\n",
    "}\n",
    "\n",
    "# 3) Gráfico de barras con el mismo estilo del pie\n",
    "fig = px.bar(\n",
    "    proyectos_rango,\n",
    "    x=\"RangoTiempo\",\n",
    "    y=\"Cantidad\",\n",
    "    text=\"Cantidad\",\n",
    "    color=\"RangoTiempo\",\n",
    "    color_discrete_map=colores_tiernos_rango\n",
    ")\n",
    "\n",
    "# Etiquetas afuera, fuente 14 y borde blanco como en el pastel\n",
    "fig.update_traces(\n",
    "    textposition=\"outside\",\n",
    "    textfont_size=14,\n",
    "    marker=dict(line=dict(color=\"white\", width=2))\n",
    ")\n",
    "\n",
    "fig.update_layout(\n",
    "    title_text=\"CANTIDAD DE PROYECTOS SEGÚN SU HORIZONTE DE EJECUCIÓN\",\n",
    "    title_x=0.5,\n",
    "    xaxis_title=\"Rango de Tiempo\",\n",
    "    yaxis_title=\"Cantidad de Proyectos\",\n",
    "    legend_title=\"Rango de Tiempo\",\n",
    "    legend=dict(\n",
    "        orientation=\"h\",\n",
    "        yanchor=\"bottom\",\n",
    "        y=-0.2,\n",
    "        xanchor=\"center\",\n",
    "        x=0.5\n",
    "    ),\n",
    "    plot_bgcolor=\"white\",   # área del gráfico\n",
    "    paper_bgcolor=\"white\"   # lienzo completo\n",
    ")\n",
    "\n",
    "fig.show()\n",
    "\n"
   ]
  },
  {
   "cell_type": "code",
   "execution_count": 42,
   "id": "331cf2c7",
   "metadata": {},
   "outputs": [
    {
     "name": "stderr",
     "output_type": "stream",
     "text": [
      "C:\\Users\\diego\\AppData\\Local\\Temp\\ipykernel_37164\\2919761945.py:4: FutureWarning:\n",
      "\n",
      "The default of observed=False is deprecated and will be changed to True in a future version of pandas. Pass observed=False to retain current behavior or observed=True to adopt the future default and silence this warning.\n",
      "\n"
     ]
    },
    {
     "data": {
      "application/vnd.plotly.v1+json": {
       "config": {
        "plotlyServerURL": "https://plot.ly"
       },
       "data": [
        {
         "customdata": [
          [
           "Agricultura Y Desarrollo Rural",
           1843
          ]
         ],
         "hovertemplate": "Sector=%{customdata[0]}<br>ValorTotalProyecto=%{x:,.0f}<br>TotalBeneficiario=%{y:,.0f}<br>CantidadProyectos=%{customdata[1]}<extra></extra>",
         "legendgroup": "Agricultura Y Desarrollo Rural",
         "marker": {
          "color": "#636efa",
          "line": {
           "width": 1
          },
          "size": {
           "bdata": "Mwc=",
           "dtype": "i2"
          },
          "sizemode": "area",
          "sizeref": 1.7678,
          "symbol": "circle"
         },
         "mode": "markers",
         "name": "Agricultura Y Desarrollo Rural",
         "orientation": "v",
         "showlegend": true,
         "type": "scatter",
         "x": {
          "bdata": "pIr/jFbwiUI=",
          "dtype": "f8"
         },
         "xaxis": "x",
         "y": {
          "bdata": "AAAA0AlEc0E=",
          "dtype": "f8"
         },
         "yaxis": "y"
        },
        {
         "customdata": [
          [
           "Ambiente Y Desarrollo Sostenible",
           2030
          ]
         ],
         "hovertemplate": "Sector=%{customdata[0]}<br>ValorTotalProyecto=%{x:,.0f}<br>TotalBeneficiario=%{y:,.0f}<br>CantidadProyectos=%{customdata[1]}<extra></extra>",
         "legendgroup": "Ambiente Y Desarrollo Sostenible",
         "marker": {
          "color": "#EF553B",
          "line": {
           "width": 1
          },
          "size": {
           "bdata": "7gc=",
           "dtype": "i2"
          },
          "sizemode": "area",
          "sizeref": 1.7678,
          "symbol": "circle"
         },
         "mode": "markers",
         "name": "Ambiente Y Desarrollo Sostenible",
         "orientation": "v",
         "showlegend": true,
         "type": "scatter",
         "x": {
          "bdata": "M+ubcGqahkI=",
          "dtype": "f8"
         },
         "xaxis": "x",
         "y": {
          "bdata": "AAAAzn9KokE=",
          "dtype": "f8"
         },
         "yaxis": "y"
        },
        {
         "customdata": [
          [
           "Ciencia, Tecnología E Innovación",
           601
          ]
         ],
         "hovertemplate": "Sector=%{customdata[0]}<br>ValorTotalProyecto=%{x:,.0f}<br>TotalBeneficiario=%{y:,.0f}<br>CantidadProyectos=%{customdata[1]}<extra></extra>",
         "legendgroup": "Ciencia, Tecnología E Innovación",
         "marker": {
          "color": "#00cc96",
          "line": {
           "width": 1
          },
          "size": {
           "bdata": "WQI=",
           "dtype": "i2"
          },
          "sizemode": "area",
          "sizeref": 1.7678,
          "symbol": "circle"
         },
         "mode": "markers",
         "name": "Ciencia, Tecnología E Innovación",
         "orientation": "v",
         "showlegend": true,
         "type": "scatter",
         "x": {
          "bdata": "APwZs5P2g0I=",
          "dtype": "f8"
         },
         "xaxis": "x",
         "y": {
          "bdata": "AAAAxBjAtUE=",
          "dtype": "f8"
         },
         "yaxis": "y"
        },
        {
         "customdata": [
          [
           "Comercio, Industria Y Turismo",
           209
          ]
         ],
         "hovertemplate": "Sector=%{customdata[0]}<br>ValorTotalProyecto=%{x:,.0f}<br>TotalBeneficiario=%{y:,.0f}<br>CantidadProyectos=%{customdata[1]}<extra></extra>",
         "legendgroup": "Comercio, Industria Y Turismo",
         "marker": {
          "color": "#ab63fa",
          "line": {
           "width": 1
          },
          "size": {
           "bdata": "0QA=",
           "dtype": "i2"
          },
          "sizemode": "area",
          "sizeref": 1.7678,
          "symbol": "circle"
         },
         "mode": "markers",
         "name": "Comercio, Industria Y Turismo",
         "orientation": "v",
         "showlegend": true,
         "type": "scatter",
         "x": {
          "bdata": "19vNPSVuaEI=",
          "dtype": "f8"
         },
         "xaxis": "x",
         "y": {
          "bdata": "AAAAuGCXjUE=",
          "dtype": "f8"
         },
         "yaxis": "y"
        },
        {
         "customdata": [
          [
           "Congreso De La República",
           0
          ]
         ],
         "hovertemplate": "Sector=%{customdata[0]}<br>ValorTotalProyecto=%{x:,.0f}<br>TotalBeneficiario=%{y:,.0f}<br>CantidadProyectos=%{customdata[1]}<extra></extra>",
         "legendgroup": "Congreso De La República",
         "marker": {
          "color": "#FFA15A",
          "line": {
           "width": 1
          },
          "size": {
           "bdata": "AA==",
           "dtype": "i1"
          },
          "sizemode": "area",
          "sizeref": 1.7678,
          "symbol": "circle"
         },
         "mode": "markers",
         "name": "Congreso De La República",
         "orientation": "v",
         "showlegend": true,
         "type": "scatter",
         "x": {
          "bdata": "AAAAAAAAAAA=",
          "dtype": "f8"
         },
         "xaxis": "x",
         "y": {
          "bdata": "AAAAAAAAAAA=",
          "dtype": "f8"
         },
         "yaxis": "y"
        },
        {
         "customdata": [
          [
           "Cultura",
           433
          ]
         ],
         "hovertemplate": "Sector=%{customdata[0]}<br>ValorTotalProyecto=%{x:,.0f}<br>TotalBeneficiario=%{y:,.0f}<br>CantidadProyectos=%{customdata[1]}<extra></extra>",
         "legendgroup": "Cultura",
         "marker": {
          "color": "#19d3f3",
          "line": {
           "width": 1
          },
          "size": {
           "bdata": "sQE=",
           "dtype": "i2"
          },
          "sizemode": "area",
          "sizeref": 1.7678,
          "symbol": "circle"
         },
         "mode": "markers",
         "name": "Cultura",
         "orientation": "v",
         "showlegend": true,
         "type": "scatter",
         "x": {
          "bdata": "ZkZEiLsbZUI=",
          "dtype": "f8"
         },
         "xaxis": "x",
         "y": {
          "bdata": "AAAA8D8sgUE=",
          "dtype": "f8"
         },
         "yaxis": "y"
        },
        {
         "customdata": [
          [
           "Deporte Y Recreación",
           2904
          ]
         ],
         "hovertemplate": "Sector=%{customdata[0]}<br>ValorTotalProyecto=%{x:,.0f}<br>TotalBeneficiario=%{y:,.0f}<br>CantidadProyectos=%{customdata[1]}<extra></extra>",
         "legendgroup": "Deporte Y Recreación",
         "marker": {
          "color": "#FF6692",
          "line": {
           "width": 1
          },
          "size": {
           "bdata": "WAs=",
           "dtype": "i2"
          },
          "sizemode": "area",
          "sizeref": 1.7678,
          "symbol": "circle"
         },
         "mode": "markers",
         "name": "Deporte Y Recreación",
         "orientation": "v",
         "showlegend": true,
         "type": "scatter",
         "x": {
          "bdata": "M7vrucumj0I=",
          "dtype": "f8"
         },
         "xaxis": "x",
         "y": {
          "bdata": "AAAAOCbXkUE=",
          "dtype": "f8"
         },
         "yaxis": "y"
        },
        {
         "customdata": [
          [
           "Educación",
           2879
          ]
         ],
         "hovertemplate": "Sector=%{customdata[0]}<br>ValorTotalProyecto=%{x:,.0f}<br>TotalBeneficiario=%{y:,.0f}<br>CantidadProyectos=%{customdata[1]}<extra></extra>",
         "legendgroup": "Educación",
         "marker": {
          "color": "#B6E880",
          "line": {
           "width": 1
          },
          "size": {
           "bdata": "Pws=",
           "dtype": "i2"
          },
          "sizemode": "area",
          "sizeref": 1.7678,
          "symbol": "circle"
         },
         "mode": "markers",
         "name": "Educación",
         "orientation": "v",
         "showlegend": true,
         "type": "scatter",
         "x": {
          "bdata": "yAw29DDCo0I=",
          "dtype": "f8"
         },
         "xaxis": "x",
         "y": {
          "bdata": "AAAAkKsbfkE=",
          "dtype": "f8"
         },
         "yaxis": "y"
        },
        {
         "customdata": [
          [
           "Empleo Público",
           2
          ]
         ],
         "hovertemplate": "Sector=%{customdata[0]}<br>ValorTotalProyecto=%{x:,.0f}<br>TotalBeneficiario=%{y:,.0f}<br>CantidadProyectos=%{customdata[1]}<extra></extra>",
         "legendgroup": "Empleo Público",
         "marker": {
          "color": "#FF97FF",
          "line": {
           "width": 1
          },
          "size": {
           "bdata": "Ag==",
           "dtype": "i1"
          },
          "sizemode": "area",
          "sizeref": 1.7678,
          "symbol": "circle"
         },
         "mode": "markers",
         "name": "Empleo Público",
         "orientation": "v",
         "showlegend": true,
         "type": "scatter",
         "x": {
          "bdata": "uB5VGcYt3EE=",
          "dtype": "f8"
         },
         "xaxis": "x",
         "y": {
          "bdata": "AAAAAOCU6kA=",
          "dtype": "f8"
         },
         "yaxis": "y"
        },
        {
         "customdata": [
          [
           "Fiscalía",
           2
          ]
         ],
         "hovertemplate": "Sector=%{customdata[0]}<br>ValorTotalProyecto=%{x:,.0f}<br>TotalBeneficiario=%{y:,.0f}<br>CantidadProyectos=%{customdata[1]}<extra></extra>",
         "legendgroup": "Fiscalía",
         "marker": {
          "color": "#FECB52",
          "line": {
           "width": 1
          },
          "size": {
           "bdata": "Ag==",
           "dtype": "i1"
          },
          "sizemode": "area",
          "sizeref": 1.7678,
          "symbol": "circle"
         },
         "mode": "markers",
         "name": "Fiscalía",
         "orientation": "v",
         "showlegend": true,
         "type": "scatter",
         "x": {
          "bdata": "AADAJ9FP1UE=",
          "dtype": "f8"
         },
         "xaxis": "x",
         "y": {
          "bdata": "AAAAAOazSEE=",
          "dtype": "f8"
         },
         "yaxis": "y"
        },
        {
         "customdata": [
          [
           "Gobierno Territorial",
           395
          ]
         ],
         "hovertemplate": "Sector=%{customdata[0]}<br>ValorTotalProyecto=%{x:,.0f}<br>TotalBeneficiario=%{y:,.0f}<br>CantidadProyectos=%{customdata[1]}<extra></extra>",
         "legendgroup": "Gobierno Territorial",
         "marker": {
          "color": "#636efa",
          "line": {
           "width": 1
          },
          "size": {
           "bdata": "iwE=",
           "dtype": "i2"
          },
          "sizemode": "area",
          "sizeref": 1.7678,
          "symbol": "circle"
         },
         "mode": "markers",
         "name": "Gobierno Territorial",
         "orientation": "v",
         "showlegend": true,
         "type": "scatter",
         "x": {
          "bdata": "9qBuSpkvYEI=",
          "dtype": "f8"
         },
         "xaxis": "x",
         "y": {
          "bdata": "AAAA0DhseUE=",
          "dtype": "f8"
         },
         "yaxis": "y"
        },
        {
         "customdata": [
          [
           "Hacienda",
           0
          ]
         ],
         "hovertemplate": "Sector=%{customdata[0]}<br>ValorTotalProyecto=%{x:,.0f}<br>TotalBeneficiario=%{y:,.0f}<br>CantidadProyectos=%{customdata[1]}<extra></extra>",
         "legendgroup": "Hacienda",
         "marker": {
          "color": "#EF553B",
          "line": {
           "width": 1
          },
          "size": {
           "bdata": "AA==",
           "dtype": "i1"
          },
          "sizemode": "area",
          "sizeref": 1.7678,
          "symbol": "circle"
         },
         "mode": "markers",
         "name": "Hacienda",
         "orientation": "v",
         "showlegend": true,
         "type": "scatter",
         "x": {
          "bdata": "AAAAAAAAAAA=",
          "dtype": "f8"
         },
         "xaxis": "x",
         "y": {
          "bdata": "AAAAAAAAAAA=",
          "dtype": "f8"
         },
         "yaxis": "y"
        },
        {
         "customdata": [
          [
           "Igualdad Y Equidad",
           0
          ]
         ],
         "hovertemplate": "Sector=%{customdata[0]}<br>ValorTotalProyecto=%{x:,.0f}<br>TotalBeneficiario=%{y:,.0f}<br>CantidadProyectos=%{customdata[1]}<extra></extra>",
         "legendgroup": "Igualdad Y Equidad",
         "marker": {
          "color": "#00cc96",
          "line": {
           "width": 1
          },
          "size": {
           "bdata": "AA==",
           "dtype": "i1"
          },
          "sizemode": "area",
          "sizeref": 1.7678,
          "symbol": "circle"
         },
         "mode": "markers",
         "name": "Igualdad Y Equidad",
         "orientation": "v",
         "showlegend": true,
         "type": "scatter",
         "x": {
          "bdata": "AAAAAAAAAAA=",
          "dtype": "f8"
         },
         "xaxis": "x",
         "y": {
          "bdata": "AAAAAAAAAAA=",
          "dtype": "f8"
         },
         "yaxis": "y"
        },
        {
         "customdata": [
          [
           "Inclusión Social Y Reconciliación",
           846
          ]
         ],
         "hovertemplate": "Sector=%{customdata[0]}<br>ValorTotalProyecto=%{x:,.0f}<br>TotalBeneficiario=%{y:,.0f}<br>CantidadProyectos=%{customdata[1]}<extra></extra>",
         "legendgroup": "Inclusión Social Y Reconciliación",
         "marker": {
          "color": "#ab63fa",
          "line": {
           "width": 1
          },
          "size": {
           "bdata": "TgM=",
           "dtype": "i2"
          },
          "sizemode": "area",
          "sizeref": 1.7678,
          "symbol": "circle"
         },
         "mode": "markers",
         "name": "Inclusión Social Y Reconciliación",
         "orientation": "v",
         "showlegend": true,
         "type": "scatter",
         "x": {
          "bdata": "XOOqSORwdkI=",
          "dtype": "f8"
         },
         "xaxis": "x",
         "y": {
          "bdata": "AAAAIFdOYkE=",
          "dtype": "f8"
         },
         "yaxis": "y"
        },
        {
         "customdata": [
          [
           "Información Estadística",
           24
          ]
         ],
         "hovertemplate": "Sector=%{customdata[0]}<br>ValorTotalProyecto=%{x:,.0f}<br>TotalBeneficiario=%{y:,.0f}<br>CantidadProyectos=%{customdata[1]}<extra></extra>",
         "legendgroup": "Información Estadística",
         "marker": {
          "color": "#FFA15A",
          "line": {
           "width": 1
          },
          "size": {
           "bdata": "GA==",
           "dtype": "i1"
          },
          "sizemode": "area",
          "sizeref": 1.7678,
          "symbol": "circle"
         },
         "mode": "markers",
         "name": "Información Estadística",
         "orientation": "v",
         "showlegend": true,
         "type": "scatter",
         "x": {
          "bdata": "AAArC8dSKEI=",
          "dtype": "f8"
         },
         "xaxis": "x",
         "y": {
          "bdata": "AAAAIDuZYEE=",
          "dtype": "f8"
         },
         "yaxis": "y"
        },
        {
         "customdata": [
          [
           "Interior",
           100
          ]
         ],
         "hovertemplate": "Sector=%{customdata[0]}<br>ValorTotalProyecto=%{x:,.0f}<br>TotalBeneficiario=%{y:,.0f}<br>CantidadProyectos=%{customdata[1]}<extra></extra>",
         "legendgroup": "Interior",
         "marker": {
          "color": "#19d3f3",
          "line": {
           "width": 1
          },
          "size": {
           "bdata": "ZA==",
           "dtype": "i1"
          },
          "sizemode": "area",
          "sizeref": 1.7678,
          "symbol": "circle"
         },
         "mode": "markers",
         "name": "Interior",
         "orientation": "v",
         "showlegend": true,
         "type": "scatter",
         "x": {
          "bdata": "KVwxNBjnR0I=",
          "dtype": "f8"
         },
         "xaxis": "x",
         "y": {
          "bdata": "AAAAQPpLb0E=",
          "dtype": "f8"
         },
         "yaxis": "y"
        },
        {
         "customdata": [
          [
           "Justicia Y Del Derecho",
           44
          ]
         ],
         "hovertemplate": "Sector=%{customdata[0]}<br>ValorTotalProyecto=%{x:,.0f}<br>TotalBeneficiario=%{y:,.0f}<br>CantidadProyectos=%{customdata[1]}<extra></extra>",
         "legendgroup": "Justicia Y Del Derecho",
         "marker": {
          "color": "#FF6692",
          "line": {
           "width": 1
          },
          "size": {
           "bdata": "LA==",
           "dtype": "i1"
          },
          "sizemode": "area",
          "sizeref": 1.7678,
          "symbol": "circle"
         },
         "mode": "markers",
         "name": "Justicia Y Del Derecho",
         "orientation": "v",
         "showlegend": true,
         "type": "scatter",
         "x": {
          "bdata": "hSvw0ZiCOEI=",
          "dtype": "f8"
         },
         "xaxis": "x",
         "y": {
          "bdata": "AAAAgLMiSkE=",
          "dtype": "f8"
         },
         "yaxis": "y"
        },
        {
         "customdata": [
          [
           "Minas Y Energía",
           962
          ]
         ],
         "hovertemplate": "Sector=%{customdata[0]}<br>ValorTotalProyecto=%{x:,.0f}<br>TotalBeneficiario=%{y:,.0f}<br>CantidadProyectos=%{customdata[1]}<extra></extra>",
         "legendgroup": "Minas Y Energía",
         "marker": {
          "color": "#B6E880",
          "line": {
           "width": 1
          },
          "size": {
           "bdata": "wgM=",
           "dtype": "i2"
          },
          "sizemode": "area",
          "sizeref": 1.7678,
          "symbol": "circle"
         },
         "mode": "markers",
         "name": "Minas Y Energía",
         "orientation": "v",
         "showlegend": true,
         "type": "scatter",
         "x": {
          "bdata": "XF8+KTr1gkI=",
          "dtype": "f8"
         },
         "xaxis": "x",
         "y": {
          "bdata": "AAAAoH8+ZUE=",
          "dtype": "f8"
         },
         "yaxis": "y"
        },
        {
         "customdata": [
          [
           "Organismos De Control",
           0
          ]
         ],
         "hovertemplate": "Sector=%{customdata[0]}<br>ValorTotalProyecto=%{x:,.0f}<br>TotalBeneficiario=%{y:,.0f}<br>CantidadProyectos=%{customdata[1]}<extra></extra>",
         "legendgroup": "Organismos De Control",
         "marker": {
          "color": "#FF97FF",
          "line": {
           "width": 1
          },
          "size": {
           "bdata": "AA==",
           "dtype": "i1"
          },
          "sizemode": "area",
          "sizeref": 1.7678,
          "symbol": "circle"
         },
         "mode": "markers",
         "name": "Organismos De Control",
         "orientation": "v",
         "showlegend": true,
         "type": "scatter",
         "x": {
          "bdata": "AAAAAAAAAAA=",
          "dtype": "f8"
         },
         "xaxis": "x",
         "y": {
          "bdata": "AAAAAAAAAAA=",
          "dtype": "f8"
         },
         "yaxis": "y"
        },
        {
         "customdata": [
          [
           "Planeación",
           85
          ]
         ],
         "hovertemplate": "Sector=%{customdata[0]}<br>ValorTotalProyecto=%{x:,.0f}<br>TotalBeneficiario=%{y:,.0f}<br>CantidadProyectos=%{customdata[1]}<extra></extra>",
         "legendgroup": "Planeación",
         "marker": {
          "color": "#FECB52",
          "line": {
           "width": 1
          },
          "size": {
           "bdata": "VQ==",
           "dtype": "i1"
          },
          "sizemode": "area",
          "sizeref": 1.7678,
          "symbol": "circle"
         },
         "mode": "markers",
         "name": "Planeación",
         "orientation": "v",
         "showlegend": true,
         "type": "scatter",
         "x": {
          "bdata": "M/N7Y1w/MUI=",
          "dtype": "f8"
         },
         "xaxis": "x",
         "y": {
          "bdata": "AAAAwHSDV0E=",
          "dtype": "f8"
         },
         "yaxis": "y"
        },
        {
         "customdata": [
          [
           "Presidencia De La República",
           37
          ]
         ],
         "hovertemplate": "Sector=%{customdata[0]}<br>ValorTotalProyecto=%{x:,.0f}<br>TotalBeneficiario=%{y:,.0f}<br>CantidadProyectos=%{customdata[1]}<extra></extra>",
         "legendgroup": "Presidencia De La República",
         "marker": {
          "color": "#636efa",
          "line": {
           "width": 1
          },
          "size": {
           "bdata": "JQ==",
           "dtype": "i1"
          },
          "sizemode": "area",
          "sizeref": 1.7678,
          "symbol": "circle"
         },
         "mode": "markers",
         "name": "Presidencia De La República",
         "orientation": "v",
         "showlegend": true,
         "type": "scatter",
         "x": {
          "bdata": "zUx8ASfiJkI=",
          "dtype": "f8"
         },
         "xaxis": "x",
         "y": {
          "bdata": "AAAAAED3KEE=",
          "dtype": "f8"
         },
         "yaxis": "y"
        },
        {
         "customdata": [
          [
           "Rama Judicial",
           0
          ]
         ],
         "hovertemplate": "Sector=%{customdata[0]}<br>ValorTotalProyecto=%{x:,.0f}<br>TotalBeneficiario=%{y:,.0f}<br>CantidadProyectos=%{customdata[1]}<extra></extra>",
         "legendgroup": "Rama Judicial",
         "marker": {
          "color": "#EF553B",
          "line": {
           "width": 1
          },
          "size": {
           "bdata": "AA==",
           "dtype": "i1"
          },
          "sizemode": "area",
          "sizeref": 1.7678,
          "symbol": "circle"
         },
         "mode": "markers",
         "name": "Rama Judicial",
         "orientation": "v",
         "showlegend": true,
         "type": "scatter",
         "x": {
          "bdata": "AAAAAAAAAAA=",
          "dtype": "f8"
         },
         "xaxis": "x",
         "y": {
          "bdata": "AAAAAAAAAAA=",
          "dtype": "f8"
         },
         "yaxis": "y"
        },
        {
         "customdata": [
          [
           "Registraduría",
           0
          ]
         ],
         "hovertemplate": "Sector=%{customdata[0]}<br>ValorTotalProyecto=%{x:,.0f}<br>TotalBeneficiario=%{y:,.0f}<br>CantidadProyectos=%{customdata[1]}<extra></extra>",
         "legendgroup": "Registraduría",
         "marker": {
          "color": "#00cc96",
          "line": {
           "width": 1
          },
          "size": {
           "bdata": "AA==",
           "dtype": "i1"
          },
          "sizemode": "area",
          "sizeref": 1.7678,
          "symbol": "circle"
         },
         "mode": "markers",
         "name": "Registraduría",
         "orientation": "v",
         "showlegend": true,
         "type": "scatter",
         "x": {
          "bdata": "AAAAAAAAAAA=",
          "dtype": "f8"
         },
         "xaxis": "x",
         "y": {
          "bdata": "AAAAAAAAAAA=",
          "dtype": "f8"
         },
         "yaxis": "y"
        },
        {
         "customdata": [
          [
           "Relaciones Exteriores",
           1
          ]
         ],
         "hovertemplate": "Sector=%{customdata[0]}<br>ValorTotalProyecto=%{x:,.0f}<br>TotalBeneficiario=%{y:,.0f}<br>CantidadProyectos=%{customdata[1]}<extra></extra>",
         "legendgroup": "Relaciones Exteriores",
         "marker": {
          "color": "#ab63fa",
          "line": {
           "width": 1
          },
          "size": {
           "bdata": "AQ==",
           "dtype": "i1"
          },
          "sizemode": "area",
          "sizeref": 1.7678,
          "symbol": "circle"
         },
         "mode": "markers",
         "name": "Relaciones Exteriores",
         "orientation": "v",
         "showlegend": true,
         "type": "scatter",
         "x": {
          "bdata": "ZmaGwJDW0EE=",
          "dtype": "f8"
         },
         "xaxis": "x",
         "y": {
          "bdata": "AAAAANAy8kA=",
          "dtype": "f8"
         },
         "yaxis": "y"
        },
        {
         "customdata": [
          [
           "Salud Y Protección Social",
           677
          ]
         ],
         "hovertemplate": "Sector=%{customdata[0]}<br>ValorTotalProyecto=%{x:,.0f}<br>TotalBeneficiario=%{y:,.0f}<br>CantidadProyectos=%{customdata[1]}<extra></extra>",
         "legendgroup": "Salud Y Protección Social",
         "marker": {
          "color": "#FFA15A",
          "line": {
           "width": 1
          },
          "size": {
           "bdata": "pQI=",
           "dtype": "i2"
          },
          "sizemode": "area",
          "sizeref": 1.7678,
          "symbol": "circle"
         },
         "mode": "markers",
         "name": "Salud Y Protección Social",
         "orientation": "v",
         "showlegend": true,
         "type": "scatter",
         "x": {
          "bdata": "SH3ZkhDceEI=",
          "dtype": "f8"
         },
         "xaxis": "x",
         "y": {
          "bdata": "AAAAgIuFlEE=",
          "dtype": "f8"
         },
         "yaxis": "y"
        },
        {
         "customdata": [
          [
           "Sistema Integral De Verdad, Justicia, Reparación Y No Repetición",
           0
          ]
         ],
         "hovertemplate": "Sector=%{customdata[0]}<br>ValorTotalProyecto=%{x:,.0f}<br>TotalBeneficiario=%{y:,.0f}<br>CantidadProyectos=%{customdata[1]}<extra></extra>",
         "legendgroup": "Sistema Integral De Verdad, Justicia, Reparación Y No Repetición",
         "marker": {
          "color": "#19d3f3",
          "line": {
           "width": 1
          },
          "size": {
           "bdata": "AA==",
           "dtype": "i1"
          },
          "sizemode": "area",
          "sizeref": 1.7678,
          "symbol": "circle"
         },
         "mode": "markers",
         "name": "Sistema Integral De Verdad, Justicia, Reparación Y No Repetición",
         "orientation": "v",
         "showlegend": true,
         "type": "scatter",
         "x": {
          "bdata": "AAAAAAAAAAA=",
          "dtype": "f8"
         },
         "xaxis": "x",
         "y": {
          "bdata": "AAAAAAAAAAA=",
          "dtype": "f8"
         },
         "yaxis": "y"
        },
        {
         "customdata": [
          [
           "Tecnologías De La Información Y Las Comunicaciones",
           95
          ]
         ],
         "hovertemplate": "Sector=%{customdata[0]}<br>ValorTotalProyecto=%{x:,.0f}<br>TotalBeneficiario=%{y:,.0f}<br>CantidadProyectos=%{customdata[1]}<extra></extra>",
         "legendgroup": "Tecnologías De La Información Y Las Comunicaciones",
         "marker": {
          "color": "#FF6692",
          "line": {
           "width": 1
          },
          "size": {
           "bdata": "Xw==",
           "dtype": "i1"
          },
          "sizemode": "area",
          "sizeref": 1.7678,
          "symbol": "circle"
         },
         "mode": "markers",
         "name": "Tecnologías De La Información Y Las Comunicaciones",
         "orientation": "v",
         "showlegend": true,
         "type": "scatter",
         "x": {
          "bdata": "1zMYH6L0WUI=",
          "dtype": "f8"
         },
         "xaxis": "x",
         "y": {
          "bdata": "AAAAsD0ehEE=",
          "dtype": "f8"
         },
         "yaxis": "y"
        },
        {
         "customdata": [
          [
           "Trabajo",
           46
          ]
         ],
         "hovertemplate": "Sector=%{customdata[0]}<br>ValorTotalProyecto=%{x:,.0f}<br>TotalBeneficiario=%{y:,.0f}<br>CantidadProyectos=%{customdata[1]}<extra></extra>",
         "legendgroup": "Trabajo",
         "marker": {
          "color": "#B6E880",
          "line": {
           "width": 1
          },
          "size": {
           "bdata": "Lg==",
           "dtype": "i1"
          },
          "sizemode": "area",
          "sizeref": 1.7678,
          "symbol": "circle"
         },
         "mode": "markers",
         "name": "Trabajo",
         "orientation": "v",
         "showlegend": true,
         "type": "scatter",
         "x": {
          "bdata": "AADYPFFYNkI=",
          "dtype": "f8"
         },
         "xaxis": "x",
         "y": {
          "bdata": "AAAAAEZLJ0E=",
          "dtype": "f8"
         },
         "yaxis": "y"
        },
        {
         "customdata": [
          [
           "Transporte",
           8839
          ]
         ],
         "hovertemplate": "Sector=%{customdata[0]}<br>ValorTotalProyecto=%{x:,.0f}<br>TotalBeneficiario=%{y:,.0f}<br>CantidadProyectos=%{customdata[1]}<extra></extra>",
         "legendgroup": "Transporte",
         "marker": {
          "color": "#FF97FF",
          "line": {
           "width": 1
          },
          "size": {
           "bdata": "hyI=",
           "dtype": "i2"
          },
          "sizemode": "area",
          "sizeref": 1.7678,
          "symbol": "circle"
         },
         "mode": "markers",
         "name": "Transporte",
         "orientation": "v",
         "showlegend": true,
         "type": "scatter",
         "x": {
          "bdata": "BWOeWvqitUI=",
          "dtype": "f8"
         },
         "xaxis": "x",
         "y": {
          "bdata": "AAAAxRI1s0E=",
          "dtype": "f8"
         },
         "yaxis": "y"
        },
        {
         "customdata": [
          [
           "Vivienda, Ciudad Y Territorio",
           3810
          ]
         ],
         "hovertemplate": "Sector=%{customdata[0]}<br>ValorTotalProyecto=%{x:,.0f}<br>TotalBeneficiario=%{y:,.0f}<br>CantidadProyectos=%{customdata[1]}<extra></extra>",
         "legendgroup": "Vivienda, Ciudad Y Territorio",
         "marker": {
          "color": "#FECB52",
          "line": {
           "width": 1
          },
          "size": {
           "bdata": "4g4=",
           "dtype": "i2"
          },
          "sizemode": "area",
          "sizeref": 1.7678,
          "symbol": "circle"
         },
         "mode": "markers",
         "name": "Vivienda, Ciudad Y Territorio",
         "orientation": "v",
         "showlegend": true,
         "type": "scatter",
         "x": {
          "bdata": "hTPsWyaHn0I=",
          "dtype": "f8"
         },
         "xaxis": "x",
         "y": {
          "bdata": "AAAAGCDnl0E=",
          "dtype": "f8"
         },
         "yaxis": "y"
        }
       ],
       "layout": {
        "height": 700,
        "legend": {
         "itemsizing": "constant",
         "title": {
          "text": "Sector"
         },
         "tracegroupgap": 0
        },
        "template": {
         "data": {
          "bar": [
           {
            "error_x": {
             "color": "#2a3f5f"
            },
            "error_y": {
             "color": "#2a3f5f"
            },
            "marker": {
             "line": {
              "color": "#E5ECF6",
              "width": 0.5
             },
             "pattern": {
              "fillmode": "overlay",
              "size": 10,
              "solidity": 0.2
             }
            },
            "type": "bar"
           }
          ],
          "barpolar": [
           {
            "marker": {
             "line": {
              "color": "#E5ECF6",
              "width": 0.5
             },
             "pattern": {
              "fillmode": "overlay",
              "size": 10,
              "solidity": 0.2
             }
            },
            "type": "barpolar"
           }
          ],
          "carpet": [
           {
            "aaxis": {
             "endlinecolor": "#2a3f5f",
             "gridcolor": "white",
             "linecolor": "white",
             "minorgridcolor": "white",
             "startlinecolor": "#2a3f5f"
            },
            "baxis": {
             "endlinecolor": "#2a3f5f",
             "gridcolor": "white",
             "linecolor": "white",
             "minorgridcolor": "white",
             "startlinecolor": "#2a3f5f"
            },
            "type": "carpet"
           }
          ],
          "choropleth": [
           {
            "colorbar": {
             "outlinewidth": 0,
             "ticks": ""
            },
            "type": "choropleth"
           }
          ],
          "contour": [
           {
            "colorbar": {
             "outlinewidth": 0,
             "ticks": ""
            },
            "colorscale": [
             [
              0,
              "#0d0887"
             ],
             [
              0.1111111111111111,
              "#46039f"
             ],
             [
              0.2222222222222222,
              "#7201a8"
             ],
             [
              0.3333333333333333,
              "#9c179e"
             ],
             [
              0.4444444444444444,
              "#bd3786"
             ],
             [
              0.5555555555555556,
              "#d8576b"
             ],
             [
              0.6666666666666666,
              "#ed7953"
             ],
             [
              0.7777777777777778,
              "#fb9f3a"
             ],
             [
              0.8888888888888888,
              "#fdca26"
             ],
             [
              1,
              "#f0f921"
             ]
            ],
            "type": "contour"
           }
          ],
          "contourcarpet": [
           {
            "colorbar": {
             "outlinewidth": 0,
             "ticks": ""
            },
            "type": "contourcarpet"
           }
          ],
          "heatmap": [
           {
            "colorbar": {
             "outlinewidth": 0,
             "ticks": ""
            },
            "colorscale": [
             [
              0,
              "#0d0887"
             ],
             [
              0.1111111111111111,
              "#46039f"
             ],
             [
              0.2222222222222222,
              "#7201a8"
             ],
             [
              0.3333333333333333,
              "#9c179e"
             ],
             [
              0.4444444444444444,
              "#bd3786"
             ],
             [
              0.5555555555555556,
              "#d8576b"
             ],
             [
              0.6666666666666666,
              "#ed7953"
             ],
             [
              0.7777777777777778,
              "#fb9f3a"
             ],
             [
              0.8888888888888888,
              "#fdca26"
             ],
             [
              1,
              "#f0f921"
             ]
            ],
            "type": "heatmap"
           }
          ],
          "histogram": [
           {
            "marker": {
             "pattern": {
              "fillmode": "overlay",
              "size": 10,
              "solidity": 0.2
             }
            },
            "type": "histogram"
           }
          ],
          "histogram2d": [
           {
            "colorbar": {
             "outlinewidth": 0,
             "ticks": ""
            },
            "colorscale": [
             [
              0,
              "#0d0887"
             ],
             [
              0.1111111111111111,
              "#46039f"
             ],
             [
              0.2222222222222222,
              "#7201a8"
             ],
             [
              0.3333333333333333,
              "#9c179e"
             ],
             [
              0.4444444444444444,
              "#bd3786"
             ],
             [
              0.5555555555555556,
              "#d8576b"
             ],
             [
              0.6666666666666666,
              "#ed7953"
             ],
             [
              0.7777777777777778,
              "#fb9f3a"
             ],
             [
              0.8888888888888888,
              "#fdca26"
             ],
             [
              1,
              "#f0f921"
             ]
            ],
            "type": "histogram2d"
           }
          ],
          "histogram2dcontour": [
           {
            "colorbar": {
             "outlinewidth": 0,
             "ticks": ""
            },
            "colorscale": [
             [
              0,
              "#0d0887"
             ],
             [
              0.1111111111111111,
              "#46039f"
             ],
             [
              0.2222222222222222,
              "#7201a8"
             ],
             [
              0.3333333333333333,
              "#9c179e"
             ],
             [
              0.4444444444444444,
              "#bd3786"
             ],
             [
              0.5555555555555556,
              "#d8576b"
             ],
             [
              0.6666666666666666,
              "#ed7953"
             ],
             [
              0.7777777777777778,
              "#fb9f3a"
             ],
             [
              0.8888888888888888,
              "#fdca26"
             ],
             [
              1,
              "#f0f921"
             ]
            ],
            "type": "histogram2dcontour"
           }
          ],
          "mesh3d": [
           {
            "colorbar": {
             "outlinewidth": 0,
             "ticks": ""
            },
            "type": "mesh3d"
           }
          ],
          "parcoords": [
           {
            "line": {
             "colorbar": {
              "outlinewidth": 0,
              "ticks": ""
             }
            },
            "type": "parcoords"
           }
          ],
          "pie": [
           {
            "automargin": true,
            "type": "pie"
           }
          ],
          "scatter": [
           {
            "fillpattern": {
             "fillmode": "overlay",
             "size": 10,
             "solidity": 0.2
            },
            "type": "scatter"
           }
          ],
          "scatter3d": [
           {
            "line": {
             "colorbar": {
              "outlinewidth": 0,
              "ticks": ""
             }
            },
            "marker": {
             "colorbar": {
              "outlinewidth": 0,
              "ticks": ""
             }
            },
            "type": "scatter3d"
           }
          ],
          "scattercarpet": [
           {
            "marker": {
             "colorbar": {
              "outlinewidth": 0,
              "ticks": ""
             }
            },
            "type": "scattercarpet"
           }
          ],
          "scattergeo": [
           {
            "marker": {
             "colorbar": {
              "outlinewidth": 0,
              "ticks": ""
             }
            },
            "type": "scattergeo"
           }
          ],
          "scattergl": [
           {
            "marker": {
             "colorbar": {
              "outlinewidth": 0,
              "ticks": ""
             }
            },
            "type": "scattergl"
           }
          ],
          "scattermap": [
           {
            "marker": {
             "colorbar": {
              "outlinewidth": 0,
              "ticks": ""
             }
            },
            "type": "scattermap"
           }
          ],
          "scattermapbox": [
           {
            "marker": {
             "colorbar": {
              "outlinewidth": 0,
              "ticks": ""
             }
            },
            "type": "scattermapbox"
           }
          ],
          "scatterpolar": [
           {
            "marker": {
             "colorbar": {
              "outlinewidth": 0,
              "ticks": ""
             }
            },
            "type": "scatterpolar"
           }
          ],
          "scatterpolargl": [
           {
            "marker": {
             "colorbar": {
              "outlinewidth": 0,
              "ticks": ""
             }
            },
            "type": "scatterpolargl"
           }
          ],
          "scatterternary": [
           {
            "marker": {
             "colorbar": {
              "outlinewidth": 0,
              "ticks": ""
             }
            },
            "type": "scatterternary"
           }
          ],
          "surface": [
           {
            "colorbar": {
             "outlinewidth": 0,
             "ticks": ""
            },
            "colorscale": [
             [
              0,
              "#0d0887"
             ],
             [
              0.1111111111111111,
              "#46039f"
             ],
             [
              0.2222222222222222,
              "#7201a8"
             ],
             [
              0.3333333333333333,
              "#9c179e"
             ],
             [
              0.4444444444444444,
              "#bd3786"
             ],
             [
              0.5555555555555556,
              "#d8576b"
             ],
             [
              0.6666666666666666,
              "#ed7953"
             ],
             [
              0.7777777777777778,
              "#fb9f3a"
             ],
             [
              0.8888888888888888,
              "#fdca26"
             ],
             [
              1,
              "#f0f921"
             ]
            ],
            "type": "surface"
           }
          ],
          "table": [
           {
            "cells": {
             "fill": {
              "color": "#EBF0F8"
             },
             "line": {
              "color": "white"
             }
            },
            "header": {
             "fill": {
              "color": "#C8D4E3"
             },
             "line": {
              "color": "white"
             }
            },
            "type": "table"
           }
          ]
         },
         "layout": {
          "annotationdefaults": {
           "arrowcolor": "#2a3f5f",
           "arrowhead": 0,
           "arrowwidth": 1
          },
          "autotypenumbers": "strict",
          "coloraxis": {
           "colorbar": {
            "outlinewidth": 0,
            "ticks": ""
           }
          },
          "colorscale": {
           "diverging": [
            [
             0,
             "#8e0152"
            ],
            [
             0.1,
             "#c51b7d"
            ],
            [
             0.2,
             "#de77ae"
            ],
            [
             0.3,
             "#f1b6da"
            ],
            [
             0.4,
             "#fde0ef"
            ],
            [
             0.5,
             "#f7f7f7"
            ],
            [
             0.6,
             "#e6f5d0"
            ],
            [
             0.7,
             "#b8e186"
            ],
            [
             0.8,
             "#7fbc41"
            ],
            [
             0.9,
             "#4d9221"
            ],
            [
             1,
             "#276419"
            ]
           ],
           "sequential": [
            [
             0,
             "#0d0887"
            ],
            [
             0.1111111111111111,
             "#46039f"
            ],
            [
             0.2222222222222222,
             "#7201a8"
            ],
            [
             0.3333333333333333,
             "#9c179e"
            ],
            [
             0.4444444444444444,
             "#bd3786"
            ],
            [
             0.5555555555555556,
             "#d8576b"
            ],
            [
             0.6666666666666666,
             "#ed7953"
            ],
            [
             0.7777777777777778,
             "#fb9f3a"
            ],
            [
             0.8888888888888888,
             "#fdca26"
            ],
            [
             1,
             "#f0f921"
            ]
           ],
           "sequentialminus": [
            [
             0,
             "#0d0887"
            ],
            [
             0.1111111111111111,
             "#46039f"
            ],
            [
             0.2222222222222222,
             "#7201a8"
            ],
            [
             0.3333333333333333,
             "#9c179e"
            ],
            [
             0.4444444444444444,
             "#bd3786"
            ],
            [
             0.5555555555555556,
             "#d8576b"
            ],
            [
             0.6666666666666666,
             "#ed7953"
            ],
            [
             0.7777777777777778,
             "#fb9f3a"
            ],
            [
             0.8888888888888888,
             "#fdca26"
            ],
            [
             1,
             "#f0f921"
            ]
           ]
          },
          "colorway": [
           "#636efa",
           "#EF553B",
           "#00cc96",
           "#ab63fa",
           "#FFA15A",
           "#19d3f3",
           "#FF6692",
           "#B6E880",
           "#FF97FF",
           "#FECB52"
          ],
          "font": {
           "color": "#2a3f5f"
          },
          "geo": {
           "bgcolor": "white",
           "lakecolor": "white",
           "landcolor": "#E5ECF6",
           "showlakes": true,
           "showland": true,
           "subunitcolor": "white"
          },
          "hoverlabel": {
           "align": "left"
          },
          "hovermode": "closest",
          "mapbox": {
           "style": "light"
          },
          "paper_bgcolor": "white",
          "plot_bgcolor": "#E5ECF6",
          "polar": {
           "angularaxis": {
            "gridcolor": "white",
            "linecolor": "white",
            "ticks": ""
           },
           "bgcolor": "#E5ECF6",
           "radialaxis": {
            "gridcolor": "white",
            "linecolor": "white",
            "ticks": ""
           }
          },
          "scene": {
           "xaxis": {
            "backgroundcolor": "#E5ECF6",
            "gridcolor": "white",
            "gridwidth": 2,
            "linecolor": "white",
            "showbackground": true,
            "ticks": "",
            "zerolinecolor": "white"
           },
           "yaxis": {
            "backgroundcolor": "#E5ECF6",
            "gridcolor": "white",
            "gridwidth": 2,
            "linecolor": "white",
            "showbackground": true,
            "ticks": "",
            "zerolinecolor": "white"
           },
           "zaxis": {
            "backgroundcolor": "#E5ECF6",
            "gridcolor": "white",
            "gridwidth": 2,
            "linecolor": "white",
            "showbackground": true,
            "ticks": "",
            "zerolinecolor": "white"
           }
          },
          "shapedefaults": {
           "line": {
            "color": "#2a3f5f"
           }
          },
          "ternary": {
           "aaxis": {
            "gridcolor": "white",
            "linecolor": "white",
            "ticks": ""
           },
           "baxis": {
            "gridcolor": "white",
            "linecolor": "white",
            "ticks": ""
           },
           "bgcolor": "#E5ECF6",
           "caxis": {
            "gridcolor": "white",
            "linecolor": "white",
            "ticks": ""
           }
          },
          "title": {
           "x": 0.05
          },
          "xaxis": {
           "automargin": true,
           "gridcolor": "white",
           "linecolor": "white",
           "ticks": "",
           "title": {
            "standoff": 15
           },
           "zerolinecolor": "white",
           "zerolinewidth": 2
          },
          "yaxis": {
           "automargin": true,
           "gridcolor": "white",
           "linecolor": "white",
           "ticks": "",
           "title": {
            "standoff": 15
           },
           "zerolinecolor": "white",
           "zerolinewidth": 2
          }
         }
        },
        "title": {
         "text": "RELACIÓN COSTO-BENEFICIARIOS-CANTIDAD DE PROYECTO CON ESTADO FINALIZADOS"
        },
        "width": 1000,
        "xaxis": {
         "anchor": "y",
         "domain": [
          0,
          1
         ],
         "title": {
          "text": "Inversión total (COP, log)"
         },
         "type": "log"
        },
        "yaxis": {
         "anchor": "x",
         "domain": [
          0,
          1
         ],
         "title": {
          "text": "Total beneficiarios (log)"
         },
         "type": "log"
        }
       }
      }
     },
     "metadata": {},
     "output_type": "display_data"
    }
   ],
   "source": [
    "import plotly.express as px\n",
    "\n",
    "# Agrupar por sector\n",
    "sector_stats = df_finalizado.groupby(\"Sector\").agg({\n",
    "    \"ValorTotalProyecto\": \"sum\",\n",
    "    \"TotalBeneficiario\": \"sum\",\n",
    "    \"Bpin\": \"count\"\n",
    "}).rename(columns={\"Bpin\":\"CantidadProyectos\"}).reset_index()\n",
    "\n",
    "# Scatter interactivo\n",
    "fig = px.scatter(\n",
    "    sector_stats,\n",
    "    x=\"ValorTotalProyecto\",\n",
    "    y=\"TotalBeneficiario\",\n",
    "    size=\"CantidadProyectos\",\n",
    "    color=\"Sector\",\n",
    "    log_x=True,\n",
    "    log_y=True,\n",
    "    hover_data={\n",
    "        \"Sector\": True,\n",
    "        \"CantidadProyectos\": True,\n",
    "        \"ValorTotalProyecto\": \":,.0f\",  # formato con separador de miles\n",
    "        \"TotalBeneficiario\": \":,.0f\"\n",
    "    },\n",
    "    title=\"RELACIÓN COSTO-BENEFICIARIOS-CANTIDAD DE PROYECTO CON ESTADO FINALIZADOS\"\n",
    ")\n",
    "\n",
    "# Ajustar tamaño de burbujas\n",
    "fig.update_traces(marker=dict(sizemode=\"area\", sizeref=2.*max(sector_stats[\"CantidadProyectos\"])/(100**2), line_width=1))\n",
    "\n",
    "# Ajustar diseño\n",
    "fig.update_layout(\n",
    "    legend_title=\"Sector\",\n",
    "    xaxis_title=\"Inversión total (COP, log)\",\n",
    "    yaxis_title=\"Total beneficiarios (log)\",\n",
    "    width=1000,\n",
    "    height=700\n",
    ")\n",
    "\n",
    "fig.show()"
   ]
  },
  {
   "cell_type": "code",
   "execution_count": 43,
   "id": "80349fbc",
   "metadata": {},
   "outputs": [
    {
     "name": "stderr",
     "output_type": "stream",
     "text": [
      "C:\\Users\\diego\\AppData\\Local\\Temp\\ipykernel_37164\\924507943.py:3: FutureWarning:\n",
      "\n",
      "The default of observed=False is deprecated and will be changed to True in a future version of pandas. Pass observed=False to retain current behavior or observed=True to adopt the future default and silence this warning.\n",
      "\n",
      "C:\\Users\\diego\\AppData\\Local\\Temp\\ipykernel_37164\\924507943.py:7: FutureWarning:\n",
      "\n",
      "The default of observed=False is deprecated and will be changed to True in a future version of pandas. Pass observed=False to retain current behavior or observed=True to adopt the future default and silence this warning.\n",
      "\n"
     ]
    },
    {
     "data": {
      "application/vnd.plotly.v1+json": {
       "config": {
        "plotlyServerURL": "https://plot.ly"
       },
       "data": [
        {
         "marker": {
          "color": "rgb(107,174,214)"
         },
         "text": {
          "bdata": "AAAAAIBDwUAAAAAAAMStQAAAAAAAsKZAAAAAAAB+pkAAAAAAALifQA==",
          "dtype": "f8"
         },
         "textposition": "outside",
         "type": "bar",
         "x": [
          "Transporte",
          "Vivienda, Ciudad Y Territorio",
          "Deporte Y Recreación",
          "Educación",
          "Ambiente Y Desarrollo Sostenible"
         ],
         "xaxis": "x",
         "y": {
          "bdata": "hyLiDlgLPwvuBw==",
          "dtype": "i2"
         },
         "yaxis": "y"
        },
        {
         "marker": {
          "color": "rgb(116,196,118)"
         },
         "text": [
          "23.79B",
          "10.86B",
          "8.67B",
          "4.35B",
          "3.57B"
         ],
         "textposition": "outside",
         "type": "bar",
         "x": [
          "Transporte",
          "Educación",
          "Vivienda, Ciudad Y Territorio",
          "Deporte Y Recreación",
          "Agricultura Y Desarrollo Rural"
         ],
         "xaxis": "x2",
         "y": {
          "bdata": "6JspsCvKN0DaqPRBirklQMG0TFspVSFAFmxeIY9mEUCB/EkCIYUMQA==",
          "dtype": "f8"
         },
         "yaxis": "y2"
        },
        {
         "marker": {
          "color": "rgb(33,113,181)"
         },
         "text": [
          "364.9M",
          "322.2M",
          "153.4M",
          "100.3M",
          "86.1M"
         ],
         "textposition": "outside",
         "type": "bar",
         "x": [
          "Ciencia, Tecnología E Innovación",
          "Transporte",
          "Ambiente Y Desarrollo Sostenible",
          "Vivienda, Ciudad Y Territorio",
          "Salud Y Protección Social"
         ],
         "xaxis": "x3",
         "y": {
          "bdata": "bhlwlpLOdkBywoTR7CN0QIM0Y9H0LWNA7nw/NV4QWUBpUgq6vYRVQA==",
          "dtype": "f8"
         },
         "yaxis": "y3"
        }
       ],
       "layout": {
        "annotations": [
         {
          "font": {
           "size": 16
          },
          "showarrow": false,
          "text": "Top 5 Sectores con más Proyectos",
          "x": 0.14444444444444446,
          "xanchor": "center",
          "xref": "paper",
          "y": 1,
          "yanchor": "bottom",
          "yref": "paper"
         },
         {
          "font": {
           "size": 16
          },
          "showarrow": false,
          "text": "Top 5 Sectores por Valor Total (Billones)",
          "x": 0.5,
          "xanchor": "center",
          "xref": "paper",
          "y": 1,
          "yanchor": "bottom",
          "yref": "paper"
         },
         {
          "font": {
           "size": 16
          },
          "showarrow": false,
          "text": "Top 5 Sectores con más Beneficiarios (Millones)",
          "x": 0.8555555555555556,
          "xanchor": "center",
          "xref": "paper",
          "y": 1,
          "yanchor": "bottom",
          "yref": "paper"
         }
        ],
        "height": 500,
        "showlegend": false,
        "template": {
         "data": {
          "bar": [
           {
            "error_x": {
             "color": "#2a3f5f"
            },
            "error_y": {
             "color": "#2a3f5f"
            },
            "marker": {
             "line": {
              "color": "#E5ECF6",
              "width": 0.5
             },
             "pattern": {
              "fillmode": "overlay",
              "size": 10,
              "solidity": 0.2
             }
            },
            "type": "bar"
           }
          ],
          "barpolar": [
           {
            "marker": {
             "line": {
              "color": "#E5ECF6",
              "width": 0.5
             },
             "pattern": {
              "fillmode": "overlay",
              "size": 10,
              "solidity": 0.2
             }
            },
            "type": "barpolar"
           }
          ],
          "carpet": [
           {
            "aaxis": {
             "endlinecolor": "#2a3f5f",
             "gridcolor": "white",
             "linecolor": "white",
             "minorgridcolor": "white",
             "startlinecolor": "#2a3f5f"
            },
            "baxis": {
             "endlinecolor": "#2a3f5f",
             "gridcolor": "white",
             "linecolor": "white",
             "minorgridcolor": "white",
             "startlinecolor": "#2a3f5f"
            },
            "type": "carpet"
           }
          ],
          "choropleth": [
           {
            "colorbar": {
             "outlinewidth": 0,
             "ticks": ""
            },
            "type": "choropleth"
           }
          ],
          "contour": [
           {
            "colorbar": {
             "outlinewidth": 0,
             "ticks": ""
            },
            "colorscale": [
             [
              0,
              "#0d0887"
             ],
             [
              0.1111111111111111,
              "#46039f"
             ],
             [
              0.2222222222222222,
              "#7201a8"
             ],
             [
              0.3333333333333333,
              "#9c179e"
             ],
             [
              0.4444444444444444,
              "#bd3786"
             ],
             [
              0.5555555555555556,
              "#d8576b"
             ],
             [
              0.6666666666666666,
              "#ed7953"
             ],
             [
              0.7777777777777778,
              "#fb9f3a"
             ],
             [
              0.8888888888888888,
              "#fdca26"
             ],
             [
              1,
              "#f0f921"
             ]
            ],
            "type": "contour"
           }
          ],
          "contourcarpet": [
           {
            "colorbar": {
             "outlinewidth": 0,
             "ticks": ""
            },
            "type": "contourcarpet"
           }
          ],
          "heatmap": [
           {
            "colorbar": {
             "outlinewidth": 0,
             "ticks": ""
            },
            "colorscale": [
             [
              0,
              "#0d0887"
             ],
             [
              0.1111111111111111,
              "#46039f"
             ],
             [
              0.2222222222222222,
              "#7201a8"
             ],
             [
              0.3333333333333333,
              "#9c179e"
             ],
             [
              0.4444444444444444,
              "#bd3786"
             ],
             [
              0.5555555555555556,
              "#d8576b"
             ],
             [
              0.6666666666666666,
              "#ed7953"
             ],
             [
              0.7777777777777778,
              "#fb9f3a"
             ],
             [
              0.8888888888888888,
              "#fdca26"
             ],
             [
              1,
              "#f0f921"
             ]
            ],
            "type": "heatmap"
           }
          ],
          "histogram": [
           {
            "marker": {
             "pattern": {
              "fillmode": "overlay",
              "size": 10,
              "solidity": 0.2
             }
            },
            "type": "histogram"
           }
          ],
          "histogram2d": [
           {
            "colorbar": {
             "outlinewidth": 0,
             "ticks": ""
            },
            "colorscale": [
             [
              0,
              "#0d0887"
             ],
             [
              0.1111111111111111,
              "#46039f"
             ],
             [
              0.2222222222222222,
              "#7201a8"
             ],
             [
              0.3333333333333333,
              "#9c179e"
             ],
             [
              0.4444444444444444,
              "#bd3786"
             ],
             [
              0.5555555555555556,
              "#d8576b"
             ],
             [
              0.6666666666666666,
              "#ed7953"
             ],
             [
              0.7777777777777778,
              "#fb9f3a"
             ],
             [
              0.8888888888888888,
              "#fdca26"
             ],
             [
              1,
              "#f0f921"
             ]
            ],
            "type": "histogram2d"
           }
          ],
          "histogram2dcontour": [
           {
            "colorbar": {
             "outlinewidth": 0,
             "ticks": ""
            },
            "colorscale": [
             [
              0,
              "#0d0887"
             ],
             [
              0.1111111111111111,
              "#46039f"
             ],
             [
              0.2222222222222222,
              "#7201a8"
             ],
             [
              0.3333333333333333,
              "#9c179e"
             ],
             [
              0.4444444444444444,
              "#bd3786"
             ],
             [
              0.5555555555555556,
              "#d8576b"
             ],
             [
              0.6666666666666666,
              "#ed7953"
             ],
             [
              0.7777777777777778,
              "#fb9f3a"
             ],
             [
              0.8888888888888888,
              "#fdca26"
             ],
             [
              1,
              "#f0f921"
             ]
            ],
            "type": "histogram2dcontour"
           }
          ],
          "mesh3d": [
           {
            "colorbar": {
             "outlinewidth": 0,
             "ticks": ""
            },
            "type": "mesh3d"
           }
          ],
          "parcoords": [
           {
            "line": {
             "colorbar": {
              "outlinewidth": 0,
              "ticks": ""
             }
            },
            "type": "parcoords"
           }
          ],
          "pie": [
           {
            "automargin": true,
            "type": "pie"
           }
          ],
          "scatter": [
           {
            "fillpattern": {
             "fillmode": "overlay",
             "size": 10,
             "solidity": 0.2
            },
            "type": "scatter"
           }
          ],
          "scatter3d": [
           {
            "line": {
             "colorbar": {
              "outlinewidth": 0,
              "ticks": ""
             }
            },
            "marker": {
             "colorbar": {
              "outlinewidth": 0,
              "ticks": ""
             }
            },
            "type": "scatter3d"
           }
          ],
          "scattercarpet": [
           {
            "marker": {
             "colorbar": {
              "outlinewidth": 0,
              "ticks": ""
             }
            },
            "type": "scattercarpet"
           }
          ],
          "scattergeo": [
           {
            "marker": {
             "colorbar": {
              "outlinewidth": 0,
              "ticks": ""
             }
            },
            "type": "scattergeo"
           }
          ],
          "scattergl": [
           {
            "marker": {
             "colorbar": {
              "outlinewidth": 0,
              "ticks": ""
             }
            },
            "type": "scattergl"
           }
          ],
          "scattermap": [
           {
            "marker": {
             "colorbar": {
              "outlinewidth": 0,
              "ticks": ""
             }
            },
            "type": "scattermap"
           }
          ],
          "scattermapbox": [
           {
            "marker": {
             "colorbar": {
              "outlinewidth": 0,
              "ticks": ""
             }
            },
            "type": "scattermapbox"
           }
          ],
          "scatterpolar": [
           {
            "marker": {
             "colorbar": {
              "outlinewidth": 0,
              "ticks": ""
             }
            },
            "type": "scatterpolar"
           }
          ],
          "scatterpolargl": [
           {
            "marker": {
             "colorbar": {
              "outlinewidth": 0,
              "ticks": ""
             }
            },
            "type": "scatterpolargl"
           }
          ],
          "scatterternary": [
           {
            "marker": {
             "colorbar": {
              "outlinewidth": 0,
              "ticks": ""
             }
            },
            "type": "scatterternary"
           }
          ],
          "surface": [
           {
            "colorbar": {
             "outlinewidth": 0,
             "ticks": ""
            },
            "colorscale": [
             [
              0,
              "#0d0887"
             ],
             [
              0.1111111111111111,
              "#46039f"
             ],
             [
              0.2222222222222222,
              "#7201a8"
             ],
             [
              0.3333333333333333,
              "#9c179e"
             ],
             [
              0.4444444444444444,
              "#bd3786"
             ],
             [
              0.5555555555555556,
              "#d8576b"
             ],
             [
              0.6666666666666666,
              "#ed7953"
             ],
             [
              0.7777777777777778,
              "#fb9f3a"
             ],
             [
              0.8888888888888888,
              "#fdca26"
             ],
             [
              1,
              "#f0f921"
             ]
            ],
            "type": "surface"
           }
          ],
          "table": [
           {
            "cells": {
             "fill": {
              "color": "#EBF0F8"
             },
             "line": {
              "color": "white"
             }
            },
            "header": {
             "fill": {
              "color": "#C8D4E3"
             },
             "line": {
              "color": "white"
             }
            },
            "type": "table"
           }
          ]
         },
         "layout": {
          "annotationdefaults": {
           "arrowcolor": "#2a3f5f",
           "arrowhead": 0,
           "arrowwidth": 1
          },
          "autotypenumbers": "strict",
          "coloraxis": {
           "colorbar": {
            "outlinewidth": 0,
            "ticks": ""
           }
          },
          "colorscale": {
           "diverging": [
            [
             0,
             "#8e0152"
            ],
            [
             0.1,
             "#c51b7d"
            ],
            [
             0.2,
             "#de77ae"
            ],
            [
             0.3,
             "#f1b6da"
            ],
            [
             0.4,
             "#fde0ef"
            ],
            [
             0.5,
             "#f7f7f7"
            ],
            [
             0.6,
             "#e6f5d0"
            ],
            [
             0.7,
             "#b8e186"
            ],
            [
             0.8,
             "#7fbc41"
            ],
            [
             0.9,
             "#4d9221"
            ],
            [
             1,
             "#276419"
            ]
           ],
           "sequential": [
            [
             0,
             "#0d0887"
            ],
            [
             0.1111111111111111,
             "#46039f"
            ],
            [
             0.2222222222222222,
             "#7201a8"
            ],
            [
             0.3333333333333333,
             "#9c179e"
            ],
            [
             0.4444444444444444,
             "#bd3786"
            ],
            [
             0.5555555555555556,
             "#d8576b"
            ],
            [
             0.6666666666666666,
             "#ed7953"
            ],
            [
             0.7777777777777778,
             "#fb9f3a"
            ],
            [
             0.8888888888888888,
             "#fdca26"
            ],
            [
             1,
             "#f0f921"
            ]
           ],
           "sequentialminus": [
            [
             0,
             "#0d0887"
            ],
            [
             0.1111111111111111,
             "#46039f"
            ],
            [
             0.2222222222222222,
             "#7201a8"
            ],
            [
             0.3333333333333333,
             "#9c179e"
            ],
            [
             0.4444444444444444,
             "#bd3786"
            ],
            [
             0.5555555555555556,
             "#d8576b"
            ],
            [
             0.6666666666666666,
             "#ed7953"
            ],
            [
             0.7777777777777778,
             "#fb9f3a"
            ],
            [
             0.8888888888888888,
             "#fdca26"
            ],
            [
             1,
             "#f0f921"
            ]
           ]
          },
          "colorway": [
           "#636efa",
           "#EF553B",
           "#00cc96",
           "#ab63fa",
           "#FFA15A",
           "#19d3f3",
           "#FF6692",
           "#B6E880",
           "#FF97FF",
           "#FECB52"
          ],
          "font": {
           "color": "#2a3f5f"
          },
          "geo": {
           "bgcolor": "white",
           "lakecolor": "white",
           "landcolor": "#E5ECF6",
           "showlakes": true,
           "showland": true,
           "subunitcolor": "white"
          },
          "hoverlabel": {
           "align": "left"
          },
          "hovermode": "closest",
          "mapbox": {
           "style": "light"
          },
          "paper_bgcolor": "white",
          "plot_bgcolor": "#E5ECF6",
          "polar": {
           "angularaxis": {
            "gridcolor": "white",
            "linecolor": "white",
            "ticks": ""
           },
           "bgcolor": "#E5ECF6",
           "radialaxis": {
            "gridcolor": "white",
            "linecolor": "white",
            "ticks": ""
           }
          },
          "scene": {
           "xaxis": {
            "backgroundcolor": "#E5ECF6",
            "gridcolor": "white",
            "gridwidth": 2,
            "linecolor": "white",
            "showbackground": true,
            "ticks": "",
            "zerolinecolor": "white"
           },
           "yaxis": {
            "backgroundcolor": "#E5ECF6",
            "gridcolor": "white",
            "gridwidth": 2,
            "linecolor": "white",
            "showbackground": true,
            "ticks": "",
            "zerolinecolor": "white"
           },
           "zaxis": {
            "backgroundcolor": "#E5ECF6",
            "gridcolor": "white",
            "gridwidth": 2,
            "linecolor": "white",
            "showbackground": true,
            "ticks": "",
            "zerolinecolor": "white"
           }
          },
          "shapedefaults": {
           "line": {
            "color": "#2a3f5f"
           }
          },
          "ternary": {
           "aaxis": {
            "gridcolor": "white",
            "linecolor": "white",
            "ticks": ""
           },
           "baxis": {
            "gridcolor": "white",
            "linecolor": "white",
            "ticks": ""
           },
           "bgcolor": "#E5ECF6",
           "caxis": {
            "gridcolor": "white",
            "linecolor": "white",
            "ticks": ""
           }
          },
          "title": {
           "x": 0.05
          },
          "xaxis": {
           "automargin": true,
           "gridcolor": "white",
           "linecolor": "white",
           "ticks": "",
           "title": {
            "standoff": 15
           },
           "zerolinecolor": "white",
           "zerolinewidth": 2
          },
          "yaxis": {
           "automargin": true,
           "gridcolor": "white",
           "linecolor": "white",
           "ticks": "",
           "title": {
            "standoff": 15
           },
           "zerolinecolor": "white",
           "zerolinewidth": 2
          }
         }
        },
        "title": {
         "text": "Comparación de Sectores – Proyectos Finalizados",
         "x": 0.5
        },
        "width": 1500,
        "xaxis": {
         "anchor": "y",
         "domain": [
          0,
          0.2888888888888889
         ],
         "tickangle": 45
        },
        "xaxis2": {
         "anchor": "y2",
         "domain": [
          0.35555555555555557,
          0.6444444444444445
         ],
         "tickangle": 45
        },
        "xaxis3": {
         "anchor": "y3",
         "domain": [
          0.7111111111111111,
          1
         ],
         "tickangle": 45
        },
        "yaxis": {
         "anchor": "x",
         "domain": [
          0,
          1
         ],
         "range": [
          0,
          10164.849999999999
         ]
        },
        "yaxis2": {
         "anchor": "x2",
         "domain": [
          0,
          1
         ],
         "range": [
          0,
          27.35818849724027
         ]
        },
        "yaxis3": {
         "anchor": "x3",
         "domain": [
          0,
          1
         ],
         "range": [
          0,
          419.6474062
         ]
        }
       }
      }
     },
     "metadata": {},
     "output_type": "display_data"
    }
   ],
   "source": [
    "top5_proyectos = df_finalizado[\"Sector\"].value_counts().head(5)\n",
    "top5_valor = (\n",
    "    df_finalizado.groupby(\"Sector\")[\"ValorTotalProyecto\"].sum()\n",
    "    .sort_values(ascending=False).head(5) / 1e12\n",
    ")\n",
    "top5_benef = (\n",
    "    df_finalizado.groupby(\"Sector\")[\"TotalBeneficiario\"].sum()\n",
    "    .sort_values(ascending=False).head(5) / 1e6\n",
    ")\n",
    "\n",
    "# --- Subplots ---\n",
    "fig = make_subplots(\n",
    "    rows=1, cols=3,\n",
    "    subplot_titles=[\n",
    "        \"Top 5 Sectores con más Proyectos\",\n",
    "        \"Top 5 Sectores por Valor Total (Billones)\",\n",
    "        \"Top 5 Sectores con más Beneficiarios (Millones)\"\n",
    "    ]\n",
    ")\n",
    "\n",
    "# 1) Proyectos\n",
    "fig.add_trace(\n",
    "    go.Bar(\n",
    "        x=top5_proyectos.index,\n",
    "        y=top5_proyectos.values,\n",
    "        text=top5_proyectos.values,\n",
    "        textposition=\"outside\",\n",
    "        marker_color=px.colors.sequential.Blues[4]\n",
    "    ),\n",
    "    row=1, col=1\n",
    ")\n",
    "fig.update_yaxes(range=[0, top5_proyectos.max() * 1.15], row=1, col=1)\n",
    "\n",
    "# 2) Valor total (billones)\n",
    "fig.add_trace(\n",
    "    go.Bar(\n",
    "        x=top5_valor.index,\n",
    "        y=top5_valor.values,\n",
    "        text=[f\"{v:.2f}B\" for v in top5_valor.values],\n",
    "        textposition=\"outside\",\n",
    "        marker_color=px.colors.sequential.Greens[4]\n",
    "    ),\n",
    "    row=1, col=2\n",
    ")\n",
    "fig.update_yaxes(range=[0, top5_valor.max() * 1.15], row=1, col=2)\n",
    "\n",
    "# 3) Beneficiarios (millones)\n",
    "fig.add_trace(\n",
    "    go.Bar(\n",
    "        x=top5_benef.index,\n",
    "        y=top5_benef.values,\n",
    "        text=[f\"{v:.1f}M\" for v in top5_benef.values],\n",
    "        textposition=\"outside\",\n",
    "        marker_color=px.colors.sequential.Blues[6]\n",
    "    ),\n",
    "    row=1, col=3\n",
    ")\n",
    "fig.update_yaxes(range=[0, top5_benef.max() * 1.15], row=1, col=3)\n",
    "\n",
    "# --- Layout ---\n",
    "fig.update_layout(\n",
    "    width=1500, height=500,\n",
    "    showlegend=False,\n",
    "    title_text=\"Comparación de Sectores – Proyectos Finalizados\",\n",
    "    title_x=0.5\n",
    ")\n",
    "\n",
    "fig.update_xaxes(tickangle=45)\n",
    "\n",
    "fig.show()"
   ]
  },
  {
   "cell_type": "code",
   "execution_count": null,
   "id": "de92293c",
   "metadata": {},
   "outputs": [],
   "source": []
  }
 ],
 "metadata": {
  "kernelspec": {
   "display_name": "Python 3",
   "language": "python",
   "name": "python3"
  },
  "language_info": {
   "codemirror_mode": {
    "name": "ipython",
    "version": 3
   },
   "file_extension": ".py",
   "mimetype": "text/x-python",
   "name": "python",
   "nbconvert_exporter": "python",
   "pygments_lexer": "ipython3",
   "version": "3.13.5"
  }
 },
 "nbformat": 4,
 "nbformat_minor": 5
}
